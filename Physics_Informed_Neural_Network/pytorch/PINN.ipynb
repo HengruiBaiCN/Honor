{
 "cells": [
  {
   "cell_type": "code",
   "execution_count": 1,
   "metadata": {},
   "outputs": [],
   "source": [
    "import torch\n",
    "import torch.nn as nn\n",
    "import torch.optim as optim\n",
    "import torch.autograd as tgrad\n",
    "import numpy as np\n",
    "import os\n",
    "import time\n",
    "\n",
    "import utils\n",
    "\n",
    "import networks\n",
    "\n",
    "import matplotlib.pyplot as plt\n",
    "\n",
    "import importlib"
   ]
  },
  {
   "cell_type": "code",
   "execution_count": 2,
   "metadata": {},
   "outputs": [
    {
     "name": "stdout",
     "output_type": "stream",
     "text": [
      "True\n",
      "cuda\n"
     ]
    }
   ],
   "source": [
    "os.environ['KMP_DUPLICATE_LIB_OK']='True'\n",
    "device = torch.device('cuda' if torch.cuda.is_available() else 'cpu')\n",
    "print(torch.cuda.is_available())\n",
    "# torch.set_default_tensor_type(torch.DoubleTensor)\n",
    "print(device)\n",
    "\n",
    "if device == 'cuda': \n",
    "    print(torch.cuda.get_device_name())"
   ]
  },
  {
   "attachments": {},
   "cell_type": "markdown",
   "metadata": {},
   "source": [
    "# Data Sampling\n",
    "Here in our case, the system is European Call Option PDE and the physical information about the system consists of Boundary Value conditions, final Value conditions and the PDE itself."
   ]
  },
  {
   "cell_type": "code",
   "execution_count": 3,
   "metadata": {},
   "outputs": [],
   "source": [
    "K = 50\n",
    "r = 0.035\n",
    "sigma = 0.2\n",
    "T = 1\n",
    "S_range = [0, int(5*K)]\n",
    "t_range = [0, T]\n",
    "gs = lambda x: np.fmax(x-K, 0)"
   ]
  },
  {
   "attachments": {},
   "cell_type": "markdown",
   "metadata": {},
   "source": [
    "# Build Neural Network"
   ]
  },
  {
   "cell_type": "code",
   "execution_count": 4,
   "metadata": {},
   "outputs": [
    {
     "data": {
      "text/plain": [
       "FeedforwardNeuralNetwork(\n",
       "  (layers): ModuleList(\n",
       "    (0): Linear(in_features=2, out_features=50, bias=True)\n",
       "    (1-7): 7 x Linear(in_features=50, out_features=50, bias=True)\n",
       "  )\n",
       "  (output): Linear(in_features=50, out_features=1, bias=True)\n",
       "  (relu): ReLU()\n",
       ")"
      ]
     },
     "execution_count": 4,
     "metadata": {},
     "output_type": "execute_result"
    }
   ],
   "source": [
    "pinn = networks.FeedforwardNeuralNetwork(2, 50, 1, 8)\n",
    "pinn.cuda()"
   ]
  },
  {
   "cell_type": "code",
   "execution_count": 5,
   "metadata": {},
   "outputs": [],
   "source": [
    "import torchimize\n",
    "# parallel levenberg-marquardt for several optimization problems at multiple costs\n",
    "# from torchimize.functions import lsq_lma_parallel\n",
    "# coeffs_list = lsq_lma_parallel(\n",
    "#                     p = initials_batch,\n",
    "#                     function = multi_cost_fun_batch,\n",
    "#                     jac_function = multi_jac_fun_batch,\n",
    "#                     args = (other_args,),\n",
    "#                     wvec = torch.ones(5, device='cuda', dtype=initials_batch.dtype),\n",
    "#                     ftol = 1e-8,\n",
    "#                     ptol = 1e-8,\n",
    "#                     gtol = 1e-8,\n",
    "#                     meth = 'marq',\n",
    "#                     max_iter = 40,\n",
    "#                 )\n",
    "\n",
    "n_epochs = 30000\n",
    "lossFunction = nn.MSELoss()\n",
    "\n",
    "from torchimize.functions import lsq_lma\n",
    "# coeffs_list = lsq_lma(fnn.parameters(), function=lossFunction)\n",
    "optimizer = optim.Adam(pinn.parameters(), lr=0.00003)\n",
    "\n",
    "samples = {\"pde\": 5000, \"bc\":500, \"fc\":500}"
   ]
  },
  {
   "attachments": {},
   "cell_type": "markdown",
   "metadata": {},
   "source": [
    "# Modelling\n",
    "\n",
    "- For each iteration in the training loop, we are sampling data for the three physical conditions of the PDE.\n",
    "- Then we are calculating the loss three times on the same model, accumulating them into a combined objective function to be minimised for the Neural Network.\n",
    "- The first loss is the differential equation loss. Here we are trying to minimise the PDE by calculating gradients and forming the PDE itself.\n",
    "- The remaining losses are calculated for boundary value and initial value conditions for the PDE.\n",
    "- Mean Squared Error loss function `nn.MSELoss()` is chosen as the criterion to be minimised and \n",
    "- Adam optimizer `nn.optim.Adam(lr=3e-5)` with a learning rate of 0.00003 is chosen for performing the weight updates."
   ]
  },
  {
   "cell_type": "code",
   "execution_count": 6,
   "metadata": {},
   "outputs": [
    {
     "name": "stdout",
     "output_type": "stream",
     "text": [
      "0/30000 PDE Loss: 0.00001, BC Loss: 16884.71484, total loss: 16884.714844, minimum loss: 16884.71484\n",
      "500/30000 PDE Loss: 0.03020, BC Loss: 4542.60107, total loss: 4542.631348, minimum loss: 4542.63135\n",
      "1000/30000 PDE Loss: 0.00743, BC Loss: 164.39935, total loss: 164.406784, minimum loss: 164.40678\n",
      "1500/30000 PDE Loss: 0.80311, BC Loss: 149.07271, total loss: 149.875824, minimum loss: 149.87582\n",
      "2000/30000 PDE Loss: 11.71070, BC Loss: 104.63575, total loss: 116.346451, minimum loss: 116.34645\n",
      "2500/30000 PDE Loss: 26.29072, BC Loss: 60.95219, total loss: 87.242905, minimum loss: 87.24290\n",
      "3000/30000 PDE Loss: 24.21111, BC Loss: 30.84291, total loss: 55.054024, minimum loss: 55.05402\n",
      "3500/30000 PDE Loss: 11.13585, BC Loss: 8.17955, total loss: 19.315405, minimum loss: 19.31540\n",
      "4000/30000 PDE Loss: 1.23236, BC Loss: 0.59297, total loss: 1.825328, minimum loss: 1.82533\n",
      "4500/30000 PDE Loss: 0.02145, BC Loss: 0.04019, total loss: 0.061644, minimum loss: 0.04907\n",
      "5000/30000 PDE Loss: 0.00084, BC Loss: 0.05535, total loss: 0.056193, minimum loss: 0.00673\n",
      "5500/30000 PDE Loss: 0.11472, BC Loss: 0.00956, total loss: 0.124282, minimum loss: 0.00588\n",
      "6000/30000 PDE Loss: 0.01611, BC Loss: 0.00184, total loss: 0.017954, minimum loss: 0.00588\n",
      "6500/30000 PDE Loss: 0.00253, BC Loss: 0.00049, total loss: 0.003022, minimum loss: 0.00302\n",
      "7000/30000 PDE Loss: 0.01372, BC Loss: 0.00263, total loss: 0.016346, minimum loss: 0.00300\n",
      "7500/30000 PDE Loss: 0.04370, BC Loss: 0.04318, total loss: 0.086878, minimum loss: 0.00300\n",
      "8000/30000 PDE Loss: 0.06945, BC Loss: 0.00788, total loss: 0.077329, minimum loss: 0.00300\n",
      "8500/30000 PDE Loss: 0.10050, BC Loss: 0.05000, total loss: 0.150498, minimum loss: 0.00300\n",
      "9000/30000 PDE Loss: 0.10046, BC Loss: 0.54832, total loss: 0.648777, minimum loss: 0.00300\n",
      "9500/30000 PDE Loss: 0.12702, BC Loss: 0.03579, total loss: 0.162808, minimum loss: 0.00300\n",
      "10000/30000 PDE Loss: 0.10551, BC Loss: 6.66852, total loss: 6.774030, minimum loss: 0.00300\n",
      "10500/30000 PDE Loss: 0.00028, BC Loss: 0.00048, total loss: 0.000762, minimum loss: 0.00076\n",
      "11000/30000 PDE Loss: 0.00028, BC Loss: 0.00021, total loss: 0.000492, minimum loss: 0.00049\n",
      "11500/30000 PDE Loss: 0.00028, BC Loss: 0.00012, total loss: 0.000399, minimum loss: 0.00040\n",
      "12000/30000 PDE Loss: 0.00037, BC Loss: 0.01152, total loss: 0.011895, minimum loss: 0.00038\n",
      "12500/30000 PDE Loss: 0.00031, BC Loss: 0.00133, total loss: 0.001633, minimum loss: 0.00038\n",
      "13000/30000 PDE Loss: 0.00035, BC Loss: 0.00318, total loss: 0.003527, minimum loss: 0.00038\n",
      "13500/30000 PDE Loss: 0.00044, BC Loss: 0.09455, total loss: 0.094991, minimum loss: 0.00038\n",
      "14000/30000 PDE Loss: 0.00041, BC Loss: 0.00038, total loss: 0.000790, minimum loss: 0.00038\n",
      "14500/30000 PDE Loss: 0.00029, BC Loss: 0.00001, total loss: 0.000303, minimum loss: 0.00030\n",
      "15000/30000 PDE Loss: 0.00029, BC Loss: 0.00001, total loss: 0.000295, minimum loss: 0.00029\n",
      "15500/30000 PDE Loss: 0.00029, BC Loss: 0.00001, total loss: 0.000293, minimum loss: 0.00029\n",
      "16000/30000 PDE Loss: 0.00029, BC Loss: 0.00000, total loss: 0.000290, minimum loss: 0.00029\n",
      "16500/30000 PDE Loss: 0.00028, BC Loss: 0.00000, total loss: 0.000287, minimum loss: 0.00029\n",
      "17000/30000 PDE Loss: 0.00028, BC Loss: 0.00000, total loss: 0.000284, minimum loss: 0.00028\n",
      "17500/30000 PDE Loss: 0.00028, BC Loss: 0.00000, total loss: 0.000281, minimum loss: 0.00028\n",
      "18000/30000 PDE Loss: 0.00300, BC Loss: 0.00612, total loss: 0.009119, minimum loss: 0.00028\n",
      "18500/30000 PDE Loss: 0.00034, BC Loss: 0.00138, total loss: 0.001721, minimum loss: 0.00028\n",
      "19000/30000 PDE Loss: 0.00029, BC Loss: 0.00048, total loss: 0.000767, minimum loss: 0.00028\n",
      "19500/30000 PDE Loss: 0.00028, BC Loss: 0.00036, total loss: 0.000649, minimum loss: 0.00028\n",
      "20000/30000 PDE Loss: 0.00028, BC Loss: 0.00029, total loss: 0.000573, minimum loss: 0.00028\n",
      "20500/30000 PDE Loss: 0.00232, BC Loss: 0.00260, total loss: 0.004913, minimum loss: 0.00028\n",
      "21000/30000 PDE Loss: 0.00027, BC Loss: 0.00014, total loss: 0.000406, minimum loss: 0.00028\n",
      "21500/30000 PDE Loss: 0.00027, BC Loss: 0.00009, total loss: 0.000357, minimum loss: 0.00028\n",
      "22000/30000 PDE Loss: 0.00027, BC Loss: 0.00008, total loss: 0.000347, minimum loss: 0.00028\n",
      "22500/30000 PDE Loss: 0.00027, BC Loss: 0.00007, total loss: 0.000340, minimum loss: 0.00028\n",
      "23000/30000 PDE Loss: 0.00027, BC Loss: 0.00006, total loss: 0.000336, minimum loss: 0.00028\n",
      "23500/30000 PDE Loss: 0.00027, BC Loss: 0.00006, total loss: 0.000329, minimum loss: 0.00028\n",
      "24000/30000 PDE Loss: 0.03014, BC Loss: 0.01001, total loss: 0.040141, minimum loss: 0.00028\n",
      "24500/30000 PDE Loss: 0.00323, BC Loss: 0.00046, total loss: 0.003686, minimum loss: 0.00028\n",
      "25000/30000 PDE Loss: 0.00294, BC Loss: 0.00030, total loss: 0.003241, minimum loss: 0.00028\n",
      "25500/30000 PDE Loss: 0.00274, BC Loss: 0.00026, total loss: 0.002993, minimum loss: 0.00028\n",
      "26000/30000 PDE Loss: 0.00962, BC Loss: 0.00208, total loss: 0.011703, minimum loss: 0.00028\n",
      "26500/30000 PDE Loss: 0.00038, BC Loss: 0.00108, total loss: 0.001461, minimum loss: 0.00028\n",
      "27000/30000 PDE Loss: 0.00029, BC Loss: 0.00043, total loss: 0.000729, minimum loss: 0.00028\n",
      "27500/30000 PDE Loss: 0.00028, BC Loss: 0.00019, total loss: 0.000469, minimum loss: 0.00028\n",
      "28000/30000 PDE Loss: 0.00027, BC Loss: 0.00010, total loss: 0.000372, minimum loss: 0.00028\n",
      "28500/30000 PDE Loss: 0.00027, BC Loss: 0.00006, total loss: 0.000326, minimum loss: 0.00028\n",
      "29000/30000 PDE Loss: 0.00027, BC Loss: 0.00048, total loss: 0.000750, minimum loss: 0.00028\n",
      "29500/30000 PDE Loss: 0.00027, BC Loss: 0.00005, total loss: 0.000311, minimum loss: 0.00028\n",
      "run time: 175.06028723716736\n"
     ]
    }
   ],
   "source": [
    "loss_hist = []\n",
    "start_time = time.time()\n",
    "\n",
    "for epoch in range(n_epochs):\n",
    "    \n",
    "    bc_st_train, bc_v_train, n_st_train, n_v_train = \\\n",
    "    utils.trainingData(K, \n",
    "                       r, \n",
    "                       sigma, \n",
    "                       T, \n",
    "                       S_range[-1], \n",
    "                       S_range, \n",
    "                       t_range, \n",
    "                       gs, \n",
    "                       samples['bc'], \n",
    "                       samples['fc'], \n",
    "                       samples['pde'], \n",
    "                       RNG_key=123)\n",
    "    # save training data points to tensor and send to device\n",
    "    n_st_train = torch.from_numpy(n_st_train).float().requires_grad_().to(device)\n",
    "    n_v_train = torch.from_numpy(n_v_train).float().to(device)\n",
    "    \n",
    "    bc_st_train = torch.from_numpy(bc_st_train).float().to(device)\n",
    "    bc_v_train = torch.from_numpy(bc_v_train).float().to(device)\n",
    "    \n",
    "    \n",
    "    # PDE Round\n",
    "    y1_hat = pinn(n_st_train)\n",
    "    grads = tgrad.grad(y1_hat, n_st_train, grad_outputs=torch.ones(y1_hat.shape).cuda(), retain_graph=True, create_graph=True, only_inputs=True)[0]\n",
    "    # print(grads)\n",
    "    dVdt, dVdS = grads[:, 0].view(-1, 1), grads[:, 1].view(-1, 1)\n",
    "    grads2nd = tgrad.grad(dVdS, n_st_train, grad_outputs=torch.ones(dVdS.shape).cuda(), create_graph=True, only_inputs=True)[0]\n",
    "    # print(grads2nd)\n",
    "    d2VdS2 = grads2nd[:, 1].view(-1, 1)\n",
    "    S1 = n_st_train[:, 1].view(-1, 1)\n",
    "    pde_loss = lossFunction(-dVdt, 0.5*((sigma*S1)**2)*d2VdS2 + r*S1*dVdS - r*y1_hat)\n",
    "    \n",
    "    \n",
    "    # conditions Round\n",
    "    y21_hat = pinn(bc_st_train)\n",
    "    bc_loss = lossFunction(bc_v_train, y21_hat)\n",
    "    \n",
    "    \n",
    "    # Backpropagation and Update\n",
    "    optimizer.zero_grad()\n",
    "    combined_loss = pde_loss + bc_loss\n",
    "    combined_loss.backward()\n",
    "    optimizer.step()\n",
    "    \n",
    "    loss_hist.append(combined_loss.item())\n",
    "    if epoch % 500 == 0:\n",
    "        print(f'{epoch}/{n_epochs} PDE Loss: {pde_loss.item():.5f}, BC Loss: {bc_loss.item():.5f}, total loss: {combined_loss.item():5f}, minimum loss: {min(loss_hist):.5f}')\n",
    "\n",
    "end_time = time.time()\n",
    "print('run time:', end_time - start_time)"
   ]
  },
  {
   "cell_type": "code",
   "execution_count": 7,
   "metadata": {},
   "outputs": [
    {
     "name": "stdout",
     "output_type": "stream",
     "text": [
      "tensor([-0.0002], device='cuda:0', grad_fn=<SelectBackward0>)\n",
      "tensor([0.0004], device='cuda:0', grad_fn=<SelectBackward0>)\n",
      "tensor([0.], device='cuda:0')\n",
      "tensor([0.], device='cuda:0')\n",
      "0.16016879677772522\n"
     ]
    }
   ],
   "source": [
    "print(utils.test(device, pinn))"
   ]
  }
 ],
 "metadata": {
  "kernelspec": {
   "display_name": "honor",
   "language": "python",
   "name": "python3"
  },
  "language_info": {
   "codemirror_mode": {
    "name": "ipython",
    "version": 3
   },
   "file_extension": ".py",
   "mimetype": "text/x-python",
   "name": "python",
   "nbconvert_exporter": "python",
   "pygments_lexer": "ipython3",
   "version": "3.9.16"
  },
  "orig_nbformat": 4
 },
 "nbformat": 4,
 "nbformat_minor": 2
}
