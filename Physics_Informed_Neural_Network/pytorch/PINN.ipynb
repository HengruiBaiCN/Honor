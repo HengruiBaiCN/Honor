{
 "cells": [
  {
   "cell_type": "code",
   "execution_count": 1,
   "metadata": {},
   "outputs": [],
   "source": [
    "import torch\n",
    "import torch.nn as nn\n",
    "import torch.optim as optim\n",
    "import torch.autograd as tgrad\n",
    "from sklearn.model_selection import train_test_split\n",
    "\n",
    "import os\n",
    "import time\n",
    "import numpy as np\n",
    "import pandas as pd\n",
    "\n",
    "\n",
    "import utils\n",
    "\n",
    "import networks\n",
    "\n",
    "import matplotlib.pyplot as plt\n",
    "\n",
    "import importlib"
   ]
  },
  {
   "cell_type": "code",
   "execution_count": 2,
   "metadata": {},
   "outputs": [
    {
     "name": "stdout",
     "output_type": "stream",
     "text": [
      "True\n",
      "cuda\n"
     ]
    }
   ],
   "source": [
    "os.environ['KMP_DUPLICATE_LIB_OK']='True'\n",
    "device = torch.device('cuda' if torch.cuda.is_available() else 'cpu')\n",
    "print(torch.cuda.is_available())\n",
    "# torch.set_default_tensor_type(torch.DoubleTensor)\n",
    "print(device)\n",
    "\n",
    "if device == 'cuda': \n",
    "    print(torch.cuda.get_device_name())"
   ]
  },
  {
   "attachments": {},
   "cell_type": "markdown",
   "metadata": {},
   "source": [
    "# Data Sampling\n",
    "Here in our case, the system is European Call Option PDE and the physical information about the system consists of Boundary Value conditions, final Value conditions and the PDE itself."
   ]
  },
  {
   "cell_type": "code",
   "execution_count": 3,
   "metadata": {},
   "outputs": [],
   "source": [
    "K = 50\n",
    "r = 0.035\n",
    "sigma = 0.2\n",
    "T = 1\n",
    "S_range = [0, int(5*K)]\n",
    "t_range = [0, T]\n",
    "gs = lambda x: np.fmax(x-K, 0)"
   ]
  },
  {
   "attachments": {},
   "cell_type": "markdown",
   "metadata": {},
   "source": [
    "# Build Neural Network"
   ]
  },
  {
   "cell_type": "code",
   "execution_count": 4,
   "metadata": {},
   "outputs": [
    {
     "data": {
      "text/plain": [
       "FeedforwardNeuralNetwork(\n",
       "  (layers): ModuleList(\n",
       "    (0): Linear(in_features=2, out_features=50, bias=True)\n",
       "    (1-7): 7 x Linear(in_features=50, out_features=50, bias=True)\n",
       "  )\n",
       "  (output): Linear(in_features=50, out_features=1, bias=True)\n",
       "  (relu): ReLU()\n",
       ")"
      ]
     },
     "execution_count": 4,
     "metadata": {},
     "output_type": "execute_result"
    }
   ],
   "source": [
    "pinn = networks.FeedforwardNeuralNetwork(2, 50, 1, 8)\n",
    "pinn.cuda()"
   ]
  },
  {
   "cell_type": "code",
   "execution_count": 5,
   "metadata": {},
   "outputs": [],
   "source": [
    "import torchimize\n",
    "# parallel levenberg-marquardt for several optimization problems at multiple costs\n",
    "# from torchimize.functions import lsq_lma_parallel\n",
    "# coeffs_list = lsq_lma_parallel(\n",
    "#                     p = initials_batch,\n",
    "#                     function = multi_cost_fun_batch,\n",
    "#                     jac_function = multi_jac_fun_batch,\n",
    "#                     args = (other_args,),\n",
    "#                     wvec = torch.ones(5, device='cuda', dtype=initials_batch.dtype),\n",
    "#                     ftol = 1e-8,\n",
    "#                     ptol = 1e-8,\n",
    "#                     gtol = 1e-8,\n",
    "#                     meth = 'marq',\n",
    "#                     max_iter = 40,\n",
    "#                 )\n",
    "\n",
    "n_epochs = 30000\n",
    "lossFunction = nn.MSELoss()\n",
    "\n",
    "from torchimize.functions import lsq_lma\n",
    "# coeffs_list = lsq_lma(fnn.parameters(), function=lossFunction)\n",
    "optimizer = optim.Adam(pinn.parameters(), lr=0.00003)\n",
    "\n",
    "samples = {\"pde\": 5000, \"bc\":500, \"fc\":500}"
   ]
  },
  {
   "cell_type": "code",
   "execution_count": null,
   "metadata": {},
   "outputs": [],
   "source": [
    "data = pd.read_csv(\"sample.csv\")\n",
    "\n",
    "# the size of each grid\n",
    "ds = 250/200\n",
    "dt = 1 / 10000\n",
    "\n",
    "input_data = []\n",
    "output_data = []\n",
    "for row_index, row in data.iterrows():\n",
    "    for col_index, value in enumerate(row):\n",
    "        input_data.append([(10000-row_index)*dt, col_index*ds])  # Store row and column index as input\n",
    "        output_data.append([value])  # Store the corresponding value as output\n",
    "# X = torch.tensor(input_data, dtype=torch.float32).to(device)\n",
    "# y = torch.tensor(output_data, dtype=torch.float32).to(device)\n",
    "\n",
    "X_train, X_test, y_train, y_test = train_test_split(input_data, output_data, test_size=0.2, random_state=42)\n",
    "\n",
    "# Convert data to PyTorch tensors\n",
    "X_train_tensor = torch.tensor(X_train, dtype=torch.float32).to(device)\n",
    "y_train_tensor = torch.tensor(y_train, dtype=torch.float32).to(device)\n",
    "X_test_tensor = torch.tensor(X_test, dtype=torch.float32).to(device)\n",
    "y_test_tensor = torch.tensor(y_test, dtype=torch.float32).to(device)"
   ]
  },
  {
   "attachments": {},
   "cell_type": "markdown",
   "metadata": {},
   "source": [
    "# Modelling\n",
    "\n",
    "- For each iteration in the training loop, we are sampling data for the three physical conditions of the PDE.\n",
    "- Then we are calculating the loss three times on the same model, accumulating them into a combined objective function to be minimised for the Neural Network.\n",
    "- The first loss is the differential equation loss. Here we are trying to minimise the PDE by calculating gradients and forming the PDE itself.\n",
    "- The remaining losses are calculated for boundary value and initial value conditions for the PDE.\n",
    "- Mean Squared Error loss function `nn.MSELoss()` is chosen as the criterion to be minimised and \n",
    "- Adam optimizer `nn.optim.Adam(lr=3e-5)` with a learning rate of 0.00003 is chosen for performing the weight updates."
   ]
  },
  {
   "cell_type": "code",
   "execution_count": 6,
   "metadata": {},
   "outputs": [
    {
     "name": "stdout",
     "output_type": "stream",
     "text": [
      "0/30000 PDE Loss: 0.00002, BC Loss: 16832.19727, data loss: 10678.80957, total loss: 27511.007812, minimum loss: 27511.00781\n",
      "500/30000 PDE Loss: 0.01975, BC Loss: 1065.00671, data loss: 582.25232, total loss: 1647.278809, minimum loss: 1647.27881\n"
     ]
    }
   ],
   "source": [
    "loss_hist = []\n",
    "start_time = time.time()\n",
    "\n",
    "for epoch in range(n_epochs):\n",
    "    \n",
    "    bc_st_train, bc_v_train, n_st_train, n_v_train = \\\n",
    "    utils.trainingData(K, \n",
    "                       r, \n",
    "                       sigma, \n",
    "                       T, \n",
    "                       S_range[-1], \n",
    "                       S_range, \n",
    "                       t_range, \n",
    "                       gs, \n",
    "                       samples['bc'], \n",
    "                       samples['fc'], \n",
    "                       samples['pde'], \n",
    "                       RNG_key=123)\n",
    "    # save training data points to tensor and send to device\n",
    "    n_st_train = torch.from_numpy(n_st_train).float().requires_grad_().to(device)\n",
    "    n_v_train = torch.from_numpy(n_v_train).float().to(device)\n",
    "    \n",
    "    bc_st_train = torch.from_numpy(bc_st_train).float().to(device)\n",
    "    bc_v_train = torch.from_numpy(bc_v_train).float().to(device)\n",
    "    \n",
    "    \n",
    "    # PDE Round\n",
    "    y1_hat = pinn(n_st_train)\n",
    "    grads = tgrad.grad(y1_hat, n_st_train, grad_outputs=torch.ones(y1_hat.shape).cuda(), retain_graph=True, create_graph=True, only_inputs=True)[0]\n",
    "    dVdt, dVdS = grads[:, 0].view(-1, 1), grads[:, 1].view(-1, 1)\n",
    "    grads2nd = tgrad.grad(dVdS, n_st_train, grad_outputs=torch.ones(dVdS.shape).cuda(), create_graph=True, only_inputs=True)[0]\n",
    "    d2VdS2 = grads2nd[:, 1].view(-1, 1)\n",
    "    S1 = n_st_train[:, 1].view(-1, 1)\n",
    "    pde_loss = lossFunction(-dVdt, 0.5*((sigma*S1)**2)*d2VdS2 + r*S1*dVdS - r*y1_hat)\n",
    "    \n",
    "    # conditions Round\n",
    "    y2_hat = pinn(bc_st_train)\n",
    "    bc_loss = lossFunction(bc_v_train, y2_hat)\n",
    "    \n",
    "    # data Round\n",
    "    y3_hat = pinn(X_train_tensor)\n",
    "    data_loss = lossFunction(y_train_tensor, y3_hat)\n",
    "    \n",
    "    # Backpropagation and Update\n",
    "    optimizer.zero_grad()\n",
    "    mse_loss = pde_loss + bc_loss + data_loss\n",
    "    mse_loss.backward()\n",
    "    optimizer.step()\n",
    "    \n",
    "    loss_hist.append(mse_loss.item())\n",
    "    if epoch % 500 == 0:\n",
    "        print(f'{epoch}/{n_epochs} PDE Loss: {pde_loss.item():.5f}, BC Loss: {bc_loss.item():.5f}, data loss: {data_loss.item():.5f}, total loss: {mse_loss.item():5f}, minimum loss: {min(loss_hist):.5f}')\n",
    "\n",
    "end_time = time.time()\n",
    "print('run time:', end_time - start_time)   "
   ]
  },
  {
   "cell_type": "code",
   "execution_count": null,
   "metadata": {},
   "outputs": [],
   "source": [
    "fig = plt.figure(figsize=(6,6))\n",
    "plt.plot(range(n_epochs), loss_hist)\n",
    "plt.xlabel('epochs')\n",
    "plt.ylabel('loss')\n",
    "plt.title('PINN')"
   ]
  },
  {
   "cell_type": "code",
   "execution_count": null,
   "metadata": {},
   "outputs": [
    {
     "name": "stdout",
     "output_type": "stream",
     "text": [
      "tensor([-0.0002], device='cuda:0', grad_fn=<SelectBackward0>)\n",
      "tensor([0.0004], device='cuda:0', grad_fn=<SelectBackward0>)\n",
      "tensor([0.], device='cuda:0')\n",
      "tensor([0.], device='cuda:0')\n",
      "0.16016879677772522\n"
     ]
    }
   ],
   "source": [
    "# Evaluate the model on the test set\n",
    "pinn.eval()\n",
    "with torch.no_grad():\n",
    "    test_outputs = pinn(X_test_tensor)\n",
    "    test_loss = lossFunction(test_outputs, y_test_tensor)\n",
    "    print(f'Test Loss: {test_loss.item():.4f}')"
   ]
  }
 ],
 "metadata": {
  "kernelspec": {
   "display_name": "honor",
   "language": "python",
   "name": "python3"
  },
  "language_info": {
   "codemirror_mode": {
    "name": "ipython",
    "version": 3
   },
   "file_extension": ".py",
   "mimetype": "text/x-python",
   "name": "python",
   "nbconvert_exporter": "python",
   "pygments_lexer": "ipython3",
   "version": "3.8.15"
  },
  "orig_nbformat": 4
 },
 "nbformat": 4,
 "nbformat_minor": 2
}
