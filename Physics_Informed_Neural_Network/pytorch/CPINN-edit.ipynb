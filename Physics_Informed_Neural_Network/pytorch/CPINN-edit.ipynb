{
 "cells": [
  {
   "cell_type": "code",
   "execution_count": 1,
   "metadata": {},
   "outputs": [],
   "source": [
    "import numpy as np\n",
    "import time\n",
    "import matplotlib.pyplot as plt\n",
    "import os\n",
    "import errno\n",
    "import utils\n",
    "\n",
    "import CGDs\n",
    "import importlib\n",
    "importlib.reload(CGDs)\n",
    "\n",
    "\n",
    "from pyDOE import lhs\n",
    "from torch import from_numpy\n",
    "\n",
    "import torch\n",
    "import torch.cuda\n",
    "import torch.nn as nn\n",
    "import torch.optim as optim\n",
    "import torch.autograd as tgrad"
   ]
  },
  {
   "cell_type": "markdown",
   "metadata": {},
   "source": [
    "# Manage device"
   ]
  },
  {
   "cell_type": "code",
   "execution_count": 2,
   "metadata": {},
   "outputs": [
    {
     "name": "stdout",
     "output_type": "stream",
     "text": [
      "True\n",
      "cuda\n"
     ]
    }
   ],
   "source": [
    "os.environ['KMP_DUPLICATE_LIB_OK']='True'\n",
    "device = torch.device('cuda' if torch.cuda.is_available() else 'cpu')\n",
    "print(torch.cuda.is_available())\n",
    "# torch.set_default_tensor_type(torch.DoubleTensor)\n",
    "print(device)\n",
    "\n",
    "if device == 'cuda': \n",
    "    print(torch.cuda.get_device_name())"
   ]
  },
  {
   "cell_type": "markdown",
   "metadata": {},
   "source": [
    "# Data Sampling"
   ]
  },
  {
   "cell_type": "code",
   "execution_count": 3,
   "metadata": {},
   "outputs": [],
   "source": [
    "samples = {\"pde\": 10000, \"bc\":5000, \"fc\":5000}\n",
    "\n",
    "K = 40.0\n",
    "r = 0.05\n",
    "sigma = 0.25\n",
    "T = 1.0\n",
    "S_range = [0.0, 130.0]\n",
    "t_range = [0.0, T]\n",
    "gs = lambda x: np.fmax(x-K, 0.0)"
   ]
  },
  {
   "cell_type": "markdown",
   "metadata": {},
   "source": [
    "# Build Neural Network"
   ]
  },
  {
   "cell_type": "code",
   "execution_count": 4,
   "metadata": {},
   "outputs": [
    {
     "name": "stdout",
     "output_type": "stream",
     "text": [
      "FeedforwardNeuralNetwork(\n",
      "  (layers): ModuleList(\n",
      "    (0): Linear(in_features=2, out_features=50, bias=True)\n",
      "    (1-2): 2 x Linear(in_features=50, out_features=50, bias=True)\n",
      "  )\n",
      "  (output): Linear(in_features=50, out_features=1, bias=True)\n",
      "  (relu): ReLU()\n",
      ")\n"
     ]
    }
   ],
   "source": [
    "import networks\n",
    "# Create the model\n",
    "PINNCGD = networks.FeedforwardNeuralNetwork(2, 50, 1, 3)\n",
    "PINNCGD.to(device)\n",
    "print(PINNCGD)"
   ]
  },
  {
   "cell_type": "code",
   "execution_count": 5,
   "metadata": {},
   "outputs": [
    {
     "name": "stdout",
     "output_type": "stream",
     "text": [
      "Discriminator(\n",
      "  (map): Sequential(\n",
      "    (0): Linear(in_features=2, out_features=50, bias=True)\n",
      "    (1): ReLU()\n",
      "    (2): Linear(in_features=50, out_features=50, bias=True)\n",
      "    (3): ReLU()\n",
      "    (4): Linear(in_features=50, out_features=50, bias=True)\n",
      "    (5): ReLU()\n",
      "    (6): Linear(in_features=50, out_features=50, bias=True)\n",
      "    (7): ReLU()\n",
      "    (8): Linear(in_features=50, out_features=4, bias=True)\n",
      "  )\n",
      ")\n"
     ]
    }
   ],
   "source": [
    "D_CGD = networks.Discriminator(2, 25, 4)\n",
    "D_CGD.to(device)\n",
    "D_CGD.load_state_dict(D_CGD.state_dict()) # copy weights and stuff\n",
    "print(D_CGD)"
   ]
  },
  {
   "cell_type": "markdown",
   "metadata": {},
   "source": [
    "# Network Trainig"
   ]
  },
  {
   "cell_type": "markdown",
   "metadata": {},
   "source": [
    "### Hyperparameters"
   ]
  },
  {
   "cell_type": "code",
   "execution_count": 6,
   "metadata": {},
   "outputs": [],
   "source": [
    "max_iter = 30000\n",
    "\n",
    "tol = 1e-7\n",
    "atol = 1e-20\n",
    "g_iter = 1000\n",
    "lr = 0.01\n",
    "track_cond = lambda x, y: True\n",
    "\n",
    "\n",
    "# Define loss function and optimizer\n",
    "# optimizer = CGDs.BCGD(max_params=D_CGD.parameters(), min_params=PINNCGD.parameters(), device = device,\n",
    "#                  lr_max=lr, lr_min=lr, tol=1e-10, collect_info=True)\n",
    "# optimizer = CGDs.ACGD(max_params=D_CGD.parameters(), min_params=PINNCGD.parameters(),\n",
    "#                  lr_max=lr, lr_min=lr, tol=1e-10, beta=0.99, eps=1e-8, collect_info=True)\n",
    "optimizer = CGDs.GACGD(x_params=D_CGD.parameters(), y_params = PINNCGD.parameters(), max_iter = g_iter,\n",
    "            lr_x=0.001, lr_y=0.01, tol=tol, atol = atol, eps=1e-8, beta=0.99, track_cond = track_cond)\n",
    "lossFunction = nn.MSELoss()"
   ]
  },
  {
   "cell_type": "markdown",
   "metadata": {},
   "source": [
    "### Training"
   ]
  },
  {
   "cell_type": "code",
   "execution_count": 7,
   "metadata": {},
   "outputs": [
    {
     "name": "stderr",
     "output_type": "stream",
     "text": [
      "c:\\Users\\hengr\\miniconda3\\envs\\honor\\lib\\site-packages\\CGDs\\gmres_torch.py:124: UserWarning: torch.triangular_solve is deprecated in favor of torch.linalg.solve_triangularand will be removed in a future PyTorch release.\n",
      "torch.linalg.solve_triangular has its arguments reversed and does not return a copy of one of the inputs.\n",
      "X = torch.triangular_solve(B, A).solution\n",
      "should be replaced with\n",
      "X = torch.linalg.solve_triangular(A, B). (Triggered internally at C:\\cb\\pytorch_1000000000000\\work\\aten\\src\\ATen\\native\\BatchLinearAlgebra.cpp:2197.)\n",
      "  y, _ = torch.triangular_solve(beta[0:j + 1].unsqueeze(-1), H[0:j + 1, 0:j + 1])  # j x j\n"
     ]
    },
    {
     "name": "stdout",
     "output_type": "stream",
     "text": [
      "0/30000 mse loss: 9845.781250, \n",
      "              PDE Loss: 0.000737, BC Loss: 9845.780273,\n",
      "              nn loss: 95.18933105, \n",
      "              minloss: 9845.781250\n",
      "              \n",
      "50/30000 mse loss: 61.424847, \n",
      "              PDE Loss: 9.414440, BC Loss: 52.010406,\n",
      "              nn loss: 19.26494217, \n",
      "              minloss: 56.911842\n",
      "              \n",
      "100/30000 mse loss: 78.944702, \n",
      "              PDE Loss: 4.020757, BC Loss: 74.923943,\n",
      "              nn loss: -3.98497128, \n",
      "              minloss: 56.911842\n",
      "              \n",
      "150/30000 mse loss: 267.436432, \n",
      "              PDE Loss: 79.946999, BC Loss: 187.489426,\n",
      "              nn loss: 0.53181672, \n",
      "              minloss: 16.881689\n",
      "              \n",
      "200/30000 mse loss: 34.065880, \n",
      "              PDE Loss: 2.587773, BC Loss: 31.478107,\n",
      "              nn loss: -0.03636001, \n",
      "              minloss: 16.881689\n",
      "              \n",
      "250/30000 mse loss: 104.146484, \n",
      "              PDE Loss: 8.357924, BC Loss: 95.788559,\n",
      "              nn loss: 0.12061889, \n",
      "              minloss: 13.521332\n",
      "              \n",
      "300/30000 mse loss: 61.348667, \n",
      "              PDE Loss: 34.151207, BC Loss: 27.197460,\n",
      "              nn loss: 0.11698093, \n",
      "              minloss: 12.802094\n",
      "              \n",
      "350/30000 mse loss: 10.384678, \n",
      "              PDE Loss: 6.234789, BC Loss: 4.149889,\n",
      "              nn loss: -0.05482074, \n",
      "              minloss: 9.521049\n",
      "              \n",
      "400/30000 mse loss: 6.758262, \n",
      "              PDE Loss: 1.225687, BC Loss: 5.532575,\n",
      "              nn loss: 0.00073689, \n",
      "              minloss: 5.720641\n",
      "              \n",
      "450/30000 mse loss: 4.279170, \n",
      "              PDE Loss: 0.607755, BC Loss: 3.671415,\n",
      "              nn loss: -0.00408104, \n",
      "              minloss: 4.279170\n",
      "              \n",
      "500/30000 mse loss: 7.752651, \n",
      "              PDE Loss: 0.635106, BC Loss: 7.117546,\n",
      "              nn loss: -0.01213478, \n",
      "              minloss: 2.901136\n",
      "              \n",
      "550/30000 mse loss: 8.327665, \n",
      "              PDE Loss: 0.815798, BC Loss: 7.511868,\n",
      "              nn loss: -0.00108793, \n",
      "              minloss: 2.901136\n",
      "              \n",
      "600/30000 mse loss: 7.423035, \n",
      "              PDE Loss: 0.616888, BC Loss: 6.806148,\n",
      "              nn loss: -0.00671152, \n",
      "              minloss: 2.901136\n",
      "              \n",
      "650/30000 mse loss: 1.068824, \n",
      "              PDE Loss: 0.493676, BC Loss: 0.575148,\n",
      "              nn loss: -0.00347260, \n",
      "              minloss: 1.048637\n",
      "              \n",
      "700/30000 mse loss: 0.917261, \n",
      "              PDE Loss: 0.407744, BC Loss: 0.509517,\n",
      "              nn loss: -0.00406464, \n",
      "              minloss: 0.563477\n",
      "              \n",
      "750/30000 mse loss: 1.131483, \n",
      "              PDE Loss: 0.554191, BC Loss: 0.577292,\n",
      "              nn loss: -0.00504883, \n",
      "              minloss: 0.436126\n",
      "              \n",
      "800/30000 mse loss: 0.393060, \n",
      "              PDE Loss: 0.239169, BC Loss: 0.153890,\n",
      "              nn loss: -0.00483633, \n",
      "              minloss: 0.393060\n",
      "              \n",
      "850/30000 mse loss: 0.217712, \n",
      "              PDE Loss: 0.142600, BC Loss: 0.075112,\n",
      "              nn loss: -0.00369078, \n",
      "              minloss: 0.197688\n",
      "              \n",
      "900/30000 mse loss: 0.206951, \n",
      "              PDE Loss: 0.146874, BC Loss: 0.060077,\n",
      "              nn loss: -0.00383158, \n",
      "              minloss: 0.150289\n",
      "              \n",
      "950/30000 mse loss: 1.622069, \n",
      "              PDE Loss: 0.425430, BC Loss: 1.196639,\n",
      "              nn loss: -0.00231382, \n",
      "              minloss: 0.150289\n",
      "              \n",
      "1000/30000 mse loss: 0.685857, \n",
      "              PDE Loss: 0.518556, BC Loss: 0.167300,\n",
      "              nn loss: 0.00015660, \n",
      "              minloss: 0.150289\n",
      "              \n",
      "1050/30000 mse loss: 0.188663, \n",
      "              PDE Loss: 0.134991, BC Loss: 0.053672,\n",
      "              nn loss: 0.00009616, \n",
      "              minloss: 0.150289\n",
      "              \n",
      "1100/30000 mse loss: 0.528967, \n",
      "              PDE Loss: 0.444702, BC Loss: 0.084264,\n",
      "              nn loss: -0.00017595, \n",
      "              minloss: 0.150289\n",
      "              \n"
     ]
    },
    {
     "ename": "KeyboardInterrupt",
     "evalue": "",
     "output_type": "error",
     "traceback": [
      "\u001b[1;31m---------------------------------------------------------------------------\u001b[0m",
      "\u001b[1;31mKeyboardInterrupt\u001b[0m                         Traceback (most recent call last)",
      "Cell \u001b[1;32mIn[7], line 89\u001b[0m\n\u001b[0;32m     84\u001b[0m pinn_loss \u001b[39m=\u001b[39m pde_loss \u001b[39m+\u001b[39m bc_loss\n\u001b[0;32m     88\u001b[0m \u001b[39m# Backpropagation and Update\u001b[39;00m\n\u001b[1;32m---> 89\u001b[0m optimizer\u001b[39m.\u001b[39;49mstep(combined_loss, \u001b[39m-\u001b[39;49mcombined_loss, \u001b[39m0\u001b[39;49m)\n\u001b[0;32m     92\u001b[0m \u001b[39m# print information\u001b[39;00m\n\u001b[0;32m     93\u001b[0m loss_hist\u001b[39m.\u001b[39mappend(pinn_loss\u001b[39m.\u001b[39mitem())\n",
      "File \u001b[1;32mc:\\Users\\hengr\\miniconda3\\envs\\honor\\lib\\site-packages\\CGDs\\gmres_acgd.py:165\u001b[0m, in \u001b[0;36mGACGD.step\u001b[1;34m(self, loss_x, loss_y, trigger)\u001b[0m\n\u001b[0;32m    157\u001b[0m prev_x0 \u001b[39m=\u001b[39m \u001b[39mNone\u001b[39;00m\n\u001b[0;32m    158\u001b[0m Avp \u001b[39m=\u001b[39m partial(MvProd,\n\u001b[0;32m    159\u001b[0m               grad_fy\u001b[39m=\u001b[39mgrad_fy_vec, grad_gx\u001b[39m=\u001b[39mgrad_gx_vec,\n\u001b[0;32m    160\u001b[0m               x_params\u001b[39m=\u001b[39m\u001b[39mself\u001b[39m\u001b[39m.\u001b[39mx_params, y_params\u001b[39m=\u001b[39m\u001b[39mself\u001b[39m\u001b[39m.\u001b[39my_params,\n\u001b[1;32m   (...)\u001b[0m\n\u001b[0;32m    163\u001b[0m               x_reducer\u001b[39m=\u001b[39m\u001b[39mself\u001b[39m\u001b[39m.\u001b[39mx_reducer, y_reducer\u001b[39m=\u001b[39m\u001b[39mself\u001b[39m\u001b[39m.\u001b[39my_reducer,\n\u001b[0;32m    164\u001b[0m               rebuild\u001b[39m=\u001b[39mshould_rebuild)\n\u001b[1;32m--> 165\u001b[0m soln, (num_iter, err_history) \u001b[39m=\u001b[39m GMRES(Avp\u001b[39m=\u001b[39;49mAvp, b\u001b[39m=\u001b[39;49mRHS, x0\u001b[39m=\u001b[39;49mprev_x0,\n\u001b[0;32m    166\u001b[0m                                       max_iter\u001b[39m=\u001b[39;49m\u001b[39mself\u001b[39;49m\u001b[39m.\u001b[39;49mmax_iter,\n\u001b[0;32m    167\u001b[0m                                       tol\u001b[39m=\u001b[39;49mtol, atol\u001b[39m=\u001b[39;49matol,\n\u001b[0;32m    168\u001b[0m                                       track\u001b[39m=\u001b[39;49mtrack_flag)\n\u001b[0;32m    170\u001b[0m \u001b[39mself\u001b[39m\u001b[39m.\u001b[39mstate[\u001b[39m'\u001b[39m\u001b[39mx0\u001b[39m\u001b[39m'\u001b[39m] \u001b[39m=\u001b[39m soln\n\u001b[0;32m    171\u001b[0m \u001b[39mself\u001b[39m\u001b[39m.\u001b[39mstate\u001b[39m.\u001b[39mupdate(\n\u001b[0;32m    172\u001b[0m     {\n\u001b[0;32m    173\u001b[0m         \u001b[39m'\u001b[39m\u001b[39msq_exp_avg_x\u001b[39m\u001b[39m'\u001b[39m: sq_avg_x,\n\u001b[0;32m    174\u001b[0m         \u001b[39m'\u001b[39m\u001b[39msq_exp_avg_y\u001b[39m\u001b[39m'\u001b[39m: sq_avg_y\n\u001b[0;32m    175\u001b[0m     }\n\u001b[0;32m    176\u001b[0m )\n",
      "File \u001b[1;32mc:\\Users\\hengr\\miniconda3\\envs\\honor\\lib\\site-packages\\CGDs\\gmres_torch.py:108\u001b[0m, in \u001b[0;36mGMRES\u001b[1;34m(Avp, b, x0, max_iter, tol, atol, track)\u001b[0m\n\u001b[0;32m    106\u001b[0m \u001b[39mfor\u001b[39;00m j \u001b[39min\u001b[39;00m \u001b[39mrange\u001b[39m(max_iter):\n\u001b[0;32m    107\u001b[0m     p \u001b[39m=\u001b[39m Avp(V[j])\n\u001b[1;32m--> 108\u001b[0m     new_v \u001b[39m=\u001b[39m arnoldi(p, V, H, j \u001b[39m+\u001b[39;49m \u001b[39m1\u001b[39;49m)  \u001b[39m# Arnoldi iteration to get the j+1 th ba\u001b[39;00m\n\u001b[0;32m    109\u001b[0m     \u001b[39m# sis\u001b[39;00m\n\u001b[0;32m    110\u001b[0m     V\u001b[39m.\u001b[39mappend(new_v)\n",
      "File \u001b[1;32mc:\\Users\\hengr\\miniconda3\\envs\\honor\\lib\\site-packages\\CGDs\\gmres_torch.py:28\u001b[0m, in \u001b[0;36marnoldi\u001b[1;34m(vec, V, H, j)\u001b[0m\n\u001b[0;32m     25\u001b[0m _check_nan(vec, \u001b[39m'\u001b[39m\u001b[39mMatrix vector product is Nan\u001b[39m\u001b[39m'\u001b[39m)\n\u001b[0;32m     27\u001b[0m \u001b[39mfor\u001b[39;00m i \u001b[39min\u001b[39;00m \u001b[39mrange\u001b[39m(j):\n\u001b[1;32m---> 28\u001b[0m     H[i, j \u001b[39m-\u001b[39;49m \u001b[39m1\u001b[39;49m] \u001b[39m=\u001b[39m torch\u001b[39m.\u001b[39mdot(vec, V[i])\n\u001b[0;32m     29\u001b[0m     vec \u001b[39m=\u001b[39m vec \u001b[39m-\u001b[39m H[i, j\u001b[39m-\u001b[39m\u001b[39m1\u001b[39m] \u001b[39m*\u001b[39m V[i]\n\u001b[0;32m     30\u001b[0m new_v, vnorm \u001b[39m=\u001b[39m _safe_normalize(vec)\n",
      "\u001b[1;31mKeyboardInterrupt\u001b[0m: "
     ]
    }
   ],
   "source": [
    "start_time = time.time()\n",
    "loss_hist = []\n",
    "# dis_hist = []\n",
    "for epoch in range(max_iter):\n",
    "    \n",
    "    optimizer.zero_grad() # zeroes the gradient buffers of all parameters\n",
    "    \n",
    "    # normal condition / interior points\n",
    "    n_st_train = np.concatenate([np.random.uniform(*t_range, (samples['pde'], 1)), \n",
    "                      np.random.uniform(*S_range, (samples['pde'], 1))], axis=1)\n",
    "    n_v_train = np.zeros((samples['pde'], 1))\n",
    "    \n",
    "\n",
    "    # final condition (t = T, S is randomized)\n",
    "    f_st_train = np.concatenate([np.ones((samples['fc'], 1)),\n",
    "                    np.random.uniform(*S_range, (samples['fc'], 1))], axis=1)\n",
    "    f_v_train = gs(f_st_train[:, 1]).reshape(-1, 1)\n",
    "    \n",
    "    # lower boundary condition (S = 0, t is randomized)\n",
    "    lb_st = np.concatenate([np.random.uniform(*t_range, (samples['bc'], 1)),\n",
    "                        0 * np.ones((samples['bc'], 1))], axis=1)\n",
    "    lb_v = np.zeros((samples['bc'], 1))\n",
    "    \n",
    "    # upper boundary condition (S = Smax, t is randomized)\n",
    "    ub_st = np.concatenate([np.random.uniform(*t_range, (samples['bc'], 1)), \n",
    "                        S_range[-1] * np.ones((samples['bc'], 1))], axis=1)\n",
    "    ub_v = (S_range[-1] - K*np.exp(-r*(T-ub_st[:, 0].reshape(-1)))).reshape(-1, 1)\n",
    "    \n",
    "    \n",
    "    \n",
    "    \n",
    "    \n",
    "    # save training data points to tensor and send to device\n",
    "    n_st_train = torch.from_numpy(n_st_train).float().requires_grad_().to(device)\n",
    "    n_v_train = torch.from_numpy(n_v_train).float().to(device)\n",
    "    \n",
    "    f_st_train = torch.from_numpy(f_st_train).float().to(device)\n",
    "    f_v_train = torch.from_numpy(f_v_train).float().to(device)\n",
    "    \n",
    "    lb_st = torch.from_numpy(lb_st).float().to(device)\n",
    "    lb_v = torch.from_numpy(lb_v).float().to(device)\n",
    "    \n",
    "    ub_st = torch.from_numpy(ub_st).float().to(device)\n",
    "    ub_v = torch.from_numpy(ub_v).float().to(device)\n",
    "    \n",
    "    \n",
    "    \n",
    "    \n",
    "    \n",
    "    # prediction and gradients\n",
    "    v1_hat = PINNCGD(n_st_train)\n",
    "    grads = tgrad.grad(v1_hat, n_st_train, grad_outputs=torch.ones(v1_hat.shape).cuda(), \n",
    "                       retain_graph=True, create_graph=True, only_inputs=True)[0]\n",
    "    dVdt, dVdS = grads[:, 0].view(-1, 1), grads[:, 1].view(-1, 1)\n",
    "    grads2nd = tgrad.grad(dVdS, n_st_train, grad_outputs=torch.ones(dVdS.shape).cuda(),\n",
    "                          create_graph=True, only_inputs=True)[0]\n",
    "    d2VdS2 = grads2nd[:, 1].view(-1, 1)\n",
    "    S1 = n_st_train[:, 1].view(-1, 1)\n",
    "    \n",
    "    f_hat = PINNCGD(f_st_train)\n",
    "    lb_hat = PINNCGD(lb_st)\n",
    "    ub_hat = PINNCGD(ub_st)\n",
    "    \n",
    "    \n",
    "    # loss functions\n",
    "    d1 = D_CGD(n_st_train)[:, [0]]\n",
    "    loss1 = ((d1) * (dVdt + 0.5*((sigma*S1)**2)*d2VdS2 + r*S1*dVdS - r*v1_hat))\n",
    "    \n",
    "    d2 = D_CGD(f_st_train)[:, [1]]\n",
    "    loss2 = ((d2) * (f_hat - f_v_train))\n",
    "    \n",
    "    d3 = D_CGD(lb_st)[:, [2]]\n",
    "    loss3 = ((d3) * (lb_hat - lb_v))\n",
    "    \n",
    "    d4 = D_CGD(ub_st)[:, [3]]\n",
    "    loss4 = ((d4) * (ub_hat - ub_v))\n",
    "    \n",
    "    combined_loss = (loss1.mean() + loss2.mean() + loss3.mean() + loss4.mean())\n",
    "    \n",
    "    \n",
    "    # L2 relative loss\n",
    "    pde_loss = lossFunction(-dVdt, 0.5*((sigma*S1)**2)*d2VdS2 + r*S1*dVdS - r*v1_hat)\n",
    "    bc_loss = lossFunction(ub_v, ub_hat) + lossFunction(lb_v, lb_hat) + lossFunction(f_v_train, f_hat)\n",
    "    mse_loss = pde_loss + bc_loss\n",
    "    \n",
    "    \n",
    "    \n",
    "    # Backpropagation and Update\n",
    "    optimizer.step(combined_loss, -combined_loss, 0)\n",
    "\n",
    "    \n",
    "    # print information\n",
    "    loss_hist.append(mse_loss.item())\n",
    "    if epoch % 50 == 0:\n",
    "        print(f'''{epoch}/{max_iter} mse loss: {mse_loss.item():.6f}, \n",
    "              PDE Loss: {pde_loss.item():.6f}, BC Loss: {bc_loss.item():.6f},\n",
    "              nn loss: {combined_loss.item():.8f}, \n",
    "              minloss: {min(loss_hist):.6f}\n",
    "              ''')\n",
    "        pass\n",
    "        \n",
    "end_time = time.time()\n",
    "print('run time:', end_time - start_time)\n",
    "print('finish')"
   ]
  },
  {
   "cell_type": "code",
   "execution_count": null,
   "metadata": {},
   "outputs": [
    {
     "data": {
      "image/png": "[encoded data removed]",
      "text/plain": [
       "<Figure size 640x480 with 1 Axes>"
      ]
     },
     "metadata": {},
     "output_type": "display_data"
    }
   ],
   "source": [
    "# Create a figure and axis\n",
    "fig, ax = plt.subplots()\n",
    "\n",
    "# Plot the data\n",
    "ax.plot(range(30000), loss_hist, marker='o', linestyle='-', color='b', label='Data Points')\n",
    "\n",
    "# Set labels and title\n",
    "ax.set_xlabel('X-axis')\n",
    "ax.set_ylabel('Y-axis')\n",
    "ax.set_title('Simple Python Plot')\n",
    "\n",
    "# Show legend\n",
    "ax.legend()\n",
    "\n",
    "# Display the plot\n",
    "plt.show()"
   ]
  }
 ],
 "metadata": {
  "kernelspec": {
   "display_name": "honor",
   "language": "python",
   "name": "python3"
  },
  "language_info": {
   "codemirror_mode": {
    "name": "ipython",
    "version": 3
   },
   "file_extension": ".py",
   "mimetype": "text/x-python",
   "name": "python",
   "nbconvert_exporter": "python",
   "pygments_lexer": "ipython3",
   "version": "3.9.16"
  },
  "orig_nbformat": 4
 },
 "nbformat": 4,
 "nbformat_minor": 2
}
