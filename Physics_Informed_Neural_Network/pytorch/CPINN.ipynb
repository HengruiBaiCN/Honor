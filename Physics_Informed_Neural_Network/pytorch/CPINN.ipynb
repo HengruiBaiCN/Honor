{
 "cells": [
  {
   "cell_type": "code",
   "execution_count": 1,
   "metadata": {},
   "outputs": [],
   "source": [
    "import numpy as np\n",
    "import time\n",
    "import matplotlib.pyplot as plt\n",
    "import os\n",
    "import errno\n",
    "import utils\n",
    "\n",
    "import CGDs\n",
    "import importlib\n",
    "importlib.reload(CGDs)\n",
    "\n",
    "\n",
    "from pyDOE import lhs\n",
    "from torch import from_numpy\n",
    "\n",
    "import torch\n",
    "import torch.cuda\n",
    "import torch.nn as nn\n",
    "import torch.optim as optim\n",
    "import torch.autograd as tgrad"
   ]
  },
  {
   "cell_type": "markdown",
   "metadata": {},
   "source": [
    "# Manage device"
   ]
  },
  {
   "cell_type": "code",
   "execution_count": 2,
   "metadata": {},
   "outputs": [
    {
     "name": "stdout",
     "output_type": "stream",
     "text": [
      "True\n",
      "cuda\n"
     ]
    }
   ],
   "source": [
    "os.environ['KMP_DUPLICATE_LIB_OK']='True'\n",
    "device = torch.device('cuda' if torch.cuda.is_available() else 'cpu')\n",
    "print(torch.cuda.is_available())\n",
    "# torch.set_default_tensor_type(torch.DoubleTensor)\n",
    "print(device)\n",
    "\n",
    "if device == 'cuda': \n",
    "    print(torch.cuda.get_device_name())"
   ]
  },
  {
   "cell_type": "code",
   "execution_count": 3,
   "metadata": {},
   "outputs": [
    {
     "name": "stdout",
     "output_type": "stream",
     "text": [
      "total: 25756696576, reserved: 0, free: 0\n"
     ]
    }
   ],
   "source": [
    "utils.printMemory()"
   ]
  },
  {
   "cell_type": "markdown",
   "metadata": {},
   "source": [
    "# Data Sampling"
   ]
  },
  {
   "cell_type": "code",
   "execution_count": 4,
   "metadata": {},
   "outputs": [],
   "source": [
    "samples = {\"pde\": 50000, \"bc\":5000, \"fc\":5000}\n",
    "\n",
    "K = 40.0\n",
    "r = 0.05\n",
    "sigma = 0.25\n",
    "T = 1.0\n",
    "S_range = [0.0, 130.0]\n",
    "t_range = [0.0, T]\n",
    "gs = lambda x: np.fmax(x-K, 0.0)"
   ]
  },
  {
   "cell_type": "markdown",
   "metadata": {},
   "source": [
    "# Build Neural Network"
   ]
  },
  {
   "cell_type": "code",
   "execution_count": 5,
   "metadata": {},
   "outputs": [
    {
     "name": "stdout",
     "output_type": "stream",
     "text": [
      "FeedforwardNeuralNetwork(\n",
      "  (layers): ModuleList(\n",
      "    (0): Linear(in_features=2, out_features=50, bias=True)\n",
      "    (1-2): 2 x Linear(in_features=50, out_features=50, bias=True)\n",
      "  )\n",
      "  (output): Linear(in_features=50, out_features=1, bias=True)\n",
      "  (relu): ReLU()\n",
      ")\n"
     ]
    }
   ],
   "source": [
    "import networks\n",
    "# Create the model\n",
    "PINNBCGD = networks.FeedforwardNeuralNetwork(2, 50, 1, 3)\n",
    "PINNBCGD.to(device)\n",
    "print(PINNBCGD)"
   ]
  },
  {
   "cell_type": "code",
   "execution_count": 6,
   "metadata": {},
   "outputs": [
    {
     "name": "stdout",
     "output_type": "stream",
     "text": [
      "Discriminator(\n",
      "  (map): Sequential(\n",
      "    (0): Linear(in_features=2, out_features=50, bias=True)\n",
      "    (1): ReLU()\n",
      "    (2): Linear(in_features=50, out_features=50, bias=True)\n",
      "    (3): ReLU()\n",
      "    (4): Linear(in_features=50, out_features=50, bias=True)\n",
      "    (5): ReLU()\n",
      "    (6): Linear(in_features=50, out_features=50, bias=True)\n",
      "    (7): ReLU()\n",
      "    (8): Linear(in_features=50, out_features=1, bias=True)\n",
      "  )\n",
      ")\n"
     ]
    }
   ],
   "source": [
    "D_BCGD = networks.Discriminator(2, 25, 1)\n",
    "D_BCGD.to(device)\n",
    "D_BCGD.load_state_dict(D_BCGD.state_dict()) # copy weights and stuff\n",
    "print(D_BCGD)"
   ]
  },
  {
   "cell_type": "markdown",
   "metadata": {},
   "source": [
    "# Network Trainig"
   ]
  },
  {
   "cell_type": "markdown",
   "metadata": {},
   "source": [
    "### Hyperparameters"
   ]
  },
  {
   "cell_type": "code",
   "execution_count": 7,
   "metadata": {},
   "outputs": [],
   "source": [
    "max_iter = 60000\n",
    "graphPer = 0\n",
    "iter_recordBCGD = 200\n",
    "\n",
    "savePer = 60000\n",
    "\n",
    "# Define loss function and optimizer\n",
    "optimizer = CGDs.BCGD(max_params=D_BCGD.parameters(), min_params=PINNBCGD.parameters(), device = device,\n",
    "                 lr_max=0.002, lr_min=0.002, tol=1e-10, collect_info=True)\n",
    "lossFunction = nn.MSELoss()\n",
    "lossfunction2 = nn.L1Loss()"
   ]
  },
  {
   "cell_type": "markdown",
   "metadata": {},
   "source": [
    "### Training"
   ]
  },
  {
   "cell_type": "code",
   "execution_count": 8,
   "metadata": {},
   "outputs": [
    {
     "name": "stdout",
     "output_type": "stream",
     "text": [
      "0/60000 PDE Loss: 0.00014, BC Loss: 3496.03052,                   total loss: 3496.030762, neural network loss: -29.540888\n",
      "500/60000 PDE Loss: 16.45667, BC Loss: 61.80734,                   total loss: 78.264015, neural network loss: 0.710718\n",
      "1000/60000 PDE Loss: 0.01227, BC Loss: 3.03843,                   total loss: 3.050702, neural network loss: 0.101379\n",
      "1500/60000 PDE Loss: 6.64830, BC Loss: 12.95022,                   total loss: 19.598524, neural network loss: 0.451089\n",
      "2000/60000 PDE Loss: 0.04393, BC Loss: 3.35413,                   total loss: 3.398065, neural network loss: 0.305634\n",
      "2500/60000 PDE Loss: 0.02650, BC Loss: 3.49029,                   total loss: 3.516791, neural network loss: 0.057440\n",
      "3000/60000 PDE Loss: 0.07591, BC Loss: 3.21580,                   total loss: 3.291712, neural network loss: 0.005251\n",
      "3500/60000 PDE Loss: 0.15752, BC Loss: 1.23621,                   total loss: 1.393731, neural network loss: 0.007084\n",
      "4000/60000 PDE Loss: 0.09761, BC Loss: 0.42065,                   total loss: 0.518257, neural network loss: 0.006971\n",
      "4500/60000 PDE Loss: 0.06081, BC Loss: 0.19678,                   total loss: 0.257583, neural network loss: 0.006456\n",
      "5000/60000 PDE Loss: 0.06360, BC Loss: 0.30315,                   total loss: 0.366753, neural network loss: -0.002056\n",
      "5500/60000 PDE Loss: 0.12596, BC Loss: 0.50744,                   total loss: 0.633401, neural network loss: 0.005045\n",
      "6000/60000 PDE Loss: 0.58521, BC Loss: 1.39825,                   total loss: 1.983454, neural network loss: -0.000240\n",
      "6500/60000 PDE Loss: 1.24610, BC Loss: 2.43126,                   total loss: 3.677367, neural network loss: 0.006312\n",
      "7000/60000 PDE Loss: 0.72336, BC Loss: 1.56104,                   total loss: 2.284403, neural network loss: 0.005693\n",
      "7500/60000 PDE Loss: 0.14269, BC Loss: 0.94532,                   total loss: 1.088013, neural network loss: 0.007979\n",
      "8000/60000 PDE Loss: 0.07046, BC Loss: 0.16998,                   total loss: 0.240441, neural network loss: 0.014421\n",
      "8500/60000 PDE Loss: 0.04315, BC Loss: 0.15076,                   total loss: 0.193903, neural network loss: 0.009364\n",
      "9000/60000 PDE Loss: 0.05030, BC Loss: 0.30539,                   total loss: 0.355695, neural network loss: 0.008618\n",
      "9500/60000 PDE Loss: 0.05749, BC Loss: 0.22336,                   total loss: 0.280854, neural network loss: 0.009516\n",
      "10000/60000 PDE Loss: 0.03887, BC Loss: 0.15099,                   total loss: 0.189861, neural network loss: 0.009251\n",
      "10500/60000 PDE Loss: 0.04444, BC Loss: 0.16095,                   total loss: 0.205394, neural network loss: 0.008810\n",
      "11000/60000 PDE Loss: 0.06790, BC Loss: 0.27899,                   total loss: 0.346890, neural network loss: 0.007347\n",
      "11500/60000 PDE Loss: 0.15396, BC Loss: 0.51288,                   total loss: 0.666841, neural network loss: 0.005176\n",
      "12000/60000 PDE Loss: 0.13779, BC Loss: 0.54093,                   total loss: 0.678715, neural network loss: 0.004058\n",
      "12500/60000 PDE Loss: 0.13034, BC Loss: 0.52740,                   total loss: 0.657735, neural network loss: 0.003057\n",
      "13000/60000 PDE Loss: 0.13003, BC Loss: 0.54751,                   total loss: 0.677549, neural network loss: 0.002636\n",
      "13500/60000 PDE Loss: 0.12976, BC Loss: 0.54645,                   total loss: 0.676205, neural network loss: 0.002444\n",
      "14000/60000 PDE Loss: 0.12512, BC Loss: 0.51606,                   total loss: 0.641178, neural network loss: 0.003260\n",
      "14500/60000 PDE Loss: 0.11567, BC Loss: 0.47923,                   total loss: 0.594906, neural network loss: 0.003308\n",
      "15000/60000 PDE Loss: 0.10530, BC Loss: 0.41858,                   total loss: 0.523882, neural network loss: 0.003238\n",
      "15500/60000 PDE Loss: 0.09178, BC Loss: 0.35766,                   total loss: 0.449436, neural network loss: 0.002745\n",
      "16000/60000 PDE Loss: 0.07533, BC Loss: 0.29489,                   total loss: 0.370225, neural network loss: 0.002070\n",
      "16500/60000 PDE Loss: 0.05240, BC Loss: 0.24268,                   total loss: 0.295082, neural network loss: 0.001268\n",
      "17000/60000 PDE Loss: 0.04210, BC Loss: 0.19063,                   total loss: 0.232733, neural network loss: 0.000621\n",
      "17500/60000 PDE Loss: 0.02864, BC Loss: 0.14307,                   total loss: 0.171713, neural network loss: 0.000236\n",
      "18000/60000 PDE Loss: 0.02024, BC Loss: 0.10374,                   total loss: 0.123980, neural network loss: -0.000044\n",
      "18500/60000 PDE Loss: 0.01496, BC Loss: 0.07102,                   total loss: 0.085982, neural network loss: -0.000323\n",
      "19000/60000 PDE Loss: 0.01229, BC Loss: 0.04573,                   total loss: 0.058023, neural network loss: -0.000600\n",
      "19500/60000 PDE Loss: 0.01371, BC Loss: 0.01938,                   total loss: 0.033082, neural network loss: -0.000727\n",
      "20000/60000 PDE Loss: 0.01627, BC Loss: 0.04481,                   total loss: 0.061080, neural network loss: -0.000923\n",
      "20500/60000 PDE Loss: 0.02083, BC Loss: 0.06988,                   total loss: 0.090706, neural network loss: -0.000877\n",
      "21000/60000 PDE Loss: 0.02264, BC Loss: 0.09134,                   total loss: 0.113979, neural network loss: -0.000683\n"
     ]
    }
   ],
   "source": [
    "start_time=time.time()\n",
    "loss_hist = []\n",
    "\n",
    "for epoch in range(max_iter):\n",
    "    \n",
    "    optimizer.zero_grad() # zeroes the gradient buffers of all parameters\n",
    "    \n",
    "    # sampling\n",
    "    bc_st_train, bc_v_train, n_st_train, n_v_train = \\\n",
    "    utils.trainingData(K, \n",
    "                       r, \n",
    "                       sigma, \n",
    "                       T, \n",
    "                       S_range[-1], \n",
    "                       S_range, \n",
    "                       t_range, \n",
    "                       gs, \n",
    "                       samples['bc'], \n",
    "                       samples['fc'], \n",
    "                       samples['pde'], \n",
    "                       RNG_key=123)\n",
    "    \n",
    "    # save training data points to tensor and send to device\n",
    "    n_st_train = torch.from_numpy(n_st_train).float().requires_grad_().to(device)\n",
    "    n_v_train = torch.from_numpy(n_v_train).float().to(device)\n",
    "    \n",
    "    bc_st_train = torch.from_numpy(bc_st_train).float().to(device)\n",
    "    bc_v_train = torch.from_numpy(bc_v_train).float().to(device)\n",
    "    \n",
    "    \n",
    "    # normal loss\n",
    "    # print(n_st_train)\n",
    "    # print(PINNBCGD.output.weight.dtype)\n",
    "    v1_hat = PINNBCGD(n_st_train)\n",
    "    \n",
    "    grads = tgrad.grad(v1_hat, n_st_train, grad_outputs=torch.ones(v1_hat.shape).cuda(), \n",
    "                       retain_graph=True, create_graph=True, only_inputs=True)[0]\n",
    "    dVdt, dVdS = grads[:, 0].view(-1, 1), grads[:, 1].view(-1, 1)\n",
    "    grads2nd = tgrad.grad(dVdS, n_st_train, grad_outputs=torch.ones(dVdS.shape).cuda(), create_graph=True, only_inputs=True)[0]\n",
    "    d2VdS2 = grads2nd[:, 1].view(-1, 1)\n",
    "    S1 = n_st_train[:, 1].view(-1, 1)\n",
    "    pde_loss = lossFunction(-dVdt, 0.5*((sigma*S1)**2)*d2VdS2 + r*S1*dVdS - r*v1_hat)\n",
    "    \n",
    "    loss1 = D_BCGD(n_st_train) * (dVdt + 0.5*((sigma*S1)**2)*d2VdS2 + r*S1*dVdS - r*v1_hat)\n",
    "    \n",
    "    \n",
    "    # boundary condition loss\n",
    "    bc_hat = PINNBCGD(bc_st_train)\n",
    "    # print(bc_v_train)\n",
    "    # print('111111111111111111111')\n",
    "    # print(bc_hat)\n",
    "    bc_loss = lossFunction(bc_v_train, bc_hat)\n",
    "    \n",
    "    loss2 = D_BCGD(bc_st_train) * (bc_hat - bc_v_train)\n",
    "    \n",
    "    \n",
    "    # Backpropagation and Update\n",
    "    combined_loss = loss1.mean() + loss2.mean()\n",
    "    pinn_loss = pde_loss.mean() + bc_loss.mean()\n",
    "    # combined_loss.backward()\n",
    "    optimizer.step(combined_loss)\n",
    "    \n",
    "    loss_hist.append(combined_loss.item())\n",
    "    if epoch % 500 == 0:\n",
    "        print(f'{epoch}/{max_iter} PDE Loss: {pde_loss.item():.5f}, BC Loss: {bc_loss.item():.5f}, \\\n",
    "                  mse loss: {pinn_loss.item():5f}, nn loss: {combined_loss.item():5f}')\n",
    "        pass\n",
    "        \n",
    "end_time = time.time()\n",
    "print('run time:', end_time - start_time)\n",
    "print('finish')"
   ]
  }
 ],
 "metadata": {
  "kernelspec": {
   "display_name": "honor",
   "language": "python",
   "name": "python3"
  },
  "language_info": {
   "codemirror_mode": {
    "name": "ipython",
    "version": 3
   },
   "file_extension": ".py",
   "mimetype": "text/x-python",
   "name": "python",
   "nbconvert_exporter": "python",
   "pygments_lexer": "ipython3",
   "version": "3.9.16"
  },
  "orig_nbformat": 4
 },
 "nbformat": 4,
 "nbformat_minor": 2
}
