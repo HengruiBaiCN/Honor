{
 "cells": [
  {
   "cell_type": "code",
   "execution_count": 1,
   "metadata": {},
   "outputs": [],
   "source": [
    "import numpy as np\n",
    "import time\n",
    "import matplotlib.pyplot as plt\n",
    "import os\n",
    "import errno\n",
    "import utils\n",
    "\n",
    "import CGDs\n",
    "import importlib\n",
    "importlib.reload(CGDs)\n",
    "\n",
    "\n",
    "from pyDOE import lhs\n",
    "from torch import from_numpy\n",
    "\n",
    "import torch\n",
    "import torch.cuda\n",
    "import torch.nn as nn\n",
    "import torch.optim as optim\n",
    "import torch.autograd as tgrad"
   ]
  },
  {
   "cell_type": "markdown",
   "metadata": {},
   "source": [
    "# Manage device"
   ]
  },
  {
   "cell_type": "code",
   "execution_count": 2,
   "metadata": {},
   "outputs": [
    {
     "name": "stdout",
     "output_type": "stream",
     "text": [
      "True\n",
      "cuda\n"
     ]
    }
   ],
   "source": [
    "os.environ['KMP_DUPLICATE_LIB_OK']='True'\n",
    "device = torch.device('cuda' if torch.cuda.is_available() else 'cpu')\n",
    "print(torch.cuda.is_available())\n",
    "# torch.set_default_tensor_type(torch.DoubleTensor)\n",
    "print(device)\n",
    "\n",
    "if device == 'cuda': \n",
    "    print(torch.cuda.get_device_name())"
   ]
  },
  {
   "cell_type": "code",
   "execution_count": 3,
   "metadata": {},
   "outputs": [],
   "source": [
    "# utils.printMemory()"
   ]
  },
  {
   "cell_type": "markdown",
   "metadata": {},
   "source": [
    "# Data Sampling"
   ]
  },
  {
   "cell_type": "code",
   "execution_count": 4,
   "metadata": {},
   "outputs": [],
   "source": [
    "samples = {\"pde\": 50000, \"bc\":25000, \"fc\":25000}\n",
    "\n",
    "K = 40.0\n",
    "r = 0.05\n",
    "sigma = 0.25\n",
    "T = 1.0\n",
    "S_range = [0.0, 130.0]\n",
    "t_range = [0.0, T]\n",
    "gs = lambda x: np.fmax(x-K, 0.0)"
   ]
  },
  {
   "cell_type": "markdown",
   "metadata": {},
   "source": [
    "# Build Neural Network"
   ]
  },
  {
   "cell_type": "code",
   "execution_count": 5,
   "metadata": {},
   "outputs": [
    {
     "name": "stdout",
     "output_type": "stream",
     "text": [
      "FeedforwardNeuralNetwork(\n",
      "  (layers): ModuleList(\n",
      "    (0): Linear(in_features=2, out_features=50, bias=True)\n",
      "    (1-4): 4 x Linear(in_features=50, out_features=50, bias=True)\n",
      "  )\n",
      "  (output): Linear(in_features=50, out_features=1, bias=True)\n",
      "  (relu): ReLU()\n",
      ")\n"
     ]
    }
   ],
   "source": [
    "import networks\n",
    "# Create the model\n",
    "PINNCGD = networks.FeedforwardNeuralNetwork(2, 50, 1, 5)\n",
    "PINNCGD.to(device)\n",
    "print(PINNCGD)"
   ]
  },
  {
   "cell_type": "code",
   "execution_count": 6,
   "metadata": {},
   "outputs": [
    {
     "name": "stdout",
     "output_type": "stream",
     "text": [
      "Discriminator(\n",
      "  (map): Sequential(\n",
      "    (0): Linear(in_features=2, out_features=50, bias=True)\n",
      "    (1): ReLU()\n",
      "    (2): Linear(in_features=50, out_features=50, bias=True)\n",
      "    (3): ReLU()\n",
      "    (4): Linear(in_features=50, out_features=50, bias=True)\n",
      "    (5): ReLU()\n",
      "    (6): Linear(in_features=50, out_features=50, bias=True)\n",
      "    (7): ReLU()\n",
      "    (8): Linear(in_features=50, out_features=3, bias=True)\n",
      "  )\n",
      ")\n"
     ]
    }
   ],
   "source": [
    "D_CGD = networks.Discriminator(2, 25, 3)\n",
    "D_CGD.to(device)\n",
    "D_CGD.load_state_dict(D_CGD.state_dict()) # copy weights and stuff\n",
    "print(D_CGD)"
   ]
  },
  {
   "cell_type": "markdown",
   "metadata": {},
   "source": [
    "# Network Trainig"
   ]
  },
  {
   "cell_type": "markdown",
   "metadata": {},
   "source": [
    "### Hyperparameters"
   ]
  },
  {
   "cell_type": "code",
   "execution_count": 7,
   "metadata": {},
   "outputs": [],
   "source": [
    "max_iter = 30000\n",
    "\n",
    "tol = 1e-7\n",
    "atol = 1e-20\n",
    "g_iter = 1000\n",
    "lr = 0.001\n",
    "track_cond = lambda x, y: True\n",
    "\n",
    "\n",
    "# Define loss function and optimizer\n",
    "# optimizer = CGDs.BCGD(max_params=D_CGD.parameters(), min_params=PINNCGD.parameters(), device = device,\n",
    "#                  lr_max=lr, lr_min=lr, tol=1e-10, collect_info=True)\n",
    "optimizer = CGDs.ACGD(max_params=D_CGD.parameters(), min_params=PINNCGD.parameters(),\n",
    "                 lr_max=lr, lr_min=lr, tol=1e-10, beta=0.99, eps=1e-8, collect_info=True)\n",
    "# optimizer = CGDs.GACGD(x_params=D_CGD.parameters(), y_params = PINNCGD.parameters(), max_iter = g_iter,\n",
    "#             lr_x=lr, lr_y=lr, tol=tol, atol = atol, eps=1e-8, beta=0.99, track_cond = track_cond)\n",
    "lossFunction = nn.MSELoss()\n",
    "lossfunction2 = nn.L1Loss()"
   ]
  },
  {
   "cell_type": "markdown",
   "metadata": {},
   "source": [
    "### Training"
   ]
  },
  {
   "cell_type": "code",
   "execution_count": 8,
   "metadata": {},
   "outputs": [
    {
     "name": "stdout",
     "output_type": "stream",
     "text": [
      "0/30000 mse loss: 5996.648926, \n",
      "              PDE Loss: 0.00002, BC Loss: 4128.80518, FC Loss: 1867.84363, nn loss: 5.662948\n",
      "50/30000 mse loss: 254.511658, \n",
      "              PDE Loss: 0.02834, BC Loss: 153.41061, FC Loss: 101.07270, nn loss: 1849.984619\n",
      "100/30000 mse loss: 38.248631, \n",
      "              PDE Loss: 0.01650, BC Loss: 19.35157, FC Loss: 18.88056, nn loss: 25.794086\n",
      "150/30000 mse loss: 39.475319, \n",
      "              PDE Loss: 0.46222, BC Loss: 9.81835, FC Loss: 29.19475, nn loss: 235.582458\n",
      "200/30000 mse loss: 681.384644, \n",
      "              PDE Loss: 0.11375, BC Loss: 142.06224, FC Loss: 539.20862, nn loss: 212.168655\n",
      "250/30000 mse loss: 47.866997, \n",
      "              PDE Loss: 0.32989, BC Loss: 36.41618, FC Loss: 11.12093, nn loss: 16.453663\n",
      "300/30000 mse loss: 23.953295, \n",
      "              PDE Loss: 0.25540, BC Loss: 1.79634, FC Loss: 21.90155, nn loss: -2.071887\n",
      "350/30000 mse loss: 46.860596, \n",
      "              PDE Loss: 0.08725, BC Loss: 29.74096, FC Loss: 17.03238, nn loss: -6.105653\n",
      "400/30000 mse loss: 40.778393, \n",
      "              PDE Loss: 0.03270, BC Loss: 25.47022, FC Loss: 15.27547, nn loss: -0.297071\n",
      "450/30000 mse loss: 16.378754, \n",
      "              PDE Loss: 0.02503, BC Loss: 9.01422, FC Loss: 7.33951, nn loss: -0.331676\n",
      "500/30000 mse loss: 19.455238, \n",
      "              PDE Loss: 0.03333, BC Loss: 13.70342, FC Loss: 5.71849, nn loss: 0.483243\n",
      "550/30000 mse loss: 2.995198, \n",
      "              PDE Loss: 0.01979, BC Loss: 0.00080, FC Loss: 2.97460, nn loss: -0.018759\n",
      "600/30000 mse loss: 21.173380, \n",
      "              PDE Loss: 0.02174, BC Loss: 19.20913, FC Loss: 1.94252, nn loss: -0.307638\n",
      "650/30000 mse loss: 28.645069, \n",
      "              PDE Loss: 0.02461, BC Loss: 8.86721, FC Loss: 19.75325, nn loss: -0.272939\n",
      "700/30000 mse loss: 3.292989, \n",
      "              PDE Loss: 0.01840, BC Loss: 0.01194, FC Loss: 3.26265, nn loss: 0.068034\n",
      "750/30000 mse loss: 7.470602, \n",
      "              PDE Loss: 0.01785, BC Loss: 0.84704, FC Loss: 6.60571, nn loss: -0.007723\n",
      "800/30000 mse loss: 6.599269, \n",
      "              PDE Loss: 0.02018, BC Loss: 0.30929, FC Loss: 6.26980, nn loss: 0.116301\n",
      "850/30000 mse loss: 2.934024, \n",
      "              PDE Loss: 0.01310, BC Loss: 0.00524, FC Loss: 2.91568, nn loss: -0.005256\n",
      "900/30000 mse loss: 3.103269, \n",
      "              PDE Loss: 0.01077, BC Loss: 0.63596, FC Loss: 2.45654, nn loss: 0.010468\n",
      "950/30000 mse loss: 2.973525, \n",
      "              PDE Loss: 0.01228, BC Loss: 0.00332, FC Loss: 2.95793, nn loss: 0.041512\n",
      "1000/30000 mse loss: 1.788232, \n",
      "              PDE Loss: 0.01185, BC Loss: 0.01204, FC Loss: 1.76433, nn loss: 0.049138\n",
      "1050/30000 mse loss: 0.988158, \n",
      "              PDE Loss: 0.01149, BC Loss: 0.00550, FC Loss: 0.97117, nn loss: 0.033559\n",
      "1100/30000 mse loss: 1.279024, \n",
      "              PDE Loss: 0.01060, BC Loss: 0.00888, FC Loss: 1.25954, nn loss: -0.002653\n",
      "1150/30000 mse loss: 1.302162, \n",
      "              PDE Loss: 0.01006, BC Loss: 0.00625, FC Loss: 1.28585, nn loss: -0.000218\n",
      "1200/30000 mse loss: 0.378558, \n",
      "              PDE Loss: 0.01241, BC Loss: 0.00903, FC Loss: 0.35711, nn loss: -0.006283\n",
      "1250/30000 mse loss: 0.614020, \n",
      "              PDE Loss: 0.01133, BC Loss: 0.02050, FC Loss: 0.58219, nn loss: 0.003218\n",
      "1300/30000 mse loss: 0.212906, \n",
      "              PDE Loss: 0.01242, BC Loss: 0.00199, FC Loss: 0.19850, nn loss: 0.008599\n",
      "1350/30000 mse loss: 0.175673, \n",
      "              PDE Loss: 0.01317, BC Loss: 0.00119, FC Loss: 0.16131, nn loss: 0.000976\n",
      "1400/30000 mse loss: 0.175398, \n",
      "              PDE Loss: 0.01452, BC Loss: 0.00532, FC Loss: 0.15556, nn loss: 0.001456\n",
      "1450/30000 mse loss: 0.120369, \n",
      "              PDE Loss: 0.01022, BC Loss: 0.00067, FC Loss: 0.10947, nn loss: 0.006226\n",
      "1500/30000 mse loss: 0.079868, \n",
      "              PDE Loss: 0.00568, BC Loss: 0.00056, FC Loss: 0.07362, nn loss: 0.005343\n",
      "1550/30000 mse loss: 0.069746, \n",
      "              PDE Loss: 0.00465, BC Loss: 0.00029, FC Loss: 0.06480, nn loss: 0.005962\n",
      "1600/30000 mse loss: 0.066721, \n",
      "              PDE Loss: 0.00403, BC Loss: 0.00037, FC Loss: 0.06232, nn loss: 0.007514\n",
      "1650/30000 mse loss: 0.037135, \n",
      "              PDE Loss: 0.00512, BC Loss: 0.00027, FC Loss: 0.03174, nn loss: 0.011924\n",
      "1700/30000 mse loss: 0.035564, \n",
      "              PDE Loss: 0.00692, BC Loss: 0.00053, FC Loss: 0.02812, nn loss: 0.020314\n",
      "1750/30000 mse loss: 0.022369, \n",
      "              PDE Loss: 0.00708, BC Loss: 0.00023, FC Loss: 0.01506, nn loss: 0.030090\n",
      "1800/30000 mse loss: 0.033988, \n",
      "              PDE Loss: 0.01019, BC Loss: 0.00065, FC Loss: 0.02315, nn loss: 0.021992\n",
      "1850/30000 mse loss: 0.068285, \n",
      "              PDE Loss: 0.01547, BC Loss: 0.00044, FC Loss: 0.05238, nn loss: 0.019872\n",
      "1900/30000 mse loss: 0.045814, \n",
      "              PDE Loss: 0.01559, BC Loss: 0.01558, FC Loss: 0.01464, nn loss: 0.022257\n",
      "1950/30000 mse loss: 0.041677, \n",
      "              PDE Loss: 0.01723, BC Loss: 0.00049, FC Loss: 0.02395, nn loss: 0.021672\n",
      "2000/30000 mse loss: 0.053787, \n",
      "              PDE Loss: 0.02219, BC Loss: 0.00212, FC Loss: 0.02948, nn loss: 0.082801\n",
      "2050/30000 mse loss: 0.100890, \n",
      "              PDE Loss: 0.02203, BC Loss: 0.00345, FC Loss: 0.07541, nn loss: 0.114045\n",
      "2100/30000 mse loss: 0.141563, \n",
      "              PDE Loss: 0.02954, BC Loss: 0.00244, FC Loss: 0.10959, nn loss: 0.060943\n",
      "2150/30000 mse loss: 0.076917, \n",
      "              PDE Loss: 0.01558, BC Loss: 0.00666, FC Loss: 0.05468, nn loss: 0.026884\n",
      "2200/30000 mse loss: 0.087488, \n",
      "              PDE Loss: 0.02122, BC Loss: 0.00924, FC Loss: 0.05704, nn loss: 0.048382\n",
      "2250/30000 mse loss: 0.076093, \n",
      "              PDE Loss: 0.04653, BC Loss: 0.00340, FC Loss: 0.02616, nn loss: 0.195316\n",
      "2300/30000 mse loss: 0.050941, \n",
      "              PDE Loss: 0.02352, BC Loss: 0.00882, FC Loss: 0.01860, nn loss: 0.381058\n",
      "2350/30000 mse loss: 0.183756, \n",
      "              PDE Loss: 0.02742, BC Loss: 0.05625, FC Loss: 0.10008, nn loss: 0.454948\n",
      "2400/30000 mse loss: 0.376831, \n",
      "              PDE Loss: 0.01929, BC Loss: 0.01507, FC Loss: 0.34247, nn loss: 0.467090\n",
      "2450/30000 mse loss: 0.323257, \n",
      "              PDE Loss: 0.07533, BC Loss: 0.02996, FC Loss: 0.21796, nn loss: 0.421056\n",
      "2500/30000 mse loss: 0.087118, \n",
      "              PDE Loss: 0.01093, BC Loss: 0.00449, FC Loss: 0.07169, nn loss: 0.597915\n",
      "2550/30000 mse loss: 0.133588, \n",
      "              PDE Loss: 0.02719, BC Loss: 0.00737, FC Loss: 0.09903, nn loss: 0.538101\n",
      "2600/30000 mse loss: 0.207899, \n",
      "              PDE Loss: 0.01766, BC Loss: 0.00074, FC Loss: 0.18951, nn loss: -0.037472\n",
      "2650/30000 mse loss: 0.158397, \n",
      "              PDE Loss: 0.02546, BC Loss: 0.02071, FC Loss: 0.11223, nn loss: 0.073150\n",
      "2700/30000 mse loss: 0.079647, \n",
      "              PDE Loss: 0.01478, BC Loss: 0.03206, FC Loss: 0.03280, nn loss: 0.051432\n",
      "2750/30000 mse loss: 0.056289, \n",
      "              PDE Loss: 0.01208, BC Loss: 0.00017, FC Loss: 0.04404, nn loss: 0.048987\n",
      "2800/30000 mse loss: 0.059130, \n",
      "              PDE Loss: 0.01691, BC Loss: 0.00125, FC Loss: 0.04097, nn loss: 0.048209\n",
      "2850/30000 mse loss: 0.065709, \n",
      "              PDE Loss: 0.01358, BC Loss: 0.00281, FC Loss: 0.04932, nn loss: 0.049860\n",
      "2900/30000 mse loss: 0.200138, \n",
      "              PDE Loss: 0.01509, BC Loss: 0.00720, FC Loss: 0.17785, nn loss: 0.030366\n",
      "2950/30000 mse loss: 0.112614, \n",
      "              PDE Loss: 0.01088, BC Loss: 0.00372, FC Loss: 0.09801, nn loss: 0.030636\n",
      "3000/30000 mse loss: 0.196227, \n",
      "              PDE Loss: 0.00870, BC Loss: 0.00110, FC Loss: 0.18643, nn loss: 0.086666\n",
      "3050/30000 mse loss: 0.289571, \n",
      "              PDE Loss: 0.02027, BC Loss: 0.00959, FC Loss: 0.25971, nn loss: 0.115145\n",
      "3100/30000 mse loss: 0.130123, \n",
      "              PDE Loss: 0.01738, BC Loss: 0.00017, FC Loss: 0.11257, nn loss: 0.079897\n",
      "3150/30000 mse loss: 0.112947, \n",
      "              PDE Loss: 0.02186, BC Loss: 0.00061, FC Loss: 0.09048, nn loss: 0.068676\n",
      "3200/30000 mse loss: 0.378977, \n",
      "              PDE Loss: 0.01405, BC Loss: 0.00228, FC Loss: 0.36265, nn loss: 0.132159\n",
      "3250/30000 mse loss: 0.066726, \n",
      "              PDE Loss: 0.01186, BC Loss: 0.00086, FC Loss: 0.05401, nn loss: 0.089573\n",
      "3300/30000 mse loss: 0.141498, \n",
      "              PDE Loss: 0.01796, BC Loss: 0.00327, FC Loss: 0.12027, nn loss: 0.093123\n"
     ]
    },
    {
     "ename": "KeyboardInterrupt",
     "evalue": "",
     "output_type": "error",
     "traceback": [
      "\u001b[1;31m---------------------------------------------------------------------------\u001b[0m",
      "\u001b[1;31mKeyboardInterrupt\u001b[0m                         Traceback (most recent call last)",
      "Cell \u001b[1;32mIn[8], line 70\u001b[0m\n\u001b[0;32m     68\u001b[0m pinn_loss \u001b[39m=\u001b[39m pde_loss\u001b[39m.\u001b[39mmean() \u001b[39m+\u001b[39m bc_loss\u001b[39m.\u001b[39mmean() \u001b[39m+\u001b[39m fc_loss\u001b[39m.\u001b[39mmean()\n\u001b[0;32m     69\u001b[0m \u001b[39m# optimizer.step(combined_loss, -combined_loss, 0)\u001b[39;00m\n\u001b[1;32m---> 70\u001b[0m optimizer\u001b[39m.\u001b[39;49mstep(combined_loss)\n\u001b[0;32m     72\u001b[0m loss_hist\u001b[39m.\u001b[39mappend(pinn_loss\u001b[39m.\u001b[39mitem())\n\u001b[0;32m     73\u001b[0m \u001b[39mif\u001b[39;00m epoch \u001b[39m%\u001b[39m \u001b[39m50\u001b[39m \u001b[39m==\u001b[39m \u001b[39m0\u001b[39m:\n",
      "File \u001b[1;32mc:\\Users\\hengr\\miniconda3\\envs\\honor\\lib\\site-packages\\CGDs\\acgd.py:72\u001b[0m, in \u001b[0;36mACGD.step\u001b[1;34m(self, loss, trigger)\u001b[0m\n\u001b[0;32m     69\u001b[0m \u001b[39mself\u001b[39m\u001b[39m.\u001b[39mstate[\u001b[39m'\u001b[39m\u001b[39mstep\u001b[39m\u001b[39m'\u001b[39m] \u001b[39m=\u001b[39m time_step\n\u001b[0;32m     70\u001b[0m should_rebuild \u001b[39m=\u001b[39m time_step \u001b[39m<\u001b[39m \u001b[39m2\u001b[39m\n\u001b[1;32m---> 72\u001b[0m grad_x \u001b[39m=\u001b[39m autograd\u001b[39m.\u001b[39;49mgrad(loss, \u001b[39mself\u001b[39;49m\u001b[39m.\u001b[39;49mmax_params, create_graph\u001b[39m=\u001b[39;49m\u001b[39mTrue\u001b[39;49;00m)\n\u001b[0;32m     73\u001b[0m grad_x_vec \u001b[39m=\u001b[39m torch\u001b[39m.\u001b[39mcat([g\u001b[39m.\u001b[39mcontiguous()\u001b[39m.\u001b[39mview(\u001b[39m-\u001b[39m\u001b[39m1\u001b[39m) \u001b[39mfor\u001b[39;00m g \u001b[39min\u001b[39;00m grad_x])\n\u001b[0;32m     74\u001b[0m grad_y \u001b[39m=\u001b[39m autograd\u001b[39m.\u001b[39mgrad(loss, \u001b[39mself\u001b[39m\u001b[39m.\u001b[39mmin_params, create_graph\u001b[39m=\u001b[39m\u001b[39mTrue\u001b[39;00m)\n",
      "File \u001b[1;32mc:\\Users\\hengr\\miniconda3\\envs\\honor\\lib\\site-packages\\torch\\autograd\\__init__.py:303\u001b[0m, in \u001b[0;36mgrad\u001b[1;34m(outputs, inputs, grad_outputs, retain_graph, create_graph, only_inputs, allow_unused, is_grads_batched)\u001b[0m\n\u001b[0;32m    301\u001b[0m     \u001b[39mreturn\u001b[39;00m _vmap_internals\u001b[39m.\u001b[39m_vmap(vjp, \u001b[39m0\u001b[39m, \u001b[39m0\u001b[39m, allow_none_pass_through\u001b[39m=\u001b[39m\u001b[39mTrue\u001b[39;00m)(grad_outputs_)\n\u001b[0;32m    302\u001b[0m \u001b[39melse\u001b[39;00m:\n\u001b[1;32m--> 303\u001b[0m     \u001b[39mreturn\u001b[39;00m Variable\u001b[39m.\u001b[39;49m_execution_engine\u001b[39m.\u001b[39;49mrun_backward(  \u001b[39m# Calls into the C++ engine to run the backward pass\u001b[39;49;00m\n\u001b[0;32m    304\u001b[0m         t_outputs, grad_outputs_, retain_graph, create_graph, t_inputs,\n\u001b[0;32m    305\u001b[0m         allow_unused, accumulate_grad\u001b[39m=\u001b[39;49m\u001b[39mFalse\u001b[39;49;00m)\n",
      "\u001b[1;31mKeyboardInterrupt\u001b[0m: "
     ]
    }
   ],
   "source": [
    "start_time=time.time()\n",
    "loss_hist = []\n",
    "\n",
    "for epoch in range(max_iter):\n",
    "    \n",
    "    optimizer.zero_grad() # zeroes the gradient buffers of all parameters\n",
    "    \n",
    "    # sampling\n",
    "    f_st_train, f_v_train, bc_st_train, bc_v_train, n_st_train, n_v_train = \\\n",
    "    utils.trainingData(K, \n",
    "                       r, \n",
    "                       sigma, \n",
    "                       T, \n",
    "                       S_range[-1], \n",
    "                       S_range, \n",
    "                       t_range, \n",
    "                       gs, \n",
    "                       samples['bc'], \n",
    "                       samples['fc'], \n",
    "                       samples['pde'], \n",
    "                       RNG_key=123)\n",
    "    \n",
    "    # save training data points to tensor and send to device\n",
    "    n_st_train = torch.from_numpy(n_st_train).float().requires_grad_().to(device)\n",
    "    n_v_train = torch.from_numpy(n_v_train).float().to(device)\n",
    "    \n",
    "    bc_st_train = torch.from_numpy(bc_st_train).float().to(device)\n",
    "    bc_v_train = torch.from_numpy(bc_v_train).float().to(device)\n",
    "    \n",
    "    f_st_train = torch.from_numpy(f_st_train).float().to(device)\n",
    "    f_v_train = torch.from_numpy(f_v_train).float().to(device)\n",
    "    \n",
    "    \n",
    "    # normal loss\n",
    "    # print(n_st_train)\n",
    "    # print(PINNBCGD.output.weight.dtype)\n",
    "    v1_hat = PINNCGD(n_st_train)\n",
    "    \n",
    "    grads = tgrad.grad(v1_hat, n_st_train, grad_outputs=torch.ones(v1_hat.shape).cuda(), \n",
    "                       retain_graph=True, create_graph=True, only_inputs=True)[0]\n",
    "    dVdt, dVdS = grads[:, 0].view(-1, 1), grads[:, 1].view(-1, 1)\n",
    "    grads2nd = tgrad.grad(dVdS, n_st_train, grad_outputs=torch.ones(dVdS.shape).cuda(),\n",
    "                          create_graph=True, only_inputs=True)[0]\n",
    "    d2VdS2 = grads2nd[:, 1].view(-1, 1)\n",
    "    S1 = n_st_train[:, 1].view(-1, 1)\n",
    "    pde_loss = lossFunction(-dVdt, 0.5*((sigma*S1)**2)*d2VdS2 + r*S1*dVdS - r*v1_hat)\n",
    "    \n",
    "    loss1 = (D_CGD(n_st_train)[:, [0]] * (dVdt + 0.5*((sigma*S1)**2)*d2VdS2 + r*S1*dVdS - r*v1_hat))\n",
    "    \n",
    "    \n",
    "    # boundary condition loss\n",
    "    bc_hat = PINNCGD(bc_st_train)\n",
    "    # print(bc_v_train)\n",
    "    # print('111111111111111111111')\n",
    "    # print(bc_hat)\n",
    "    bc_loss = lossFunction(bc_v_train, bc_hat)\n",
    "    loss2 = (D_CGD(bc_st_train)[:, [1]] * (bc_hat - bc_v_train))\n",
    "    \n",
    "    \n",
    "    # final condition loss\n",
    "    fc_hat = PINNCGD(f_st_train)\n",
    "    fc_loss = lossFunction(f_v_train, fc_hat)\n",
    "    loss3 = (D_CGD(f_st_train)[:, [2]] * (fc_hat - f_v_train))\n",
    "    \n",
    "    \n",
    "    # Backpropagation and Update\n",
    "    combined_loss = (loss1.mean() + loss2.mean() + loss3.mean())\n",
    "    pinn_loss = pde_loss.mean() + bc_loss.mean() + fc_loss.mean()\n",
    "    # optimizer.step(combined_loss, -combined_loss, 0)\n",
    "    optimizer.step(combined_loss)\n",
    "    \n",
    "    loss_hist.append(pinn_loss.item())\n",
    "    if epoch % 50 == 0:\n",
    "        print(f'''{epoch}/{max_iter} mse loss: {pinn_loss.item():5f}, \n",
    "              PDE Loss: {pde_loss.item():.5f}, BC Loss: {bc_loss.item():.5f}, FC Loss: {fc_loss.item():.5f}, nn loss: {combined_loss.item():5f}''')\n",
    "        pass\n",
    "        \n",
    "end_time = time.time()\n",
    "print('run time:', end_time - start_time)\n",
    "print('finish')"
   ]
  },
  {
   "cell_type": "code",
   "execution_count": null,
   "metadata": {},
   "outputs": [
    {
     "data": {
      "image/png": "[encoded data removed]",
      "text/plain": [
       "<Figure size 640x480 with 1 Axes>"
      ]
     },
     "metadata": {},
     "output_type": "display_data"
    }
   ],
   "source": [
    "# Create a figure and axis\n",
    "fig, ax = plt.subplots()\n",
    "\n",
    "# Plot the data\n",
    "ax.plot(range(30000), loss_hist, marker='o', linestyle='-', color='b', label='Data Points')\n",
    "\n",
    "# Set labels and title\n",
    "ax.set_xlabel('X-axis')\n",
    "ax.set_ylabel('Y-axis')\n",
    "ax.set_title('Simple Python Plot')\n",
    "\n",
    "# Show legend\n",
    "ax.legend()\n",
    "\n",
    "# Display the plot\n",
    "plt.show()"
   ]
  }
 ],
 "metadata": {
  "kernelspec": {
   "display_name": "honor",
   "language": "python",
   "name": "python3"
  },
  "language_info": {
   "codemirror_mode": {
    "name": "ipython",
    "version": 3
   },
   "file_extension": ".py",
   "mimetype": "text/x-python",
   "name": "python",
   "nbconvert_exporter": "python",
   "pygments_lexer": "ipython3",
   "version": "3.9.16"
  },
  "orig_nbformat": 4
 },
 "nbformat": 4,
 "nbformat_minor": 2
}
