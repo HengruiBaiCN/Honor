{
 "cells": [
  {
   "cell_type": "code",
   "execution_count": 1,
   "metadata": {},
   "outputs": [],
   "source": [
    "import numpy as np\n",
    "import time\n",
    "import matplotlib.pyplot as plt\n",
    "import os\n",
    "import errno\n",
    "import utils\n",
    "\n",
    "import CGDs\n",
    "import importlib\n",
    "importlib.reload(CGDs)\n",
    "\n",
    "\n",
    "from pyDOE import lhs\n",
    "from torch import from_numpy\n",
    "\n",
    "import torch\n",
    "import torch.cuda\n",
    "import torch.nn as nn\n",
    "import torch.optim as optim\n",
    "import torch.autograd as tgrad"
   ]
  },
  {
   "cell_type": "markdown",
   "metadata": {},
   "source": [
    "# Manage device"
   ]
  },
  {
   "cell_type": "code",
   "execution_count": 2,
   "metadata": {},
   "outputs": [
    {
     "name": "stdout",
     "output_type": "stream",
     "text": [
      "True\n",
      "cuda\n"
     ]
    }
   ],
   "source": [
    "os.environ['KMP_DUPLICATE_LIB_OK']='True'\n",
    "device = torch.device('cuda' if torch.cuda.is_available() else 'cpu')\n",
    "print(torch.cuda.is_available())\n",
    "# torch.set_default_tensor_type(torch.DoubleTensor)\n",
    "print(device)\n",
    "\n",
    "if device == 'cuda': \n",
    "    print(torch.cuda.get_device_name())"
   ]
  },
  {
   "cell_type": "code",
   "execution_count": 3,
   "metadata": {},
   "outputs": [],
   "source": [
    "# utils.printMemory()"
   ]
  },
  {
   "cell_type": "markdown",
   "metadata": {},
   "source": [
    "# Data Sampling"
   ]
  },
  {
   "cell_type": "code",
   "execution_count": 4,
   "metadata": {},
   "outputs": [],
   "source": [
    "samples = {\"pde\": 50000, \"bc\":25000, \"fc\":25000}\n",
    "\n",
    "K = 40.0\n",
    "r = 0.05\n",
    "sigma = 0.25\n",
    "T = 1.0\n",
    "S_range = [0.0, 130.0]\n",
    "t_range = [0.0, T]\n",
    "gs = lambda x: np.fmax(x-K, 0.0)"
   ]
  },
  {
   "cell_type": "markdown",
   "metadata": {},
   "source": [
    "# Build Neural Network"
   ]
  },
  {
   "cell_type": "code",
   "execution_count": 5,
   "metadata": {},
   "outputs": [
    {
     "name": "stdout",
     "output_type": "stream",
     "text": [
      "FeedforwardNeuralNetwork(\n",
      "  (layers): ModuleList(\n",
      "    (0): Linear(in_features=2, out_features=50, bias=True)\n",
      "    (1-4): 4 x Linear(in_features=50, out_features=50, bias=True)\n",
      "  )\n",
      "  (output): Linear(in_features=50, out_features=1, bias=True)\n",
      "  (relu): ReLU()\n",
      ")\n"
     ]
    }
   ],
   "source": [
    "import networks\n",
    "# Create the model\n",
    "PINNCGD = networks.FeedforwardNeuralNetwork(2, 50, 1, 5)\n",
    "PINNCGD.to(device)\n",
    "print(PINNCGD)"
   ]
  },
  {
   "cell_type": "code",
   "execution_count": 6,
   "metadata": {},
   "outputs": [
    {
     "name": "stdout",
     "output_type": "stream",
     "text": [
      "Discriminator(\n",
      "  (map): Sequential(\n",
      "    (0): Linear(in_features=2, out_features=50, bias=True)\n",
      "    (1): ReLU()\n",
      "    (2): Linear(in_features=50, out_features=50, bias=True)\n",
      "    (3): ReLU()\n",
      "    (4): Linear(in_features=50, out_features=50, bias=True)\n",
      "    (5): ReLU()\n",
      "    (6): Linear(in_features=50, out_features=50, bias=True)\n",
      "    (7): ReLU()\n",
      "    (8): Linear(in_features=50, out_features=2, bias=True)\n",
      "  )\n",
      ")\n"
     ]
    }
   ],
   "source": [
    "D_CGD = networks.Discriminator(2, 25, 2)\n",
    "D_CGD.to(device)\n",
    "D_CGD.load_state_dict(D_CGD.state_dict()) # copy weights and stuff\n",
    "print(D_CGD)"
   ]
  },
  {
   "cell_type": "markdown",
   "metadata": {},
   "source": [
    "# Network Trainig"
   ]
  },
  {
   "cell_type": "markdown",
   "metadata": {},
   "source": [
    "### Hyperparameters"
   ]
  },
  {
   "cell_type": "code",
   "execution_count": 7,
   "metadata": {},
   "outputs": [],
   "source": [
    "max_iter = 30000\n",
    "\n",
    "tol = 1e-7\n",
    "atol = 1e-20\n",
    "g_iter = 1000\n",
    "lr = 0.02\n",
    "track_cond = lambda x, y: True\n",
    "\n",
    "\n",
    "# Define loss function and optimizer\n",
    "# optimizer = CGDs.BCGD(max_params=D_CGD.parameters(), min_params=PINNCGD.parameters(), device = device,\n",
    "#                  lr_max=lr, lr_min=lr, tol=1e-10, collect_info=True)\n",
    "# optimizer = CGDs.ACGD(max_params=D_CGD.parameters(), min_params=PINNCGD.parameters(),\n",
    "#                  lr_max=lr, lr_min=lr, tol=1e-10, beta=0.99, eps=1e-8, collect_info=True)\n",
    "optimizer = CGDs.GACGD(x_params=D_CGD.parameters(), y_params = PINNCGD.parameters(), max_iter = g_iter,\n",
    "            lr_x=lr, lr_y=lr, tol=tol, atol = atol, eps=1e-8, beta=0.99, track_cond = track_cond)\n",
    "lossFunction = nn.MSELoss()\n",
    "lossfunction2 = nn.L1Loss()"
   ]
  },
  {
   "cell_type": "markdown",
   "metadata": {},
   "source": [
    "### Training"
   ]
  },
  {
   "cell_type": "code",
   "execution_count": 8,
   "metadata": {},
   "outputs": [
    {
     "name": "stderr",
     "output_type": "stream",
     "text": [
      "c:\\Users\\hengr\\miniconda3\\envs\\honor\\lib\\site-packages\\CGDs\\gmres_torch.py:124: UserWarning: torch.triangular_solve is deprecated in favor of torch.linalg.solve_triangularand will be removed in a future PyTorch release.\n",
      "torch.linalg.solve_triangular has its arguments reversed and does not return a copy of one of the inputs.\n",
      "X = torch.triangular_solve(B, A).solution\n",
      "should be replaced with\n",
      "X = torch.linalg.solve_triangular(A, B). (Triggered internally at C:\\cb\\pytorch_1000000000000\\work\\aten\\src\\ATen\\native\\BatchLinearAlgebra.cpp:2197.)\n",
      "  y, _ = torch.triangular_solve(beta[0:j + 1].unsqueeze(-1), H[0:j + 1, 0:j + 1])  # j x j\n"
     ]
    },
    {
     "name": "stdout",
     "output_type": "stream",
     "text": [
      "0/30000 mse loss: 3296.545654, \n",
      "              PDE Loss: 0.00001, BC Loss: 3296.54565, nn loss: 104.902443\n",
      "50/30000 mse loss: 3191.447998, \n",
      "              PDE Loss: 2865.72290, BC Loss: 325.72516, nn loss: 27.912725\n",
      "100/30000 mse loss: 996.313232, \n",
      "              PDE Loss: 904.19727, BC Loss: 92.11594, nn loss: 3.735873\n",
      "150/30000 mse loss: 1095.142700, \n",
      "              PDE Loss: 338.26288, BC Loss: 756.87982, nn loss: 40.156326\n",
      "200/30000 mse loss: 369.052155, \n",
      "              PDE Loss: 328.72250, BC Loss: 40.32965, nn loss: 5.153080\n",
      "250/30000 mse loss: 105.331268, \n",
      "              PDE Loss: 5.68022, BC Loss: 99.65105, nn loss: 1.980475\n",
      "300/30000 mse loss: 97.691193, \n",
      "              PDE Loss: 6.14734, BC Loss: 91.54385, nn loss: 3.806118\n",
      "350/30000 mse loss: 151.661819, \n",
      "              PDE Loss: 14.55630, BC Loss: 137.10551, nn loss: 22.682350\n",
      "400/30000 mse loss: 264.482361, \n",
      "              PDE Loss: 6.82661, BC Loss: 257.65576, nn loss: 6.016401\n",
      "450/30000 mse loss: 126.860199, \n",
      "              PDE Loss: 1.64410, BC Loss: 125.21610, nn loss: 6.264043\n",
      "500/30000 mse loss: 146.013412, \n",
      "              PDE Loss: 0.94236, BC Loss: 145.07106, nn loss: 7.677135\n",
      "550/30000 mse loss: 194.910843, \n",
      "              PDE Loss: 0.86741, BC Loss: 194.04344, nn loss: 13.705735\n"
     ]
    },
    {
     "ename": "KeyboardInterrupt",
     "evalue": "",
     "output_type": "error",
     "traceback": [
      "\u001b[1;31m---------------------------------------------------------------------------\u001b[0m",
      "\u001b[1;31mKeyboardInterrupt\u001b[0m                         Traceback (most recent call last)",
      "Cell \u001b[1;32mIn[8], line 62\u001b[0m\n\u001b[0;32m     60\u001b[0m pinn_loss \u001b[39m=\u001b[39m pde_loss\u001b[39m.\u001b[39mmean() \u001b[39m+\u001b[39m bc_loss\u001b[39m.\u001b[39mmean()\n\u001b[0;32m     61\u001b[0m \u001b[39m# combined_loss.backward()\u001b[39;00m\n\u001b[1;32m---> 62\u001b[0m optimizer\u001b[39m.\u001b[39;49mstep(combined_loss, \u001b[39m-\u001b[39;49mcombined_loss, \u001b[39m0\u001b[39;49m)\n\u001b[0;32m     63\u001b[0m \u001b[39m# optimizer.step(combined_loss)\u001b[39;00m\n\u001b[0;32m     65\u001b[0m loss_hist\u001b[39m.\u001b[39mappend(pinn_loss\u001b[39m.\u001b[39mitem())\n",
      "File \u001b[1;32mc:\\Users\\hengr\\miniconda3\\envs\\honor\\lib\\site-packages\\CGDs\\gmres_acgd.py:165\u001b[0m, in \u001b[0;36mGACGD.step\u001b[1;34m(self, loss_x, loss_y, trigger)\u001b[0m\n\u001b[0;32m    157\u001b[0m prev_x0 \u001b[39m=\u001b[39m \u001b[39mNone\u001b[39;00m\n\u001b[0;32m    158\u001b[0m Avp \u001b[39m=\u001b[39m partial(MvProd,\n\u001b[0;32m    159\u001b[0m               grad_fy\u001b[39m=\u001b[39mgrad_fy_vec, grad_gx\u001b[39m=\u001b[39mgrad_gx_vec,\n\u001b[0;32m    160\u001b[0m               x_params\u001b[39m=\u001b[39m\u001b[39mself\u001b[39m\u001b[39m.\u001b[39mx_params, y_params\u001b[39m=\u001b[39m\u001b[39mself\u001b[39m\u001b[39m.\u001b[39my_params,\n\u001b[1;32m   (...)\u001b[0m\n\u001b[0;32m    163\u001b[0m               x_reducer\u001b[39m=\u001b[39m\u001b[39mself\u001b[39m\u001b[39m.\u001b[39mx_reducer, y_reducer\u001b[39m=\u001b[39m\u001b[39mself\u001b[39m\u001b[39m.\u001b[39my_reducer,\n\u001b[0;32m    164\u001b[0m               rebuild\u001b[39m=\u001b[39mshould_rebuild)\n\u001b[1;32m--> 165\u001b[0m soln, (num_iter, err_history) \u001b[39m=\u001b[39m GMRES(Avp\u001b[39m=\u001b[39;49mAvp, b\u001b[39m=\u001b[39;49mRHS, x0\u001b[39m=\u001b[39;49mprev_x0,\n\u001b[0;32m    166\u001b[0m                                       max_iter\u001b[39m=\u001b[39;49m\u001b[39mself\u001b[39;49m\u001b[39m.\u001b[39;49mmax_iter,\n\u001b[0;32m    167\u001b[0m                                       tol\u001b[39m=\u001b[39;49mtol, atol\u001b[39m=\u001b[39;49matol,\n\u001b[0;32m    168\u001b[0m                                       track\u001b[39m=\u001b[39;49mtrack_flag)\n\u001b[0;32m    170\u001b[0m \u001b[39mself\u001b[39m\u001b[39m.\u001b[39mstate[\u001b[39m'\u001b[39m\u001b[39mx0\u001b[39m\u001b[39m'\u001b[39m] \u001b[39m=\u001b[39m soln\n\u001b[0;32m    171\u001b[0m \u001b[39mself\u001b[39m\u001b[39m.\u001b[39mstate\u001b[39m.\u001b[39mupdate(\n\u001b[0;32m    172\u001b[0m     {\n\u001b[0;32m    173\u001b[0m         \u001b[39m'\u001b[39m\u001b[39msq_exp_avg_x\u001b[39m\u001b[39m'\u001b[39m: sq_avg_x,\n\u001b[0;32m    174\u001b[0m         \u001b[39m'\u001b[39m\u001b[39msq_exp_avg_y\u001b[39m\u001b[39m'\u001b[39m: sq_avg_y\n\u001b[0;32m    175\u001b[0m     }\n\u001b[0;32m    176\u001b[0m )\n",
      "File \u001b[1;32mc:\\Users\\hengr\\miniconda3\\envs\\honor\\lib\\site-packages\\CGDs\\gmres_torch.py:107\u001b[0m, in \u001b[0;36mGMRES\u001b[1;34m(Avp, b, x0, max_iter, tol, atol, track)\u001b[0m\n\u001b[0;32m    104\u001b[0m ss \u001b[39m=\u001b[39m torch\u001b[39m.\u001b[39mzeros(max_iter, device\u001b[39m=\u001b[39mb\u001b[39m.\u001b[39mdevice)  \u001b[39m# sine values at each step\u001b[39;00m\n\u001b[0;32m    106\u001b[0m \u001b[39mfor\u001b[39;00m j \u001b[39min\u001b[39;00m \u001b[39mrange\u001b[39m(max_iter):\n\u001b[1;32m--> 107\u001b[0m     p \u001b[39m=\u001b[39m Avp(V[j])\n\u001b[0;32m    108\u001b[0m     new_v \u001b[39m=\u001b[39m arnoldi(p, V, H, j \u001b[39m+\u001b[39m \u001b[39m1\u001b[39m)  \u001b[39m# Arnoldi iteration to get the j+1 th ba\u001b[39;00m\n\u001b[0;32m    109\u001b[0m     \u001b[39m# sis\u001b[39;00m\n",
      "File \u001b[1;32mc:\\Users\\hengr\\miniconda3\\envs\\honor\\lib\\site-packages\\CGDs\\gmres_acgd.py:43\u001b[0m, in \u001b[0;36mMvProd\u001b[1;34m(vec, grad_fy, grad_gx, x_params, y_params, lr_x, lr_y, trigger, x_reducer, y_reducer, rebuild)\u001b[0m\n\u001b[0;32m     41\u001b[0m v1 \u001b[39m=\u001b[39m vec[\u001b[39m0\u001b[39m: len_x]\n\u001b[0;32m     42\u001b[0m v2 \u001b[39m=\u001b[39m vec[len_x: len_x \u001b[39m+\u001b[39m len_y]\n\u001b[1;32m---> 43\u001b[0m h1 \u001b[39m=\u001b[39m Hvp_vec(grad_fy, x_params, v2,\n\u001b[0;32m     44\u001b[0m              retain_graph\u001b[39m=\u001b[39;49m\u001b[39mTrue\u001b[39;49;00m, trigger\u001b[39m=\u001b[39;49mtrigger,\n\u001b[0;32m     45\u001b[0m              reducer\u001b[39m=\u001b[39;49mx_reducer,\n\u001b[0;32m     46\u001b[0m              rebuild\u001b[39m=\u001b[39;49mrebuild)\n\u001b[0;32m     47\u001b[0m p1 \u001b[39m=\u001b[39m v1 \u001b[39m+\u001b[39m lr_x \u001b[39m*\u001b[39m h1\n\u001b[0;32m     48\u001b[0m h2 \u001b[39m=\u001b[39m Hvp_vec(grad_gx, y_params, v1,\n\u001b[0;32m     49\u001b[0m              retain_graph\u001b[39m=\u001b[39m\u001b[39mTrue\u001b[39;00m, trigger\u001b[39m=\u001b[39mtrigger,\n\u001b[0;32m     50\u001b[0m              reducer\u001b[39m=\u001b[39my_reducer,\n\u001b[0;32m     51\u001b[0m              rebuild\u001b[39m=\u001b[39mrebuild)\n",
      "File \u001b[1;32mc:\\Users\\hengr\\miniconda3\\envs\\honor\\lib\\site-packages\\CGDs\\cgd_utils.py:113\u001b[0m, in \u001b[0;36mHvp_vec\u001b[1;34m(grad_vec, params, vec, retain_graph, trigger, reducer, rebuild)\u001b[0m\n\u001b[0;32m    109\u001b[0m autograd\u001b[39m.\u001b[39mbackward(grad_vec \u001b[39m+\u001b[39m \u001b[39m0.0\u001b[39m \u001b[39m*\u001b[39m trigger, grad_tensors\u001b[39m=\u001b[39mvec,\n\u001b[0;32m    110\u001b[0m                   inputs\u001b[39m=\u001b[39mparams,\n\u001b[0;32m    111\u001b[0m                   retain_graph\u001b[39m=\u001b[39mretain_graph)\n\u001b[0;32m    112\u001b[0m hvp \u001b[39m=\u001b[39m vectorize_grad(params)\n\u001b[1;32m--> 113\u001b[0m \u001b[39mif\u001b[39;00m torch\u001b[39m.\u001b[39misnan(hvp)\u001b[39m.\u001b[39many():\n\u001b[0;32m    114\u001b[0m     \u001b[39mraise\u001b[39;00m \u001b[39mValueError\u001b[39;00m(\u001b[39m'\u001b[39m\u001b[39mhvp Nan\u001b[39m\u001b[39m'\u001b[39m)\n\u001b[0;32m    115\u001b[0m \u001b[39mreturn\u001b[39;00m hvp\n",
      "\u001b[1;31mKeyboardInterrupt\u001b[0m: "
     ]
    }
   ],
   "source": [
    "start_time=time.time()\n",
    "loss_hist = []\n",
    "\n",
    "for epoch in range(max_iter):\n",
    "    \n",
    "    optimizer.zero_grad() # zeroes the gradient buffers of all parameters\n",
    "    \n",
    "    # sampling\n",
    "    bc_st_train, bc_v_train, n_st_train, n_v_train = \\\n",
    "    utils.trainingData(K, \n",
    "                       r, \n",
    "                       sigma, \n",
    "                       T, \n",
    "                       S_range[-1], \n",
    "                       S_range, \n",
    "                       t_range, \n",
    "                       gs, \n",
    "                       samples['bc'], \n",
    "                       samples['fc'], \n",
    "                       samples['pde'], \n",
    "                       RNG_key=123)\n",
    "    \n",
    "    # save training data points to tensor and send to device\n",
    "    n_st_train = torch.from_numpy(n_st_train).float().requires_grad_().to(device)\n",
    "    n_v_train = torch.from_numpy(n_v_train).float().to(device)\n",
    "    \n",
    "    bc_st_train = torch.from_numpy(bc_st_train).float().to(device)\n",
    "    bc_v_train = torch.from_numpy(bc_v_train).float().to(device)\n",
    "    \n",
    "    \n",
    "    # normal loss\n",
    "    # print(n_st_train)\n",
    "    # print(PINNBCGD.output.weight.dtype)\n",
    "    v1_hat = PINNCGD(n_st_train)\n",
    "    \n",
    "    grads = tgrad.grad(v1_hat, n_st_train, grad_outputs=torch.ones(v1_hat.shape).cuda(), \n",
    "                       retain_graph=True, create_graph=True, only_inputs=True)[0]\n",
    "    dVdt, dVdS = grads[:, 0].view(-1, 1), grads[:, 1].view(-1, 1)\n",
    "    grads2nd = tgrad.grad(dVdS, n_st_train, grad_outputs=torch.ones(dVdS.shape).cuda(),\n",
    "                          create_graph=True, only_inputs=True)[0]\n",
    "    d2VdS2 = grads2nd[:, 1].view(-1, 1)\n",
    "    S1 = n_st_train[:, 1].view(-1, 1)\n",
    "    pde_loss = lossFunction(-dVdt, 0.5*((sigma*S1)**2)*d2VdS2 + r*S1*dVdS - r*v1_hat)\n",
    "    \n",
    "    loss1 = torch.abs(D_CGD(n_st_train)[:, [0]] * (dVdt + 0.5*((sigma*S1)**2)*d2VdS2 + r*S1*dVdS - r*v1_hat))\n",
    "    \n",
    "    \n",
    "    # boundary condition loss\n",
    "    bc_hat = PINNCGD(bc_st_train)\n",
    "    # print(bc_v_train)\n",
    "    # print('111111111111111111111')\n",
    "    # print(bc_hat)\n",
    "    bc_loss = lossFunction(bc_v_train, bc_hat)\n",
    "    \n",
    "    loss2 = torch.abs(D_CGD(bc_st_train)[:, [1]] * (bc_hat - bc_v_train)) * 10\n",
    "    \n",
    "    \n",
    "    # Backpropagation and Update\n",
    "    combined_loss = (loss1.mean() + loss2.mean())\n",
    "    pinn_loss = pde_loss.mean() + bc_loss.mean()\n",
    "    # combined_loss.backward()\n",
    "    optimizer.step(combined_loss, -combined_loss, 0)\n",
    "    # optimizer.step(combined_loss)\n",
    "    \n",
    "    loss_hist.append(pinn_loss.item())\n",
    "    if epoch % 50 == 0:\n",
    "        print(f'''{epoch}/{max_iter} mse loss: {pinn_loss.item():5f}, \n",
    "              PDE Loss: {pde_loss.item():.5f}, BC Loss: {bc_loss.item():.5f}, nn loss: {combined_loss.item():5f}''')\n",
    "        pass\n",
    "        \n",
    "end_time = time.time()\n",
    "print('run time:', end_time - start_time)\n",
    "print('finish')"
   ]
  },
  {
   "cell_type": "code",
   "execution_count": null,
   "metadata": {},
   "outputs": [
    {
     "data": {
      "image/png": "[encoded data removed]",
      "text/plain": [
       "<Figure size 640x480 with 1 Axes>"
      ]
     },
     "metadata": {},
     "output_type": "display_data"
    }
   ],
   "source": [
    "# Create a figure and axis\n",
    "fig, ax = plt.subplots()\n",
    "\n",
    "# Plot the data\n",
    "ax.plot(range(30000), loss_hist, marker='o', linestyle='-', color='b', label='Data Points')\n",
    "\n",
    "# Set labels and title\n",
    "ax.set_xlabel('X-axis')\n",
    "ax.set_ylabel('Y-axis')\n",
    "ax.set_title('Simple Python Plot')\n",
    "\n",
    "# Show legend\n",
    "ax.legend()\n",
    "\n",
    "# Display the plot\n",
    "plt.show()"
   ]
  }
 ],
 "metadata": {
  "kernelspec": {
   "display_name": "honor",
   "language": "python",
   "name": "python3"
  },
  "language_info": {
   "codemirror_mode": {
    "name": "ipython",
    "version": 3
   },
   "file_extension": ".py",
   "mimetype": "text/x-python",
   "name": "python",
   "nbconvert_exporter": "python",
   "pygments_lexer": "ipython3",
   "version": "3.9.16"
  },
  "orig_nbformat": 4
 },
 "nbformat": 4,
 "nbformat_minor": 2
}
