{
 "cells": [
  {
   "cell_type": "code",
   "execution_count": 1,
   "metadata": {},
   "outputs": [
    {
     "name": "stdout",
     "output_type": "stream",
     "text": [
      "TensorFlow version: 2.14.0-dev20230525\n"
     ]
    }
   ],
   "source": [
    "# Import TensorFlow and NumPy\n",
    "import tensorflow as tf\n",
    "import numpy as np\n",
    "import math\n",
    "\n",
    "print(\"TensorFlow version:\", tf.__version__)"
   ]
  },
  {
   "attachments": {},
   "cell_type": "markdown",
   "metadata": {},
   "source": [
    "https://medium.com/@andeyharsha15/deep-neural-networks-for-solving-differential-equations-in-finance-da662ef0681"
   ]
  },
  {
   "attachments": {},
   "cell_type": "markdown",
   "metadata": {},
   "source": [
    "# Black Scholes Equation\n",
    "$\n",
    "{\\frac {\\partial V}{\\partial t}}+{\\frac {1}{2}}\\sigma ^{2}S^{2}{\\frac {\\partial ^{2}V}{\\partial S^{2}}}+rS{\\frac {\\partial V}{\\partial S}}-rV=0\n",
    "$"
   ]
  },
  {
   "cell_type": "code",
   "execution_count": 8,
   "metadata": {},
   "outputs": [
    {
     "name": "stdout",
     "output_type": "stream",
     "text": [
      "Option Price: tf.Tensor(17.014957, shape=(), dtype=float32)\n"
     ]
    }
   ],
   "source": [
    "S = tf.Variable([80.0], dtype=tf.float32)\n",
    "t = tf.Variable([0.0], dtype=tf.float32)\n",
    "sigma = tf.Variable([0.3], dtype=tf.float32)\n",
    "r = tf.Variable([0.05], dtype=tf.float32)\n",
    "K = tf.constant([70.0], dtype=tf.float32)\n",
    "T = tf.constant([1.0], dtype=tf.float32)\n",
    "t2m = T - t\n",
    "d1 = (tf.math.log(S / K) + (r + 0.5 * sigma**2) * t2m) / (sigma * tf.sqrt(t2m))\n",
    "d2 = d1 - sigma * tf.sqrt(t2m)\n",
    "N0 = lambda value: 0.5 * (1 + tf.math.erf(value / tf.sqrt(2.0))) # type: ignore\n",
    "Nd1 = N0(d1)\n",
    "Nd2 = N0(d2)\n",
    "C = S * Nd1 - K * Nd2 * tf.exp(-r * t2m)\n",
    "\n",
    "print(\"Option Price:\", C[0]) #17.01496"
   ]
  },
  {
   "cell_type": "code",
   "execution_count": 6,
   "metadata": {},
   "outputs": [
    {
     "ename": "TypeError",
     "evalue": "'NoneType' object is not subscriptable",
     "output_type": "error",
     "traceback": [
      "\u001b[1;31m---------------------------------------------------------------------------\u001b[0m",
      "\u001b[1;31mTypeError\u001b[0m                                 Traceback (most recent call last)",
      "Cell \u001b[1;32mIn[6], line 3\u001b[0m\n\u001b[0;32m      1\u001b[0m \u001b[39mwith\u001b[39;00m tf\u001b[39m.\u001b[39mGradientTape() \u001b[39mas\u001b[39;00m tape:\n\u001b[0;32m      2\u001b[0m     tape\u001b[39m.\u001b[39mwatch([t, S, sigma, r])\n\u001b[1;32m----> 3\u001b[0m     theta \u001b[39m=\u001b[39m tape\u001b[39m.\u001b[39;49mgradient(C, t)[\u001b[39m0\u001b[39;49m]\n\u001b[0;32m      4\u001b[0m     delta \u001b[39m=\u001b[39m tape\u001b[39m.\u001b[39mgradient(C, S)[\u001b[39m0\u001b[39m]\n\u001b[0;32m      5\u001b[0m     gamma \u001b[39m=\u001b[39m tape\u001b[39m.\u001b[39mgradient(delta, S)[\u001b[39m0\u001b[39m]\n",
      "\u001b[1;31mTypeError\u001b[0m: 'NoneType' object is not subscriptable"
     ]
    }
   ],
   "source": [
    "with tf.GradientTape() as tape:\n",
    "    tape.watch([t, S, sigma, r])\n",
    "    theta = tape.gradient(C, t)[0]\n",
    "    delta = tape.gradient(C, S)[0]\n",
    "    gamma = tape.gradient(delta, S)[0]\n",
    "    vega = tape.gradient(C, sigma)[0]\n",
    "    rho = tape.gradient(C, r)[0]\n",
    "\n",
    "print(f\"Theta: {theta.numpy():.4f}\" if theta is not None else \"Theta: N/A\")\n",
    "print(f\"Delta: {delta.numpy():.4f}\" if delta is not None else \"Delta: N/A\")\n",
    "print(f\"Vega: {vega.numpy():.4f}\" if vega is not None else \"Vega: N/A\")\n",
    "print(f\"Rho: {rho.numpy():.4f}\" if rho is not None else \"Rho: N/A\")\n",
    "\n",
    "result = (-theta + 0.5 * sigma**2 * S**2 * 0 + r * S * delta - r * C).numpy()\n",
    "print(f\"Result: {result:.4f}\")"
   ]
  },
  {
   "cell_type": "code",
   "execution_count": null,
   "metadata": {},
   "outputs": [],
   "source": []
  }
 ],
 "metadata": {
  "kernelspec": {
   "display_name": "tf",
   "language": "python",
   "name": "python3"
  },
  "language_info": {
   "codemirror_mode": {
    "name": "ipython",
    "version": 3
   },
   "file_extension": ".py",
   "mimetype": "text/x-python",
   "name": "python",
   "nbconvert_exporter": "python",
   "pygments_lexer": "ipython3",
   "version": "3.9.16"
  },
  "orig_nbformat": 4
 },
 "nbformat": 4,
 "nbformat_minor": 2
}
