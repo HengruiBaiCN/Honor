{
 "cells": [
  {
   "cell_type": "code",
   "execution_count": 1,
   "metadata": {},
   "outputs": [],
   "source": [
    "import argparse\n",
    "import datetime\n",
    "import logging\n",
    "import os\n",
    "import sys\n",
    "from timeit import default_timer as timer\n",
    "\n",
    "import tqdm\n",
    "import utils\n",
    "import numpy as np\n",
    "import matplotlib.pyplot as plt\n",
    "\n",
    "import torch\n",
    "import torch.nn as nn\n",
    "import torch.optim as optim\n",
    "import torch.nn.functional as F"
   ]
  },
  {
   "cell_type": "code",
   "execution_count": 2,
   "metadata": {},
   "outputs": [
    {
     "name": "stdout",
     "output_type": "stream",
     "text": [
      "True\n",
      "cuda\n"
     ]
    }
   ],
   "source": [
    "os.environ['KMP_DUPLICATE_LIB_OK']='True'\n",
    "device = torch.device('cuda' if torch.cuda.is_available() else 'cpu')\n",
    "print(torch.cuda.is_available())\n",
    "# torch.set_default_tensor_type(torch.DoubleTensor)\n",
    "print(device)\n",
    "\n",
    "if device == 'cuda': \n",
    "    print(torch.cuda.get_device_name())"
   ]
  },
  {
   "cell_type": "markdown",
   "metadata": {},
   "source": [
    "# Data"
   ]
  },
  {
   "cell_type": "code",
   "execution_count": 3,
   "metadata": {},
   "outputs": [],
   "source": [
    "K = 10\n",
    "r = 0.035\n",
    "sigma = 0.2\n",
    "T = 1\n",
    "S_range = [0, int(5*K)]\n",
    "t_range = [0, T]\n",
    "gs = lambda x: np.fmax(x-K, 0)\n",
    "M = 100\n",
    "N = 5000"
   ]
  },
  {
   "cell_type": "markdown",
   "metadata": {},
   "source": [
    "# Network"
   ]
  },
  {
   "cell_type": "code",
   "execution_count": 4,
   "metadata": {},
   "outputs": [],
   "source": [
    "class AdaptiveLinear(nn.Linear):\n",
    "    r\"\"\"Applies a linear transformation to the input data as follows\n",
    "    :math:`y = naxA^T + b`.\n",
    "    More details available in Jagtap, A. D. et al. Locally adaptive\n",
    "    activation functions with slope recovery for deep and\n",
    "    physics-informed neural networks, Proc. R. Soc. 2020.\n",
    "\n",
    "    Parameters\n",
    "    ----------\n",
    "    in_features : int\n",
    "        The size of each input sample\n",
    "    out_features : int \n",
    "        The size of each output sample\n",
    "    bias : bool, optional\n",
    "        If set to ``False``, the layer will not learn an additive bias\n",
    "    adaptive_rate : float, optional\n",
    "        Scalable adaptive rate parameter for activation function that\n",
    "        is added layer-wise for each neuron separately. It is treated\n",
    "        as learnable parameter and will be optimized using a optimizer\n",
    "        of choice \n",
    "        (self.A is the learnable parameter which is initialized by the \n",
    "        self.adaptive rate. To create a learnable parameter for each neuron, \n",
    "        it multiplies the self.adaptive rate to the number of input features.)\n",
    "    adaptive_rate_scaler : float, optional\n",
    "        Fixed, pre-defined, scaling factor for adaptive activation\n",
    "        functions\n",
    "    \"\"\"\n",
    "    def __init__(self, in_features, out_features, bias=True, adaptive_rate=None, adaptive_rate_scaler=None):\n",
    "        super(AdaptiveLinear, self).__init__(in_features, out_features, bias)\n",
    "        self.adaptive_rate = adaptive_rate\n",
    "        self.adaptive_rate_scaler = adaptive_rate_scaler\n",
    "        if self.adaptive_rate:\n",
    "            self.A = nn.Parameter(self.adaptive_rate * torch.ones(self.in_features))\n",
    "            if not self.adaptive_rate_scaler:\n",
    "                self.adaptive_rate_scaler = 10.0\n",
    "            \n",
    "    def forward(self, input):\n",
    "        if self.adaptive_rate:\n",
    "            return nn.functional.linear(self.adaptive_rate_scaler * self.A * input, self.weight, self.bias)\n",
    "        return nn.functional.linear(input, self.weight, self.bias)\n",
    "\n",
    "    def extra_repr(self):\n",
    "        return (\n",
    "            f'in_features={self.in_features}, out_features={self.out_features}, bias={self.bias is not None}, '\n",
    "            f'adaptive_rate={self.adaptive_rate is not None}, adaptive_rate_scaler={self.adaptive_rate_scaler is not None}'\n",
    "        )\n",
    "\n",
    "\n",
    "\n",
    "class Net(nn.Module):\n",
    "    r\"\"\"Neural approximator for the unknown function that is supposed\n",
    "    to be solved.\n",
    "\n",
    "    More details available in Raissi, M. et al. Physics-informed neural\n",
    "    networks: A deep learning framework for solving forward and inverse\n",
    "    problems involving nonlinear partial differential equations, J.\n",
    "    Comput. Phys. 2019.\n",
    "\n",
    "    Parameters\n",
    "    ----------\n",
    "    sizes : list\n",
    "        Each element represents the number of neuron per layer\n",
    "    activation : callable \n",
    "        Activation function\n",
    "    dropout_rate : float, optional\n",
    "        Dropout rate for regulrization during training process and\n",
    "        uncertainty quantification by means of Monte Carlo dropout\n",
    "        procedure while performing evaluation\n",
    "    adaptive_rate : float, optional\n",
    "        Scalable adaptive rate parameter for activation function that\n",
    "        is added layer-wise for each neuron separately. It is treated\n",
    "        as learnable parameter and will be optimized using a optimizer\n",
    "        of choice\n",
    "    adaptive_rate_scaler : float, optional\n",
    "        Fixed, pre-defined, scaling factor for adaptive activation\n",
    "        functions\n",
    "    \"\"\"\n",
    "    def __init__(self, sizes, activation, dropout_rate=0.0, adaptive_rate=None, adaptive_rate_scaler=None):\n",
    "        super(Net, self).__init__()\n",
    "        self.regressor = nn.Sequential(\n",
    "            *[Net.linear_block(in_features, out_features, activation, dropout_rate, adaptive_rate, adaptive_rate_scaler)\n",
    "            for in_features, out_features in zip(sizes[:-1], sizes[1:-1])],     \n",
    "            AdaptiveLinear(sizes[-2], sizes[-1]) # output layer is regular linear transformation\n",
    "            )\n",
    "        \n",
    "    def forward(self, x):\n",
    "        return self.regressor(x)\n",
    "\n",
    "    @staticmethod\n",
    "    def linear_block(in_features, out_features, activation, dropout_rate, adaptive_rate, adaptive_rate_scaler):\n",
    "        activation_dispatcher = nn.ModuleDict([\n",
    "            ['lrelu', nn.LeakyReLU()],\n",
    "            ['relu', nn.ReLU()],\n",
    "            ['tanh', nn.Tanh()],\n",
    "            ['sigmoid', nn.Sigmoid()],\n",
    "            # ['swish', Swish()]\n",
    "        ])\n",
    "        return nn.Sequential(\n",
    "            AdaptiveLinear(in_features, out_features, adaptive_rate=adaptive_rate, adaptive_rate_scaler=adaptive_rate_scaler),\n",
    "            activation_dispatcher[activation],\n",
    "            nn.Dropout(dropout_rate),\n",
    "            )\n",
    "\n"
   ]
  },
  {
   "cell_type": "code",
   "execution_count": 5,
   "metadata": {},
   "outputs": [
    {
     "data": {
      "text/plain": [
       "Net(\n",
       "  (regressor): Sequential(\n",
       "    (0): Sequential(\n",
       "      (0): AdaptiveLinear(in_features=2, out_features=50, bias=True, adaptive_rate=True, adaptive_rate_scaler=True)\n",
       "      (1): ReLU()\n",
       "      (2): Dropout(p=0, inplace=False)\n",
       "    )\n",
       "    (1): Sequential(\n",
       "      (0): AdaptiveLinear(in_features=50, out_features=50, bias=True, adaptive_rate=True, adaptive_rate_scaler=True)\n",
       "      (1): ReLU()\n",
       "      (2): Dropout(p=0, inplace=False)\n",
       "    )\n",
       "    (2): Sequential(\n",
       "      (0): AdaptiveLinear(in_features=50, out_features=50, bias=True, adaptive_rate=True, adaptive_rate_scaler=True)\n",
       "      (1): ReLU()\n",
       "      (2): Dropout(p=0, inplace=False)\n",
       "    )\n",
       "    (3): Sequential(\n",
       "      (0): AdaptiveLinear(in_features=50, out_features=50, bias=True, adaptive_rate=True, adaptive_rate_scaler=True)\n",
       "      (1): ReLU()\n",
       "      (2): Dropout(p=0, inplace=False)\n",
       "    )\n",
       "    (4): Sequential(\n",
       "      (0): AdaptiveLinear(in_features=50, out_features=50, bias=True, adaptive_rate=True, adaptive_rate_scaler=True)\n",
       "      (1): ReLU()\n",
       "      (2): Dropout(p=0, inplace=False)\n",
       "    )\n",
       "    (5): Sequential(\n",
       "      (0): AdaptiveLinear(in_features=50, out_features=50, bias=True, adaptive_rate=True, adaptive_rate_scaler=True)\n",
       "      (1): ReLU()\n",
       "      (2): Dropout(p=0, inplace=False)\n",
       "    )\n",
       "    (6): Sequential(\n",
       "      (0): AdaptiveLinear(in_features=50, out_features=50, bias=True, adaptive_rate=True, adaptive_rate_scaler=True)\n",
       "      (1): ReLU()\n",
       "      (2): Dropout(p=0, inplace=False)\n",
       "    )\n",
       "    (7): Sequential(\n",
       "      (0): AdaptiveLinear(in_features=50, out_features=50, bias=True, adaptive_rate=True, adaptive_rate_scaler=True)\n",
       "      (1): ReLU()\n",
       "      (2): Dropout(p=0, inplace=False)\n",
       "    )\n",
       "    (8): AdaptiveLinear(in_features=50, out_features=1, bias=True, adaptive_rate=False, adaptive_rate_scaler=False)\n",
       "  )\n",
       ")"
      ]
     },
     "execution_count": 5,
     "metadata": {},
     "output_type": "execute_result"
    }
   ],
   "source": [
    "IPINN = Net(\n",
    "    sizes=[2, 50, 50, 50, 50, 50, 50, 50, 50, 1], activation='relu', dropout_rate=0, adaptive_rate=0.1, adaptive_rate_scaler=10.0\n",
    "    )\n",
    "IPINN.cuda()"
   ]
  },
  {
   "cell_type": "code",
   "execution_count": 6,
   "metadata": {},
   "outputs": [],
   "source": [
    "# physical loss samples\n",
    "samples = {\"pde\": 5000, \"bc\":500, \"fc\":500}\n",
    "\n",
    "# sample data generated by finite difference method\n",
    "X_train_tensor, y_train_tensor, X_test_tensor, y_test_tensor = utils.fdm_data(S_range[-1], T, M, N, \"500000sample.csv\", device)"
   ]
  },
  {
   "cell_type": "markdown",
   "metadata": {},
   "source": [
    "# Train"
   ]
  },
  {
   "cell_type": "code",
   "execution_count": 7,
   "metadata": {},
   "outputs": [],
   "source": [
    "n_epochs = 5000\n",
    "adaptive_rate = 0.1\n",
    "lossFunction = nn.MSELoss()\n",
    "lr = 0.00003\n",
    "optimizer = optim.Adam(IPINN.parameters(), lr=lr)"
   ]
  },
  {
   "cell_type": "markdown",
   "metadata": {},
   "source": [
    "- linspace: space the batch of data linearly, otherwise random, type=float\n",
    "- domain: Boundaries of the solution domain, type=float\n",
    "- batch_size: The number of adata points for optimization per epoch, type=float\n",
    "- rhs: right-hand-side forcing function, type=float\n",
    "- boundary_conditions: boundaru conditions on boundaries of the domain, type=float\n",
    "- adaptive rate: add additional adaptive rate parameter to activation function, type=float"
   ]
  },
  {
   "cell_type": "code",
   "execution_count": 8,
   "metadata": {},
   "outputs": [
    {
     "name": "stdout",
     "output_type": "stream",
     "text": [
      "0/5000 mse loss: 1653.344727, PDE Loss: 0.00001, BC Loss: 811.76605, fc loss: 413.85379, data loss: 427.72491, reg_loss:  0.904837, min loss: 1653.34473\n",
      "500/5000 mse loss: 31.952942, PDE Loss: 0.00083, BC Loss: 3.99990, fc loss: 14.36844, data loss: 13.58378, reg_loss:  0.895820, min loss: 31.95294\n",
      "1000/5000 mse loss: 2.912314, PDE Loss: 0.84760, BC Loss: 0.24319, fc loss: 0.65839, data loss: 1.16313, reg_loss:  0.890242, min loss: 2.91231\n",
      "1500/5000 mse loss: 0.013718, PDE Loss: 0.00825, BC Loss: 0.00031, fc loss: 0.00309, data loss: 0.00207, reg_loss:  0.889363, min loss: 0.01224\n",
      "2000/5000 mse loss: 0.012228, PDE Loss: 0.00746, BC Loss: 0.00002, fc loss: 0.00240, data loss: 0.00235, reg_loss:  0.889222, min loss: 0.01206\n",
      "2500/5000 mse loss: 0.011576, PDE Loss: 0.00650, BC Loss: 0.00021, fc loss: 0.00217, data loss: 0.00269, reg_loss:  0.889162, min loss: 0.01081\n",
      "3000/5000 mse loss: 0.009235, PDE Loss: 0.00512, BC Loss: 0.00001, fc loss: 0.00173, data loss: 0.00236, reg_loss:  0.889152, min loss: 0.00923\n",
      "3500/5000 mse loss: 0.008126, PDE Loss: 0.00414, BC Loss: 0.00001, fc loss: 0.00158, data loss: 0.00239, reg_loss:  0.889145, min loss: 0.00813\n",
      "4000/5000 mse loss: 0.007646, PDE Loss: 0.00347, BC Loss: 0.00019, fc loss: 0.00157, data loss: 0.00242, reg_loss:  0.889127, min loss: 0.00730\n",
      "4500/5000 mse loss: 0.007053, PDE Loss: 0.00269, BC Loss: 0.00031, fc loss: 0.00155, data loss: 0.00250, reg_loss:  0.889096, min loss: 0.00657\n",
      "run time: 135.23852348327637\n"
     ]
    }
   ],
   "source": [
    "import time\n",
    "import torch.autograd as tgrad\n",
    "\n",
    "loss_hist = []\n",
    "min_train_loss = float(\"inf\")  # Initialize with a large value\n",
    "final_model = None\n",
    "start_time = time.time()\n",
    "\n",
    "# tqdm.tqdm(range(n_epochs), desc='[Training procedure]', ascii=True, total=n_epochs)\n",
    "\n",
    "for _ in range(n_epochs):\n",
    "    \n",
    "    i_st_train, i_v_train, bc_st_train, bc_v_train, n_st_train, n_v_train = \\\n",
    "    utils.trainingData3(K, r, sigma, T, S_range[-1], S_range, t_range, gs, \n",
    "                       samples['bc'], \n",
    "                       samples['fc'], \n",
    "                       samples['pde'], \n",
    "                       RNG_key=123)\n",
    "    \n",
    "    # save training data points to tensor and send to device\n",
    "    i_st_train = torch.from_numpy(i_st_train).float().requires_grad_().to(device)\n",
    "    i_v_train = torch.from_numpy(i_v_train).float().to(device)\n",
    "    \n",
    "    n_st_train = torch.from_numpy(n_st_train).float().requires_grad_().to(device)\n",
    "    n_v_train = torch.from_numpy(n_v_train).float().to(device)\n",
    "    \n",
    "    bc_st_train = torch.from_numpy(bc_st_train).float().to(device)\n",
    "    bc_v_train = torch.from_numpy(bc_v_train).float().to(device)\n",
    "    \n",
    "    \n",
    "    # PDE Round\n",
    "    y1_hat = IPINN(n_st_train)\n",
    "    \n",
    "    grads = tgrad.grad(y1_hat, n_st_train, grad_outputs=torch.ones(y1_hat.shape).cuda(), retain_graph=True, create_graph=True, only_inputs=True)[0]\n",
    "    # print(grads)\n",
    "    dVdt, dVdS = grads[:, 0].view(-1, 1), grads[:, 1].view(-1, 1)\n",
    "    grads2nd = tgrad.grad(dVdS, n_st_train, grad_outputs=torch.ones(dVdS.shape).cuda(), create_graph=True, only_inputs=True)[0]\n",
    "    # print(grads2nd)\n",
    "    d2VdS2 = grads2nd[:, 1].view(-1, 1)\n",
    "    S1 = n_st_train[:, 1].view(-1, 1)\n",
    "    pde_loss = lossFunction(-dVdt, 0.5*((sigma*S1)**2)*d2VdS2 + r*S1*dVdS - r*y1_hat)\n",
    "    \n",
    "    # BC Round\n",
    "    y2_hat = IPINN(bc_st_train)\n",
    "    bc_loss = lossFunction(bc_v_train, y2_hat)\n",
    "    \n",
    "    # initial condition loss\n",
    "    ic_hat = IPINN(i_st_train)\n",
    "    ic_loss = lossFunction(i_v_train, ic_hat)\n",
    "    \n",
    "    # data Round\n",
    "    y3_hat = IPINN(X_train_tensor)\n",
    "    data_loss = lossFunction(y_train_tensor, y3_hat)\n",
    "    \n",
    "    # adaptive rate\n",
    "    if adaptive_rate:\n",
    "        local_recovery_terms = torch.tensor([torch.mean(IPINN.regressor[layer][0].A.data) for layer in range(len(IPINN.regressor) - 1)])\n",
    "        slope_recovery_term = 1 / torch.mean(torch.exp(local_recovery_terms))\n",
    "        loss = pde_loss + bc_loss + ic_loss + data_loss + slope_recovery_term\n",
    "    else:\n",
    "        loss = pde_loss + bc_loss + ic_loss + data_loss\n",
    "    optimizer.zero_grad()\n",
    "    loss.backward()\n",
    "    optimizer.step()\n",
    "    \n",
    "    # record loss\n",
    "    mse_loss = pde_loss + bc_loss + ic_loss + data_loss\n",
    "    loss_hist.append(mse_loss.item())\n",
    "    if _ % 500 == 0:\n",
    "        print(f'{_}/{n_epochs} mse loss: {mse_loss.item():5f}, PDE Loss: {pde_loss.item():.5f}, BC Loss: {bc_loss.item():.5f}, fc loss: {ic_loss.item():.5f}, data loss: {data_loss.item():.5f}, reg_loss: {slope_recovery_term.item(): 5f}, min loss: {min(loss_hist):.5f}')\n",
    "        pass\n",
    "    \n",
    "    if mse_loss.item() < min_train_loss:\n",
    "        min_train_loss = mse_loss.item()\n",
    "        final_model = IPINN.state_dict()\n",
    "        pass\n",
    "\n",
    "elapsed = timer() - start_time\n",
    "end_time = time.time()\n",
    "print('run time:', end_time - start_time)\n",
    "logging.info(f'Training finished. Elapsed time: {elapsed} s\\n')"
   ]
  },
  {
   "cell_type": "code",
   "execution_count": 9,
   "metadata": {},
   "outputs": [
    {
     "data": {
      "image/png": "[encoded data removed]",
      "text/plain": [
       "<Figure size 1200x1200 with 1 Axes>"
      ]
     },
     "metadata": {},
     "output_type": "display_data"
    }
   ],
   "source": [
    "import matplotlib.pyplot as plt\n",
    "fig = plt.figure(figsize=(12,12))\n",
    "plt.plot(range(n_epochs), loss_hist)\n",
    "plt.xlabel('epochs')\n",
    "plt.ylabel('loss')\n",
    "plt.title('IPINN')\n",
    "\n",
    "torch.save(IPINN.state_dict(), 'IPINN-3.pth')"
   ]
  },
  {
   "cell_type": "code",
   "execution_count": 10,
   "metadata": {},
   "outputs": [
    {
     "ename": "AttributeError",
     "evalue": "module 'utils' has no attribute 'test'",
     "output_type": "error",
     "traceback": [
      "\u001b[1;31m---------------------------------------------------------------------------\u001b[0m",
      "\u001b[1;31mAttributeError\u001b[0m                            Traceback (most recent call last)",
      "\u001b[1;32mc:\\Users\\hengr\\Programs\\Projects\\Honor-Project\\Honor\\Physics_Informed_Neural_Network\\IPINN-3.ipynb Cell 14\u001b[0m line \u001b[0;36m2\n\u001b[0;32m      <a href='vscode-notebook-cell:/c%3A/Users/hengr/Programs/Projects/Honor-Project/Honor/Physics_Informed_Neural_Network/IPINN-3.ipynb#X15sZmlsZQ%3D%3D?line=0'>1</a>\u001b[0m \u001b[39m# model = torch.load('IPINN-3.pth')\u001b[39;00m\n\u001b[1;32m----> <a href='vscode-notebook-cell:/c%3A/Users/hengr/Programs/Projects/Honor-Project/Honor/Physics_Informed_Neural_Network/IPINN-3.ipynb#X15sZmlsZQ%3D%3D?line=1'>2</a>\u001b[0m \u001b[39mprint\u001b[39m(utils\u001b[39m.\u001b[39;49mtest(device, final_model))\n",
      "\u001b[1;31mAttributeError\u001b[0m: module 'utils' has no attribute 'test'"
     ]
    }
   ],
   "source": [
    "# model = torch.load('IPINN-3.pth')\n",
    "print(utils.test(device, final_model))"
   ]
  }
 ],
 "metadata": {
  "kernelspec": {
   "display_name": "honor",
   "language": "python",
   "name": "python3"
  },
  "language_info": {
   "codemirror_mode": {
    "name": "ipython",
    "version": 3
   },
   "file_extension": ".py",
   "mimetype": "text/x-python",
   "name": "python",
   "nbconvert_exporter": "python",
   "pygments_lexer": "ipython3",
   "version": "3.9.16"
  },
  "orig_nbformat": 4
 },
 "nbformat": 4,
 "nbformat_minor": 2
}
