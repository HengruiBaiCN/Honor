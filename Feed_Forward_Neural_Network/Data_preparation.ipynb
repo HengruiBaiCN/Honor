{
 "cells": [
  {
   "cell_type": "code",
   "execution_count": 1,
   "metadata": {},
   "outputs": [
    {
     "name": "stdout",
     "output_type": "stream",
     "text": [
      "importing Jupyter notebook from FDM.ipynb\n",
      "10.157656091130164\n",
      "10.159234655029346\n"
     ]
    }
   ],
   "source": [
    "import numpy as np\n",
    "import pandas as pd\n",
    "import matplotlib.pyplot as plt\n",
    "\n",
    "\n",
    "from scipy.stats import gamma\n",
    "from scipy.stats import beta\n",
    "from scipy.stats import uniform\n",
    "\n",
    "from py_vollib import black_scholes_merton as bsm\n",
    "\n",
    "\n",
    "import import_ipynb\n",
    "from FDM import FDExplicitEu"
   ]
  },
  {
   "attachments": {},
   "cell_type": "markdown",
   "metadata": {},
   "source": [
    "# Simple Model Data Generation\n",
    "\n",
    "Given a function: $f(s, t) = e^{sin(\\pi s + 100\\pi t)}$\n",
    "\n",
    "Using neural network to predict the result"
   ]
  },
  {
   "cell_type": "code",
   "execution_count": 2,
   "metadata": {},
   "outputs": [],
   "source": [
    "# # test functions\n",
    "# def test_function(s, t):\n",
    "#     res = np.exp(np.sin(np.pi*s + 100*np.pi*t))\n",
    "#     return res "
   ]
  },
  {
   "cell_type": "code",
   "execution_count": 3,
   "metadata": {},
   "outputs": [],
   "source": [
    "\n",
    "# Smax = 1\n",
    "# T = 100\n",
    "\n",
    "# M = 200\n",
    "# N = 10**5\n",
    "# ds = Smax / float(M)\n",
    "# dt = T / float(N)\n",
    "# i_values = np.arange(stop=Smax, step=ds) # type: ignore\n",
    "# j_values= np.arange(stop=T, step=dt) # type: ignore\n",
    "\n",
    "# # print(i_values)\n",
    "# # print(j_values)\n",
    "# # print(len(j_values))\n",
    "\n",
    "# # grip = np.zeros(shape=(M+1, N+1))\n",
    "\n",
    "# test_data = {}\n",
    "# for i in i_values:\n",
    "#     tmp = []\n",
    "#     for j in j_values:\n",
    "#         tmp.append(test_function(i, j))\n",
    "#         pass\n",
    "#     test_data[i] = tmp\n",
    "#     pass\n",
    "# # print(test_data)\n"
   ]
  },
  {
   "cell_type": "code",
   "execution_count": 4,
   "metadata": {},
   "outputs": [],
   "source": [
    "# data = {}\n",
    "# k=0\n",
    "# for i in i_values[:]:\n",
    "#     data[f'input{k}'] = test_data[i][:-1]\n",
    "#     k+=1\n",
    "#     pass\n",
    "\n",
    "# k=0\n",
    "# for i in i_values[:]:\n",
    "#     data[f'output{k}'] = test_data[i][1:]\n",
    "#     k+=1\n",
    "#     pass\n",
    "\n",
    "# df = pd.DataFrame.from_dict(data)\n",
    "# df.to_csv('test_sample.csv', index = False)\n",
    "# print('Done')\n"
   ]
  },
  {
   "attachments": {},
   "cell_type": "markdown",
   "metadata": {},
   "source": [
    "# Black Scholes Data Generation\n",
    "\n",
    "Given fixed \n",
    "- volatility $\\sigma$,\n",
    "- spot price S0, \n",
    "- strike price K, \n",
    "- terminal time T, \n",
    "- risk-free rate r, \n",
    "- Max asset price Smax, \n",
    "- space discretization size M \n",
    "- time discretization size N\n",
    "\n",
    "The finite difference method can generate the option price range at each time step with respect to the asset price range. And the data is stored in a dictionary. \n"
   ]
  },
  {
   "cell_type": "code",
   "execution_count": 5,
   "metadata": {},
   "outputs": [],
   "source": [
    "sigma = 0.2     # asset price volatility \n",
    "S0 = 50         # spot price / asset price at time 0\n",
    "K = 50          # strike price\n",
    "q = 0           # dividend rate\n",
    "T = 1           # 1 year\n",
    "r = 0.035       # australia 10Y government bond\n",
    "Smax = int(5*K) # boundary asset price\n",
    "M = 200        # asset discretize size\n",
    "N = 10000        # time discretize size\n",
    "is_call = True  # option type"
   ]
  },
  {
   "cell_type": "code",
   "execution_count": 6,
   "metadata": {},
   "outputs": [
    {
     "name": "stdout",
     "output_type": "stream",
     "text": [
      "The black scholes formual result is: 4.833733685693845\n"
     ]
    }
   ],
   "source": [
    "print(\"The black scholes formual result is:\", bsm.black_scholes_merton(flag = 'c', S = S0, K = K, q = q, t = T,r = r, sigma = sigma))"
   ]
  },
  {
   "cell_type": "code",
   "execution_count": 7,
   "metadata": {},
   "outputs": [],
   "source": [
    "# initialise the option price to do calculation and generate data\n",
    "# option = FDExplicitEu(S0, K, r, T, sigma, Smax, 25, 100000, is_call)\n",
    "# print(option.price())\n",
    "# 4.803264055067497: 100, 1000\n",
    "# 4.22223222214615: 25, 100000\n",
    "# 4.833432465965342: 1000, 100000\n",
    "# 4.802737294385121: 100, 100000"
   ]
  },
  {
   "cell_type": "code",
   "execution_count": 8,
   "metadata": {},
   "outputs": [
    {
     "name": "stdout",
     "output_type": "stream",
     "text": [
      "4.826104349580497\n"
     ]
    }
   ],
   "source": [
    "option2 = FDExplicitEu(S0, K, r, T, sigma, Smax, M=M, N=N, is_call=True)\n",
    "print(option2.price())"
   ]
  },
  {
   "cell_type": "code",
   "execution_count": 9,
   "metadata": {},
   "outputs": [
    {
     "name": "stdout",
     "output_type": "stream",
     "text": [
      "[{'asset': 0.0, 'time': 0.01, 'option': 0.0}, {'asset': 1.25, 'time': 0.01, 'option': 2.9833439545229e-103}, {'asset': 2.5, 'time': 0.01, 'option': 5.188539985769712e-98}, {'asset': 3.75, 'time': 0.01, 'option': 2.821959964469787e-93}, {'asset': 5.0, 'time': 0.01, 'option': 7.277571996369209e-89}, {'asset': 6.25, 'time': 0.01, 'option': 1.072115576410347e-84}, {'asset': 7.5, 'time': 0.01, 'option': 1.0041549286208719e-80}, {'asset': 8.75, 'time': 0.01, 'option': 6.411007062817147e-77}, {'asset': 10.0, 'time': 0.01, 'option': 2.930099967210386e-73}, {'asset': 11.25, 'time': 0.01, 'option': 9.940380522800097e-70}, {'asset': 12.5, 'time': 0.01, 'option': 2.5737686864661627e-66}, {'asset': 13.75, 'time': 0.01, 'option': 5.198987728760992e-63}, {'asset': 15.0, 'time': 0.01, 'option': 8.339471452919411e-60}, {'asset': 16.25, 'time': 0.01, 'option': 1.0777692508449995e-56}, {'asset': 17.5, 'time': 0.01, 'option': 1.1357982533019678e-53}, {'asset': 18.75, 'time': 0.01, 'option': 9.858952730776974e-51}, {'asset': 20.0, 'time': 0.01, 'option': 7.108640244097921e-48}, {'asset': 21.25, 'time': 0.01, 'option': 4.2880978244828115e-45}, {'asset': 22.5, 'time': 0.01, 'option': 2.1770781233795558e-42}, {'asset': 23.75, 'time': 0.01, 'option': 9.349797137533356e-40}, {'asset': 25.0, 'time': 0.01, 'option': 3.4108724861042716e-37}, {'asset': 26.25, 'time': 0.01, 'option': 1.060585178900816e-34}, {'asset': 27.5, 'time': 0.01, 'option': 2.81848452510043e-32}, {'asset': 28.75, 'time': 0.01, 'option': 6.41442757651416e-30}, {'asset': 30.0, 'time': 0.01, 'option': 1.251908194704251e-27}, {'asset': 31.25, 'time': 0.01, 'option': 2.0969065250096564e-25}, {'asset': 32.5, 'time': 0.01, 'option': 3.0144660068024845e-23}, {'asset': 33.75, 'time': 0.01, 'option': 3.717037726862668e-21}, {'asset': 35.0, 'time': 0.01, 'option': 3.925921995089788e-19}, {'asset': 36.25, 'time': 0.01, 'option': 3.543899962338303e-17}, {'asset': 37.5, 'time': 0.01, 'option': 2.725414458044176e-15}, {'asset': 38.75, 'time': 0.01, 'option': 1.7779228216524462e-13}, {'asset': 40.0, 'time': 0.01, 'option': 9.78210789710489e-12}, {'asset': 41.25, 'time': 0.01, 'option': 4.5054282363433003e-10}, {'asset': 42.5, 'time': 0.01, 'option': 1.7201801811339502e-08}, {'asset': 43.75, 'time': 0.01, 'option': 5.374716779873181e-07}, {'asset': 45.0, 'time': 0.01, 'option': 1.3508551008118774e-05}, {'asset': 46.25, 'time': 0.01, 'option': 0.0002667414480640513}, {'asset': 47.5, 'time': 0.01, 'option': 0.004001612608292267}, {'asset': 48.75, 'time': 0.01, 'option': 0.043374237300720195}, {'asset': 50.0, 'time': 0.01, 'option': 0.31334718133212147}, {'asset': 51.25, 'time': 0.01, 'option': 1.3102446658863893}, {'asset': 52.5, 'time': 0.01, 'option': 2.522009474792719}, {'asset': 53.75, 'time': 0.01, 'option': 3.767876221317113}, {'asset': 55.0, 'time': 0.01, 'option': 5.017523711883527}, {'asset': 56.25, 'time': 0.01, 'option': 6.267498606837945}, {'asset': 57.5, 'time': 0.01, 'option': 7.517497057842379}, {'asset': 58.75, 'time': 0.01, 'option': 8.767496972892008}, {'asset': 60.0, 'time': 0.01, 'option': 10.0174969686726}, {'asset': 61.25, 'time': 0.01, 'option': 11.267496968480105}, {'asset': 62.5, 'time': 0.01, 'option': 12.517496968471914}, {'asset': 63.75, 'time': 0.01, 'option': 13.767496968471626}, {'asset': 65.0, 'time': 0.01, 'option': 15.017496968471649}, {'asset': 66.25, 'time': 0.01, 'option': 16.267496968471658}, {'asset': 67.5, 'time': 0.01, 'option': 17.517496968471555}, {'asset': 68.75, 'time': 0.01, 'option': 18.76749696847154}, {'asset': 70.0, 'time': 0.01, 'option': 20.01749696847154}, {'asset': 71.25, 'time': 0.01, 'option': 21.26749696847154}, {'asset': 72.5, 'time': 0.01, 'option': 22.51749696847165}, {'asset': 73.75, 'time': 0.01, 'option': 23.767496968471654}, {'asset': 75.0, 'time': 0.01, 'option': 25.017496968471587}, {'asset': 76.25, 'time': 0.01, 'option': 26.26749696847155}, {'asset': 77.5, 'time': 0.01, 'option': 27.51749696847161}, {'asset': 78.75, 'time': 0.01, 'option': 28.76749696847156}, {'asset': 80.0, 'time': 0.01, 'option': 30.017496968471626}, {'asset': 81.25, 'time': 0.01, 'option': 31.267496968471672}, {'asset': 82.5, 'time': 0.01, 'option': 32.517496968471534}, {'asset': 83.75, 'time': 0.01, 'option': 33.767496968471534}, {'asset': 85.0, 'time': 0.01, 'option': 35.0174969684716}, {'asset': 86.25, 'time': 0.01, 'option': 36.26749696847161}, {'asset': 87.5, 'time': 0.01, 'option': 37.5174969684716}, {'asset': 88.75, 'time': 0.01, 'option': 38.767496968471576}, {'asset': 90.0, 'time': 0.01, 'option': 40.01749696847155}, {'asset': 91.25, 'time': 0.01, 'option': 41.267496968471555}, {'asset': 92.5, 'time': 0.01, 'option': 42.517496968471654}, {'asset': 93.75, 'time': 0.01, 'option': 43.767496968471626}, {'asset': 95.0, 'time': 0.01, 'option': 45.017496968471534}, {'asset': 96.25, 'time': 0.01, 'option': 46.26749696847164}, {'asset': 97.5, 'time': 0.01, 'option': 47.517496968471725}, {'asset': 98.75, 'time': 0.01, 'option': 48.76749696847163}, {'asset': 100.0, 'time': 0.01, 'option': 50.01749696847168}, {'asset': 101.25, 'time': 0.01, 'option': 51.26749696847177}, {'asset': 102.5, 'time': 0.01, 'option': 52.517496968471825}, {'asset': 103.75, 'time': 0.01, 'option': 53.76749696847187}, {'asset': 105.0, 'time': 0.01, 'option': 55.017496968471875}, {'asset': 106.25, 'time': 0.01, 'option': 56.26749696847179}, {'asset': 107.5, 'time': 0.01, 'option': 57.51749696847171}, {'asset': 108.75, 'time': 0.01, 'option': 58.7674969684716}, {'asset': 110.0, 'time': 0.01, 'option': 60.01749696847152}, {'asset': 111.25, 'time': 0.01, 'option': 61.26749696847164}, {'asset': 112.5, 'time': 0.01, 'option': 62.517496968471605}, {'asset': 113.75, 'time': 0.01, 'option': 63.76749696847163}, {'asset': 115.0, 'time': 0.01, 'option': 65.01749696847152}, {'asset': 116.25, 'time': 0.01, 'option': 66.26749696847155}, {'asset': 117.5, 'time': 0.01, 'option': 67.51749696847162}, {'asset': 118.75, 'time': 0.01, 'option': 68.76749696847146}, {'asset': 120.0, 'time': 0.01, 'option': 70.01749696847138}, {'asset': 121.25, 'time': 0.01, 'option': 71.26749696847136}, {'asset': 122.5, 'time': 0.01, 'option': 72.51749696847135}, {'asset': 123.75, 'time': 0.01, 'option': 73.76749696847145}, {'asset': 125.0, 'time': 0.01, 'option': 75.01749696847168}, {'asset': 126.25, 'time': 0.01, 'option': 76.26749696847169}, {'asset': 127.5, 'time': 0.01, 'option': 77.51749696847165}, {'asset': 128.75, 'time': 0.01, 'option': 78.76749696847173}, {'asset': 130.0, 'time': 0.01, 'option': 80.01749696847153}, {'asset': 131.25, 'time': 0.01, 'option': 81.26749696847145}, {'asset': 132.5, 'time': 0.01, 'option': 82.51749696847153}, {'asset': 133.75, 'time': 0.01, 'option': 83.76749696847163}, {'asset': 135.0, 'time': 0.01, 'option': 85.01749696847168}, {'asset': 136.25, 'time': 0.01, 'option': 86.26749696847148}, {'asset': 137.5, 'time': 0.01, 'option': 87.51749696847142}, {'asset': 138.75, 'time': 0.01, 'option': 88.7674969684714}, {'asset': 140.0, 'time': 0.01, 'option': 90.01749696847143}, {'asset': 141.25, 'time': 0.01, 'option': 91.26749696847149}, {'asset': 142.5, 'time': 0.01, 'option': 92.51749696847172}, {'asset': 143.75, 'time': 0.01, 'option': 93.76749696847172}, {'asset': 145.0, 'time': 0.01, 'option': 95.01749696847175}, {'asset': 146.25, 'time': 0.01, 'option': 96.26749696847183}, {'asset': 147.5, 'time': 0.01, 'option': 97.51749696847179}, {'asset': 148.75, 'time': 0.01, 'option': 98.76749696847178}, {'asset': 150.0, 'time': 0.01, 'option': 100.0174969684717}, {'asset': 151.25, 'time': 0.01, 'option': 101.26749696847169}, {'asset': 152.5, 'time': 0.01, 'option': 102.51749696847168}, {'asset': 153.75, 'time': 0.01, 'option': 103.76749696847145}, {'asset': 155.0, 'time': 0.01, 'option': 105.01749696847133}, {'asset': 156.25, 'time': 0.01, 'option': 106.2674969684713}, {'asset': 157.5, 'time': 0.01, 'option': 107.51749696847129}, {'asset': 158.75, 'time': 0.01, 'option': 108.7674969684714}, {'asset': 160.0, 'time': 0.01, 'option': 110.01749696847158}, {'asset': 161.25, 'time': 0.01, 'option': 111.26749696847163}, {'asset': 162.5, 'time': 0.01, 'option': 112.51749696847159}, {'asset': 163.75, 'time': 0.01, 'option': 113.76749696847173}, {'asset': 165.0, 'time': 0.01, 'option': 115.01749696847173}, {'asset': 166.25, 'time': 0.01, 'option': 116.26749696847176}, {'asset': 167.5, 'time': 0.01, 'option': 117.51749696847168}, {'asset': 168.75, 'time': 0.01, 'option': 118.7674969684717}, {'asset': 170.0, 'time': 0.01, 'option': 120.01749696847179}, {'asset': 171.25, 'time': 0.01, 'option': 121.2674969684718}, {'asset': 172.5, 'time': 0.01, 'option': 122.51749696847168}, {'asset': 173.75, 'time': 0.01, 'option': 123.76749696847176}, {'asset': 175.0, 'time': 0.01, 'option': 125.01749696847163}, {'asset': 176.25, 'time': 0.01, 'option': 126.26749696847173}, {'asset': 177.5, 'time': 0.01, 'option': 127.51749696847169}, {'asset': 178.75, 'time': 0.01, 'option': 128.7674969684716}, {'asset': 180.0, 'time': 0.01, 'option': 130.01749696847153}, {'asset': 181.25, 'time': 0.01, 'option': 131.2674969684716}, {'asset': 182.5, 'time': 0.01, 'option': 132.51749696847165}, {'asset': 183.75, 'time': 0.01, 'option': 133.76749696847168}, {'asset': 185.0, 'time': 0.01, 'option': 135.01749696847182}, {'asset': 186.25, 'time': 0.01, 'option': 136.26749696847176}, {'asset': 187.5, 'time': 0.01, 'option': 137.5174969684718}, {'asset': 188.75, 'time': 0.01, 'option': 138.7674969684718}, {'asset': 190.0, 'time': 0.01, 'option': 140.01749696847187}, {'asset': 191.25, 'time': 0.01, 'option': 141.26749696847187}, {'asset': 192.5, 'time': 0.01, 'option': 142.51749696847187}, {'asset': 193.75, 'time': 0.01, 'option': 143.76749696847176}, {'asset': 195.0, 'time': 0.01, 'option': 145.01749696847165}, {'asset': 196.25, 'time': 0.01, 'option': 146.2674969684715}, {'asset': 197.5, 'time': 0.01, 'option': 147.5174969684716}, {'asset': 198.75, 'time': 0.01, 'option': 148.76749696847148}, {'asset': 200.0, 'time': 0.01, 'option': 150.01749696847142}, {'asset': 201.25, 'time': 0.01, 'option': 151.26749696847142}, {'asset': 202.5, 'time': 0.01, 'option': 152.5174969684714}, {'asset': 203.75, 'time': 0.01, 'option': 153.7674969684713}, {'asset': 205.0, 'time': 0.01, 'option': 155.01749696847133}, {'asset': 206.25, 'time': 0.01, 'option': 156.26749696847142}, {'asset': 207.5, 'time': 0.01, 'option': 157.51749696847148}, {'asset': 208.75, 'time': 0.01, 'option': 158.76749696847142}, {'asset': 210.0, 'time': 0.01, 'option': 160.0174969684714}, {'asset': 211.25, 'time': 0.01, 'option': 161.2674969684714}, {'asset': 212.5, 'time': 0.01, 'option': 162.51749696847142}, {'asset': 213.75, 'time': 0.01, 'option': 163.76749696847142}, {'asset': 215.0, 'time': 0.01, 'option': 165.0174969684713}, {'asset': 216.25, 'time': 0.01, 'option': 166.26749696847128}, {'asset': 217.5, 'time': 0.01, 'option': 167.5174969684713}, {'asset': 218.75, 'time': 0.01, 'option': 168.76749696847125}, {'asset': 220.0, 'time': 0.01, 'option': 170.01749696847128}, {'asset': 221.25, 'time': 0.01, 'option': 171.26749696847082}, {'asset': 222.5, 'time': 0.01, 'option': 172.51749696846824}, {'asset': 223.75, 'time': 0.01, 'option': 173.76749696845678}, {'asset': 225.0, 'time': 0.01, 'option': 175.01749696841236}, {'asset': 226.25, 'time': 0.01, 'option': 176.26749696825144}, {'asset': 227.5, 'time': 0.01, 'option': 177.51749696770355}, {'asset': 228.75, 'time': 0.01, 'option': 178.7674969659501}, {'asset': 230.0, 'time': 0.01, 'option': 180.01749696067657}, {'asset': 231.25, 'time': 0.01, 'option': 181.26749694578083}, {'asset': 232.5, 'time': 0.01, 'option': 182.5174969062892}, {'asset': 233.75, 'time': 0.01, 'option': 183.7674968080749}, {'asset': 235.0, 'time': 0.01, 'option': 185.01749657907675}, {'asset': 236.25, 'time': 0.01, 'option': 186.26749607875288}, {'asset': 237.5, 'time': 0.01, 'option': 187.51749505491654}, {'asset': 238.75, 'time': 0.01, 'option': 188.76749309338706}, {'asset': 240.0, 'time': 0.01, 'option': 190.01748957615195}, {'asset': 241.25, 'time': 0.01, 'option': 191.26748367486934}, {'asset': 242.5, 'time': 0.01, 'option': 192.51747441146125}, {'asset': 243.75, 'time': 0.01, 'option': 193.7674608074941}, {'asset': 245.0, 'time': 0.01, 'option': 195.0174421146109}, {'asset': 246.25, 'time': 0.01, 'option': 196.26741807618947}, {'asset': 247.5, 'time': 0.01, 'option': 197.5173891350389}, {'asset': 248.75, 'time': 0.01, 'option': 198.76735649704747}]\n"
     ]
    }
   ],
   "source": [
    "info = option2.get_info()\n",
    "print(info[100])\n",
    "# print(len(info(100)))"
   ]
  },
  {
   "cell_type": "code",
   "execution_count": 10,
   "metadata": {},
   "outputs": [
    {
     "name": "stdout",
     "output_type": "stream",
     "text": [
      "hello\n"
     ]
    }
   ],
   "source": [
    "# using t to predict t+1, \n",
    "data = {}\n",
    "\n",
    "price_key = option2.print_grid()\n",
    "# print(price_key.keys())\n",
    "# print(len(price_key))\n",
    "# print(len(price_key[0]))\n"
   ]
  },
  {
   "cell_type": "code",
   "execution_count": 11,
   "metadata": {},
   "outputs": [],
   "source": [
    "# data['t'] = list(price_key.keys())[:-1]\n",
    "k=0\n",
    "for i in option2.i_values:\n",
    "    data[k] = price_key[i][:]\n",
    "    k+=1\n",
    "    pass\n",
    "\n",
    "# k=0\n",
    "# for i in option2.i_values:\n",
    "#     data[f'output{k}'] = price_key[i][1:]\n",
    "#     k+=1\n",
    "#     pass\n",
    "\n",
    "# print(len(data['output1']))\n",
    "\n",
    "df = pd.DataFrame.from_dict(data)\n",
    "df.to_csv('sample.csv', index = False)"
   ]
  },
  {
   "cell_type": "code",
   "execution_count": null,
   "metadata": {},
   "outputs": [],
   "source": [
    "#checking boundary conditions\n",
    "# print(option.grid[-1, :])\n",
    "# print(option.j_values)\n",
    "# print([N - j for j in option.j_values])\n",
    "# # print(option.N - option.j_values)\n",
    "# # print((option.Smax - option.K) * np.exp(-option.r * option.dt *(option.N - option.j_values)))\n",
    "# # print(option.dt *(option.N - option.j_values))\n",
    "# print(200 * np.exp(-option.r * option.dt *(option.j_values)))"
   ]
  }
 ],
 "metadata": {
  "kernelspec": {
   "display_name": "tf",
   "language": "python",
   "name": "python3"
  },
  "language_info": {
   "codemirror_mode": {
    "name": "ipython",
    "version": 3
   },
   "file_extension": ".py",
   "mimetype": "text/x-python",
   "name": "python",
   "nbconvert_exporter": "python",
   "pygments_lexer": "ipython3",
   "version": "3.9.16"
  },
  "orig_nbformat": 4
 },
 "nbformat": 4,
 "nbformat_minor": 2
}
