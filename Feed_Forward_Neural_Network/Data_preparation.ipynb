{
 "cells": [
  {
   "cell_type": "code",
   "execution_count": 1,
   "metadata": {},
   "outputs": [
    {
     "name": "stdout",
     "output_type": "stream",
     "text": [
      "importing Jupyter notebook from FDM.ipynb\n",
      "10.157656091130164\n",
      "10.159234655029346\n"
     ]
    }
   ],
   "source": [
    "import numpy as np\n",
    "import pandas as pd\n",
    "import matplotlib.pyplot as plt\n",
    "\n",
    "\n",
    "from scipy.stats import gamma\n",
    "from scipy.stats import beta\n",
    "from scipy.stats import uniform\n",
    "\n",
    "from py_vollib import black_scholes_merton as bsm\n",
    "\n",
    "\n",
    "import import_ipynb\n",
    "from FDM import FDExplicitEu"
   ]
  },
  {
   "attachments": {},
   "cell_type": "markdown",
   "metadata": {},
   "source": [
    "# Simple Model Data Generation\n",
    "\n",
    "Given a function: $f(s, t) = e^{sin(\\pi s + 100\\pi t)}$\n",
    "\n",
    "Using neural network to predict the result"
   ]
  },
  {
   "cell_type": "code",
   "execution_count": 2,
   "metadata": {},
   "outputs": [],
   "source": [
    "# # test functions\n",
    "# def test_function(s, t):\n",
    "#     res = np.exp(np.sin(np.pi*s + 100*np.pi*t))\n",
    "#     return res "
   ]
  },
  {
   "cell_type": "code",
   "execution_count": 3,
   "metadata": {},
   "outputs": [],
   "source": [
    "\n",
    "# Smax = 1\n",
    "# T = 100\n",
    "\n",
    "# M = 200\n",
    "# N = 10**5\n",
    "# ds = Smax / float(M)\n",
    "# dt = T / float(N)\n",
    "# i_values = np.arange(stop=Smax, step=ds) # type: ignore\n",
    "# j_values= np.arange(stop=T, step=dt) # type: ignore\n",
    "\n",
    "# # print(i_values)\n",
    "# # print(j_values)\n",
    "# # print(len(j_values))\n",
    "\n",
    "# # grip = np.zeros(shape=(M+1, N+1))\n",
    "\n",
    "# test_data = {}\n",
    "# for i in i_values:\n",
    "#     tmp = []\n",
    "#     for j in j_values:\n",
    "#         tmp.append(test_function(i, j))\n",
    "#         pass\n",
    "#     test_data[i] = tmp\n",
    "#     pass\n",
    "# # print(test_data)\n"
   ]
  },
  {
   "cell_type": "code",
   "execution_count": 4,
   "metadata": {},
   "outputs": [],
   "source": [
    "# data = {}\n",
    "# k=0\n",
    "# for i in i_values[:]:\n",
    "#     data[f'input{k}'] = test_data[i][:-1]\n",
    "#     k+=1\n",
    "#     pass\n",
    "\n",
    "# k=0\n",
    "# for i in i_values[:]:\n",
    "#     data[f'output{k}'] = test_data[i][1:]\n",
    "#     k+=1\n",
    "#     pass\n",
    "\n",
    "# df = pd.DataFrame.from_dict(data)\n",
    "# df.to_csv('test_sample.csv', index = False)\n",
    "# print('Done')\n"
   ]
  },
  {
   "attachments": {},
   "cell_type": "markdown",
   "metadata": {},
   "source": [
    "# Black Scholes Data Generation\n",
    "\n",
    "Given fixed \n",
    "- volatility $\\sigma$,\n",
    "- spot price S0, \n",
    "- strike price K, \n",
    "- terminal time T, \n",
    "- risk-free rate r, \n",
    "- Max asset price Smax, \n",
    "- space discretization size M \n",
    "- time discretization size N\n",
    "\n",
    "The finite difference method can generate the option price range at each time step with respect to the asset price range. And the data is stored in a dictionary. \n"
   ]
  },
  {
   "cell_type": "code",
   "execution_count": 37,
   "metadata": {},
   "outputs": [],
   "source": [
    "sigma = 0.2     # asset price volatility \n",
    "S0 = 20         # spot price / asset price at time 0\n",
    "K = 10          # strike price\n",
    "q = 0           # dividend rate\n",
    "T = 1           # 1 year\n",
    "r = 0.035       # australia 10Y government bond\n",
    "Smax = int(5*K) # boundary asset price\n",
    "M = 100        # asset discretize size\n",
    "N = 5000        # time discretize size\n",
    "is_call = True  # option type"
   ]
  },
  {
   "cell_type": "code",
   "execution_count": 38,
   "metadata": {},
   "outputs": [
    {
     "name": "stdout",
     "output_type": "stream",
     "text": [
      "The black scholes formual result is: 10.344037459417462\n"
     ]
    }
   ],
   "source": [
    "print(\"The black scholes formual result is:\", bsm.black_scholes_merton(flag = 'c', S = S0, K = K, q = q, t = T,r = r, sigma = sigma))"
   ]
  },
  {
   "cell_type": "code",
   "execution_count": 39,
   "metadata": {},
   "outputs": [
    {
     "name": "stdout",
     "output_type": "stream",
     "text": [
      "10.344053048786765\n"
     ]
    }
   ],
   "source": [
    "# initialise the option price to do calculation and generate data\n",
    "option = FDExplicitEu(S0, K, r, T, sigma, Smax, 100, 5000, is_call=True)\n",
    "print(option.price())\n",
    "# 4.803264055067497: 100, 1000\n",
    "# 4.22223222214615: 25, 100000\n",
    "# 4.833432465965342: 1000, 100000\n",
    "# 4.802737294385121: 100, 100000"
   ]
  },
  {
   "cell_type": "code",
   "execution_count": 40,
   "metadata": {},
   "outputs": [
    {
     "name": "stdout",
     "output_type": "stream",
     "text": [
      "10.344053048786765\n"
     ]
    }
   ],
   "source": [
    "option2 = FDExplicitEu(S0, K, r, T, sigma, Smax, M=M, N=N, is_call=True)\n",
    "print(option2.price())"
   ]
  },
  {
   "cell_type": "code",
   "execution_count": 41,
   "metadata": {},
   "outputs": [
    {
     "name": "stdout",
     "output_type": "stream",
     "text": [
      "[{'asset': 0.0, 'time': 0.02, 'option': 0.0}, {'asset': 0.5, 'time': 0.02, 'option': 2.4000712607869917e-50}, {'asset': 1.0, 'time': 0.02, 'option': 7.858644878930886e-46}, {'asset': 1.5, 'time': 0.02, 'option': 7.870399769410813e-42}, {'asset': 2.0, 'time': 0.02, 'option': 3.647312966430774e-38}, {'asset': 2.5, 'time': 0.02, 'option': 9.399013772829934e-35}, {'asset': 3.0, 'time': 0.02, 'option': 1.4948006963455203e-31}, {'asset': 3.5, 'time': 0.02, 'option': 1.5679807934303121e-28}, {'asset': 4.0, 'time': 0.02, 'option': 1.1350410626024828e-25}, {'asset': 4.5, 'time': 0.02, 'option': 5.854147023326842e-23}, {'asset': 5.0, 'time': 0.02, 'option': 2.2008434038734307e-20}, {'asset': 5.5, 'time': 0.02, 'option': 6.128088277246052e-18}, {'asset': 6.0, 'time': 0.02, 'option': 1.2771089344730206e-15}, {'asset': 6.5, 'time': 0.02, 'option': 2.0033764429351538e-13}, {'asset': 7.0, 'time': 0.02, 'option': 2.3679161251439512e-11}, {'asset': 7.5, 'time': 0.02, 'option': 2.1003542782114016e-09}, {'asset': 8.0, 'time': 0.02, 'option': 1.3841001527539726e-07}, {'asset': 8.5, 'time': 0.02, 'option': 6.654071681955505e-06}, {'asset': 9.0, 'time': 0.02, 'option': 0.00022638058368317296}, {'asset': 9.5, 'time': 0.02, 'option': 0.005178057422235258}, {'asset': 10.0, 'time': 0.02, 'option': 0.0725799470882773}, {'asset': 10.5, 'time': 0.02, 'option': 0.512157650768326}, {'asset': 11.0, 'time': 0.02, 'option': 1.007299316817075}, {'asset': 11.5, 'time': 0.02, 'option': 1.5070120565793181}, {'asset': 12.0, 'time': 0.02, 'option': 2.0069981781097392}, {'asset': 12.5, 'time': 0.02, 'option': 2.5069975976210706}, {'asset': 13.0, 'time': 0.02, 'option': 3.0069975758315555}, {'asset': 13.5, 'time': 0.02, 'option': 3.5069975750795632}, {'asset': 14.0, 'time': 0.02, 'option': 4.006997575055288}, {'asset': 14.5, 'time': 0.02, 'option': 4.5069975750545455}, {'asset': 15.0, 'time': 0.02, 'option': 5.006997575054553}, {'asset': 15.5, 'time': 0.02, 'option': 5.5069975750545375}, {'asset': 16.0, 'time': 0.02, 'option': 6.006997575054553}, {'asset': 16.5, 'time': 0.02, 'option': 6.506997575054523}, {'asset': 17.0, 'time': 0.02, 'option': 7.006997575054521}, {'asset': 17.5, 'time': 0.02, 'option': 7.506997575054527}, {'asset': 18.0, 'time': 0.02, 'option': 8.006997575054525}, {'asset': 18.5, 'time': 0.02, 'option': 8.506997575054516}, {'asset': 19.0, 'time': 0.02, 'option': 9.006997575054541}, {'asset': 19.5, 'time': 0.02, 'option': 9.506997575054516}, {'asset': 20.0, 'time': 0.02, 'option': 10.006997575054525}, {'asset': 20.5, 'time': 0.02, 'option': 10.506997575054543}, {'asset': 21.0, 'time': 0.02, 'option': 11.00699757505454}, {'asset': 21.5, 'time': 0.02, 'option': 11.506997575054527}, {'asset': 22.0, 'time': 0.02, 'option': 12.006997575054513}, {'asset': 22.5, 'time': 0.02, 'option': 12.506997575054541}, {'asset': 23.0, 'time': 0.02, 'option': 13.006997575054521}, {'asset': 23.5, 'time': 0.02, 'option': 13.506997575054548}, {'asset': 24.0, 'time': 0.02, 'option': 14.00699757505456}, {'asset': 24.5, 'time': 0.02, 'option': 14.506997575054553}, {'asset': 25.0, 'time': 0.02, 'option': 15.006997575054553}, {'asset': 25.5, 'time': 0.02, 'option': 15.506997575054541}, {'asset': 26.0, 'time': 0.02, 'option': 16.006997575054562}, {'asset': 26.5, 'time': 0.02, 'option': 16.506997575054545}, {'asset': 27.0, 'time': 0.02, 'option': 17.00699757505457}, {'asset': 27.5, 'time': 0.02, 'option': 17.506997575054573}, {'asset': 28.0, 'time': 0.02, 'option': 18.006997575054562}, {'asset': 28.5, 'time': 0.02, 'option': 18.50699757505456}, {'asset': 29.0, 'time': 0.02, 'option': 19.00699757505455}, {'asset': 29.5, 'time': 0.02, 'option': 19.506997575054573}, {'asset': 30.0, 'time': 0.02, 'option': 20.006997575054555}, {'asset': 30.5, 'time': 0.02, 'option': 20.50699757505457}, {'asset': 31.0, 'time': 0.02, 'option': 21.006997575054598}, {'asset': 31.5, 'time': 0.02, 'option': 21.506997575054584}, {'asset': 32.0, 'time': 0.02, 'option': 22.006997575054548}, {'asset': 32.5, 'time': 0.02, 'option': 22.506997575054537}, {'asset': 33.0, 'time': 0.02, 'option': 23.00699757505455}, {'asset': 33.5, 'time': 0.02, 'option': 23.506997575054537}, {'asset': 34.0, 'time': 0.02, 'option': 24.006997575054537}, {'asset': 34.5, 'time': 0.02, 'option': 24.506997575054562}, {'asset': 35.0, 'time': 0.02, 'option': 25.006997575054566}, {'asset': 35.5, 'time': 0.02, 'option': 25.50699757505455}, {'asset': 36.0, 'time': 0.02, 'option': 26.006997575054513}, {'asset': 36.5, 'time': 0.02, 'option': 26.50699757505453}, {'asset': 37.0, 'time': 0.02, 'option': 27.006997575054502}, {'asset': 37.5, 'time': 0.02, 'option': 27.50699757505452}, {'asset': 38.0, 'time': 0.02, 'option': 28.006997575054523}, {'asset': 38.5, 'time': 0.02, 'option': 28.506997575054505}, {'asset': 39.0, 'time': 0.02, 'option': 29.006997575054502}, {'asset': 39.5, 'time': 0.02, 'option': 29.50699757505447}, {'asset': 40.0, 'time': 0.02, 'option': 30.006997575054484}, {'asset': 40.5, 'time': 0.02, 'option': 30.506997575054445}, {'asset': 41.0, 'time': 0.02, 'option': 31.006997575054438}, {'asset': 41.5, 'time': 0.02, 'option': 31.506997575054243}, {'asset': 42.0, 'time': 0.02, 'option': 32.00699757505287}, {'asset': 42.5, 'time': 0.02, 'option': 32.506997575044295}, {'asset': 43.0, 'time': 0.02, 'option': 33.00699757499547}, {'asset': 43.5, 'time': 0.02, 'option': 33.50699757474287}, {'asset': 44.0, 'time': 0.02, 'option': 34.006997573558785}, {'asset': 44.5, 'time': 0.02, 'option': 34.50699756854016}, {'asset': 45.0, 'time': 0.02, 'option': 35.00699754936636}, {'asset': 45.5, 'time': 0.02, 'option': 35.506997483552034}, {'asset': 46.0, 'time': 0.02, 'option': 36.00699728130931}, {'asset': 46.5, 'time': 0.02, 'option': 36.506996727024905}, {'asset': 47.0, 'time': 0.02, 'option': 37.00699537742038}, {'asset': 47.5, 'time': 0.02, 'option': 37.50699246942827}, {'asset': 48.0, 'time': 0.02, 'option': 38.00698694531412}, {'asset': 48.5, 'time': 0.02, 'option': 38.5069777244682}, {'asset': 49.0, 'time': 0.02, 'option': 39.00696423452418}, {'asset': 49.5, 'time': 0.02, 'option': 39.506946960996835}]\n"
     ]
    }
   ],
   "source": [
    "info = option2.get_info()\n",
    "print(info[100])\n",
    "# print(len(info(100)))"
   ]
  },
  {
   "cell_type": "code",
   "execution_count": 42,
   "metadata": {},
   "outputs": [
    {
     "name": "stdout",
     "output_type": "stream",
     "text": [
      "hello\n"
     ]
    }
   ],
   "source": [
    "# using t to predict t+1, \n",
    "data = {}\n",
    "\n",
    "price_key = option2.print_grid()\n",
    "# print(price_key.keys())\n",
    "# print(len(price_key))\n",
    "# print(len(price_key[0]))\n"
   ]
  },
  {
   "cell_type": "code",
   "execution_count": 43,
   "metadata": {},
   "outputs": [],
   "source": [
    "# data['t'] = list(price_key.keys())[:-1]\n",
    "k=0\n",
    "for i in option2.i_values:\n",
    "    data[k] = price_key[i][:]\n",
    "    k+=1\n",
    "    pass\n",
    "\n",
    "# k=0\n",
    "# for i in option2.i_values:\n",
    "#     data[f'output{k}'] = price_key[i][1:]\n",
    "#     k+=1\n",
    "#     pass\n",
    "\n",
    "# print(len(data['output1']))\n",
    "\n",
    "df = pd.DataFrame.from_dict(data)\n",
    "df.to_csv('sample.csv', index = False)"
   ]
  },
  {
   "cell_type": "code",
   "execution_count": null,
   "metadata": {},
   "outputs": [],
   "source": [
    "#checking boundary conditions\n",
    "# print(option.grid[-1, :])\n",
    "# print(option.j_values)\n",
    "# print([N - j for j in option.j_values])\n",
    "# # print(option.N - option.j_values)\n",
    "# # print((option.Smax - option.K) * np.exp(-option.r * option.dt *(option.N - option.j_values)))\n",
    "# # print(option.dt *(option.N - option.j_values))\n",
    "# print(200 * np.exp(-option.r * option.dt *(option.j_values)))"
   ]
  }
 ],
 "metadata": {
  "kernelspec": {
   "display_name": "tf",
   "language": "python",
   "name": "python3"
  },
  "language_info": {
   "codemirror_mode": {
    "name": "ipython",
    "version": 3
   },
   "file_extension": ".py",
   "mimetype": "text/x-python",
   "name": "python",
   "nbconvert_exporter": "python",
   "pygments_lexer": "ipython3",
   "version": "3.9.16"
  },
  "orig_nbformat": 4
 },
 "nbformat": 4,
 "nbformat_minor": 2
}
