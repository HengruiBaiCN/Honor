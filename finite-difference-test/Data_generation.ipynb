{
 "cells": [
  {
   "cell_type": "code",
   "execution_count": null,
   "metadata": {},
   "outputs": [],
   "source": [
    "import numpy as np\n",
    "import pandas as pd\n",
    "import matplotlib.pyplot as plt\n",
    "import scipy.io as sio\n",
    "import keras\n",
    "import keras.backend as K\n",
    "\n",
    "from sklearn.model_selection import ParameterGrid\n",
    "from py_vollib import black_scholes_merton as bsm\n",
    "from progressbar import ProgressBar\n",
    "from scipy.stats import gamma\n",
    "from scipy.stats import beta\n",
    "from scipy.stats import uniform\n",
    "from keras.models import Model\n",
    "from keras.layers import Input, Dense\n",
    "from sklearn.model_selection import train_test_split\n",
    "\n",
    "import scipy.sparse\n",
    "from mpl_toolkits.mplot3d import Axes3D\n",
    "\n",
    "import import_ipynb\n",
    "\n",
    "from finite_difference_class import FDExplicitEu, FDImplicitEu, FDCnEu"
   ]
  },
  {
   "cell_type": "code",
   "execution_count": null,
   "metadata": {},
   "outputs": [],
   "source": [
    "# S (spot price)\n",
    "# gamma\n",
    "def thisS(q):\n",
    "    return gamma.ppf(q, a = 100, scale = 1)\n",
    "\n",
    "# K (strike price)\n",
    "# uniform (lower = 50, upper = 200)\n",
    "def thisK(q):\n",
    "    return uniform.ppf(q, 50, 200)\n",
    "\n",
    "# (interest rate)\n",
    "# uniform (lower = 0.01, upper = 0.18)\n",
    "def thisR(q):\n",
    "    return uniform.ppf(q, 0.01, 0.18)\n",
    "\n",
    "\n",
    "# D (dividend)\n",
    "# uniform (lower = 0.01, upper = 0.18)\n",
    "def thisD(q):\n",
    "    return 0\n",
    "    # return uniform.ppf(q, 0.01, 0.18)\n",
    "\n",
    "# t (time-to-maturity)\n",
    "# t will be 3, 6, 9, 12 months for all examples (0.25, 0.5, 0.75, 1 year)\n",
    "\n",
    "# sigma (volatility)\n",
    "# beta (add small amount so volatility cannot be zero)\n",
    "def thisSigma(q):\n",
    "    return (beta.ppf(q, a = 2, b = 5) + 0.001)"
   ]
  },
  {
   "attachments": {},
   "cell_type": "markdown",
   "metadata": {},
   "source": [
    "# Data segmentation\n",
    "## Data set 1:\n",
    "To generate the training and testing dataset \n",
    "- Fixed valotility $\\sigma$\n",
    "- Fixed interest rate r\n",
    "- Fixed Smax and S (asset price)\n",
    "- Fixed T (terminal time)\n",
    "- Fixed "
   ]
  },
  {
   "cell_type": "code",
   "execution_count": null,
   "metadata": {},
   "outputs": [],
   "source": [
    "num_increment = 12\n",
    "percentiles = pd.Series(np.linspace(0.01, 0.99, num_increment))\n",
    "print(percentiles)"
   ]
  },
  {
   "cell_type": "code",
   "execution_count": null,
   "metadata": {},
   "outputs": [],
   "source": []
  },
  {
   "cell_type": "code",
   "execution_count": null,
   "metadata": {},
   "outputs": [],
   "source": []
  }
 ],
 "metadata": {
  "language_info": {
   "name": "python"
  },
  "orig_nbformat": 4
 },
 "nbformat": 4,
 "nbformat_minor": 2
}
