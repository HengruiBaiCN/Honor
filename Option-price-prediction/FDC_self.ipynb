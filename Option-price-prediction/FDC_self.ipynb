{
 "cells": [
  {
   "cell_type": "code",
   "execution_count": 2,
   "metadata": {},
   "outputs": [],
   "source": [
    "import numpy as np\n",
    "import scipy.linalg as linalg"
   ]
  },
  {
   "attachments": {},
   "cell_type": "markdown",
   "metadata": {},
   "source": [
    "# Black Scholes Formula\n",
    "$\n",
    "{\\frac {\\partial V}{\\partial t}}+{\\frac {1}{2}}\\sigma ^{2}S^{2}{\\frac {\\partial ^{2}V}{\\partial S^{2}}}+rS{\\frac {\\partial V}{\\partial S}}-rV=0\n",
    "$"
   ]
  },
  {
   "cell_type": "code",
   "execution_count": 63,
   "metadata": {},
   "outputs": [
    {
     "name": "stdout",
     "output_type": "stream",
     "text": [
      "[0 1 2 3 4 5 6 7 8 9]\n",
      "44.68028778680165\n",
      "49.28069465678039\n"
     ]
    }
   ],
   "source": [
    "mm = 10\n",
    "nn = 10\n",
    "\n",
    "tt = np.arange(10)\n",
    "\n",
    "print(np.arange(10))\n",
    "\n",
    "for i in tt:\n",
    "    # print(i)\n",
    "    # print(i+1)\n",
    "    pass\n",
    "\n",
    "grid = np.zeros(shape=(mm+1, nn+1))\n",
    "\n",
    "profit = 49.33 * np.exp(-0.1 * (1 - 0.01))\n",
    "print(profit)\n",
    "profit = 49.33 * np.exp(-0.1 * (1 - 0.99))\n",
    "print(profit)"
   ]
  },
  {
   "attachments": {},
   "cell_type": "markdown",
   "metadata": {},
   "source": [
    "# Finite Difference Class\n",
    "## Discretization\n",
    "- S is discretized by N Steps, $\\Delta s = S_{max}/N$, then it can be splited as $\\{s_0, s_1, s_2, \\ldots, s_M\\}$ or $\\{0\\Delta s, 1\\Delta s, 2\\Delta s, \\ldots, (M-1)\\Delta s, M\\Delta s\\}$\n",
    "- T is discretized by M Steps, $\\Delta t = T/M$, then it can be splited as $\\{t_0, t_1, t_2, \\ldots, t_M\\}$ or $\\{0\\Delta t, 1\\Delta t, 2\\Delta t, \\ldots, (N-1)\\Delta t, N\\Delta t\\}$\n",
    "- Using i to represent each space(price) step, $\\{i_0, i_1, i_2, \\ldots, j_{M-1}, i_M\\}$\n",
    "- Using j to represent each time step: $\\{j_0, j_1, j_2, \\ldots, j_{N-1}, j_N\\}$"
   ]
  },
  {
   "cell_type": "code",
   "execution_count": 33,
   "metadata": {},
   "outputs": [],
   "source": [
    "class FiniteDifferences(object):\n",
    "\n",
    "    def __init__(self, S0, K, r, T, sigma, Smax, M, N,\n",
    "                 is_call=True):\n",
    "        self.S0 = S0\n",
    "        self.K = K\n",
    "        self.r = r\n",
    "        self.T = T\n",
    "        self.sigma = sigma\n",
    "        self.Smax = Smax\n",
    "        self.M, self.N = int(M), int(N)  # Ensure M&N are integers\n",
    "        self.is_call = is_call\n",
    "        \n",
    "        # calculate the discretization size of the space(price) and time\n",
    "        self.dS = Smax / float(self.M)\n",
    "        self.dt = T / float(self.N)\n",
    "        \n",
    "        # create index list\n",
    "        self.i_values = np.arange(self.M)\n",
    "        self.j_values = np.arange(self.N)\n",
    "        \n",
    "        # save all the option price at each step into a 2-D matrix\n",
    "        self.grid = np.zeros(shape=(self.M+1, self.N+1))\n",
    "        \n",
    "        # manipulate the asset price when the discretize step\n",
    "        self.boundary_conds = np.linspace(0, Smax, self.M+1)\n",
    "\n",
    "    def _setup_boundary_conditions_(self):\n",
    "        pass\n",
    "\n",
    "    def _setup_coefficients_(self):\n",
    "        pass\n",
    "\n",
    "    def _traverse_grid_(self):\n",
    "        \"\"\"  Iterate the grid backwards in time \"\"\"\n",
    "        pass\n",
    "\n",
    "    def _interpolate_(self):\n",
    "        \"\"\"\n",
    "        Use piecewise linear interpolation on the initial\n",
    "        grid column to get the closest price at S0.\n",
    "        \"\"\"\n",
    "        return np.interp(self.S0, \n",
    "                         self.boundary_conds,\n",
    "                         self.grid[:, 0])\n",
    "        \n",
    "    def price(self):\n",
    "        self._setup_boundary_conditions_()\n",
    "        self._setup_coefficients_()\n",
    "        self._traverse_grid_()\n",
    "        return (self._interpolate_(), self.grid)\n",
    "    \n",
    "    def print_grid(self):\n",
    "        possible_prices = {}\n",
    "        for j in self.j_values:\n",
    "            tmp  = []\n",
    "            for i in range(self.M):\n",
    "                tmp.append(self.grid[i, j])\n",
    "                pass\n",
    "            possible_prices[j] = tmp\n",
    "        return possible_prices\n",
    "    \n",
    "    def get_info(self):\n",
    "        infos = {}\n",
    "        for j in self.j_values:\n",
    "            tmp  = []\n",
    "            for i in range(self.M):\n",
    "                info = {'asset': i*self.dS, 'time': j*self.dt, 'option': self.grid[i, j]}\n",
    "                tmp.append(info)\n",
    "                pass\n",
    "            infos[j] = tmp\n",
    "        return infos"
   ]
  },
  {
   "attachments": {},
   "cell_type": "markdown",
   "metadata": {},
   "source": [
    "# The Explicit Method\n",
    "## Difference approximation method\n",
    "- Forward Difference approximation with respect to t.\n",
    "- First-order Central Difference approximation with respect to S.\n",
    "- Second-Order Symmetric Central Difference approximation with respect to S."
   ]
  },
  {
   "cell_type": "code",
   "execution_count": 34,
   "metadata": {},
   "outputs": [],
   "source": [
    "\"\"\" Explicit method of Finite Differences \"\"\"\n",
    "class FDExplicitEu(FiniteDifferences):\n",
    "\n",
    "    def _setup_boundary_conditions_(self):\n",
    "        if self.is_call:\n",
    "            # Terminal/exercise when asset price S > strike price K\n",
    "            self.grid[:, -1] = np.maximum(self.boundary_conds - self.K, 0)\n",
    "            # Terminal at the end of the option contract\n",
    "            self.grid[-1, :-1] = (self.Smax - self.K) * np.exp(-self.r *\n",
    "                                                               self.dt *\n",
    "                                                               (self.N - self.j_values))\n",
    "        else:\n",
    "            # Terminal/exercise when asset price S > strike price K\n",
    "            self.grid[:, -1] = np.maximum(self.K-self.boundary_conds, 0)\n",
    "            # Terminal at the end of the option contract\n",
    "            self.grid[0, :-1] = (self.K - self.Smax) * np.exp(-self.r * \n",
    "                                                              self.dt * \n",
    "                                                              (self.N - self.j_values))\n",
    "\n",
    "    def _setup_coefficients_(self):\n",
    "        self.a = 0.5 * self.dt * ((self.sigma**2) *\n",
    "                                  (self.i_values**2) - \n",
    "                                  self.r * self.i_values)\n",
    "        self.b = 1 - self.dt * ((self.sigma**2) * \n",
    "                                (self.i_values**2) + \n",
    "                                self.r)\n",
    "        self.c = 0.5 * self.dt * ((self.sigma**2) * \n",
    "                                  (self.i_values**2) + \n",
    "                                  self.r*self.i_values)\n",
    "\n",
    "    def _traverse_grid_(self):\n",
    "        for j in reversed(self.j_values):\n",
    "            for i in range(self.M)[2:]:\n",
    "                self.grid[i, j] = self.a[i] * self.grid[i-1, j+1] + self.b[i] * self.grid[i, j+1] + self.c[i] * self.grid[i+1, j+1] "
   ]
  },
  {
   "cell_type": "code",
   "execution_count": 59,
   "metadata": {},
   "outputs": [
    {
     "name": "stdout",
     "output_type": "stream",
     "text": [
      "9.90909108638459\n",
      "10000\n",
      "10000\n",
      "{'asset': 99.33333333333333, 'time': 0.01, 'option': 44.885865360560274}\n",
      "{'asset': 99.33333333333333, 'time': 0.5, 'option': 47.077458637693795}\n",
      "{'asset': 99.33333333333333, 'time': 0.9999, 'option': 49.33383333333333}\n"
     ]
    }
   ],
   "source": [
    "option = FDExplicitEu(50, 50, 0.1, 1.0, 0.4, 100, 150, 10000, True)\n",
    "print(option.price()[0])\n",
    "prices = option.print_grid()\n",
    "print(len(prices))\n",
    "\n",
    "info = option.get_info()\n",
    "print(len(info))\n",
    "print(info[100][-1])\n",
    "print(info[5000][-1])\n",
    "print(info[9999][-1])\n",
    "\n",
    "# for k in option.j_values:\n",
    "#     print(len(prices[k]))\n",
    "#     pass"
   ]
  },
  {
   "cell_type": "code",
   "execution_count": 58,
   "metadata": {},
   "outputs": [
    {
     "name": "stdout",
     "output_type": "stream",
     "text": [
      "5.399096286197699\n",
      "10000\n",
      "10000\n",
      "{'asset': 6.666666666666666, 'time': 0.01, 'option': 38.61975602626809}\n",
      "{'asset': 6.666666666666666, 'time': 0.5, 'option': 40.894783190659595}\n",
      "{'asset': 6.666666666666666, 'time': 0.9999, 'option': 43.33283333333334}\n"
     ]
    }
   ],
   "source": [
    "option1 = FDExplicitEu(50, 50, 0.1, 1.0, 0.4, 100, 150, 10000, False)\n",
    "print(option1.price()[0])\n",
    "prices = option1.print_grid()\n",
    "print(len(prices))\n",
    "\n",
    "info1 = option1.get_info()\n",
    "print(len(info1))\n",
    "print(info1[100][10])\n",
    "print(info1[5000][10])\n",
    "print(info1[9999][10])"
   ]
  }
 ],
 "metadata": {
  "kernelspec": {
   "display_name": "tf",
   "language": "python",
   "name": "python3"
  },
  "language_info": {
   "codemirror_mode": {
    "name": "ipython",
    "version": 3
   },
   "file_extension": ".py",
   "mimetype": "text/x-python",
   "name": "python",
   "nbconvert_exporter": "python",
   "pygments_lexer": "ipython3",
   "version": "3.9.16"
  },
  "orig_nbformat": 4
 },
 "nbformat": 4,
 "nbformat_minor": 2
}
