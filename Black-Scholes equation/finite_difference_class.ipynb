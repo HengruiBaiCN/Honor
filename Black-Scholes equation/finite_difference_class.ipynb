{
 "cells": [
  {
   "cell_type": "code",
   "execution_count": 5,
   "metadata": {},
   "outputs": [],
   "source": [
    "'''https://subscription.packtpub.com/book/undefined/9781784394516/4/ch04lvl1sec37/finite-differences-in-options-pricing'''\n",
    "\n",
    "\"\"\" Shared attributes and functions of FD \"\"\"\n",
    "import numpy as np\n",
    "import scipy.linalg as linalg"
   ]
  },
  {
   "cell_type": "code",
   "execution_count": 6,
   "metadata": {},
   "outputs": [],
   "source": [
    "class FiniteDifferences(object):\n",
    "\n",
    "    def __init__(self, S0, K, r, T, sigma, Smax, M, N,\n",
    "                 is_call=True):\n",
    "        self.S0 = S0\n",
    "        self.K = K\n",
    "        self.r = r\n",
    "        self.T = T\n",
    "        self.sigma = sigma\n",
    "        self.Smax = Smax\n",
    "        self.M, self.N = int(M), int(N)  # Ensure M&N are integers\n",
    "        self.is_call = is_call\n",
    "\n",
    "        self.dS = Smax / float(self.M)\n",
    "        self.dt = T / float(self.N)\n",
    "        self.i_values = np.arange(self.M)\n",
    "        self.j_values = np.arange(self.N)\n",
    "        self.grid = np.zeros(shape=(self.M+1, self.N+1))\n",
    "        self.boundary_conds = np.linspace(0, Smax, self.M+1)\n",
    "\n",
    "    def _setup_boundary_conditions_(self):\n",
    "        pass\n",
    "\n",
    "    def _setup_coefficients_(self):\n",
    "        pass\n",
    "\n",
    "    def _traverse_grid_(self):\n",
    "        \"\"\"  Iterate the grid backwards in time \"\"\"\n",
    "        pass\n",
    "\n",
    "    def _interpolate_(self):\n",
    "        \"\"\"\n",
    "        Use piecewise linear interpolation on the initial\n",
    "        grid column to get the closest price at S0.\n",
    "        \"\"\"\n",
    "        return np.interp(self.S0, \n",
    "                         self.boundary_conds,\n",
    "                         self.grid[:, 0])\n",
    "    def price(self):\n",
    "        self._setup_boundary_conditions_()\n",
    "        self._setup_coefficients_()\n",
    "        self._traverse_grid_()\n",
    "        return self._interpolate_()"
   ]
  },
  {
   "attachments": {},
   "cell_type": "markdown",
   "metadata": {},
   "source": [
    "# The explicit method"
   ]
  },
  {
   "cell_type": "code",
   "execution_count": 7,
   "metadata": {},
   "outputs": [],
   "source": [
    "\"\"\" Explicit method of Finite Differences \"\"\"\n",
    "# import numpy as np\n",
    "\n",
    "# from FiniteDifferences import FiniteDifferences\n",
    "\n",
    "class FDExplicitEu(FiniteDifferences):\n",
    "\n",
    "    def _setup_boundary_conditions_(self):\n",
    "        if self.is_call:\n",
    "            self.grid[:, -1] = np.maximum(\n",
    "                self.boundary_conds - self.K, 0)\n",
    "            self.grid[-1, :-1] = (self.Smax - self.K) * \\\n",
    "                                 np.exp(-self.r *\n",
    "                                        self.dt *\n",
    "                                        (self.N-self.j_values))\n",
    "        else:\n",
    "            self.grid[:, -1] = \\\n",
    "                np.maximum(self.K-self.boundary_conds, 0)\n",
    "            self.grid[0, :-1] = (self.K - self.Smax) * \\\n",
    "                               np.exp(-self.r *\n",
    "                                      self.dt *\n",
    "                                      (self.N-self.j_values))\n",
    "\n",
    "    def _setup_coefficients_(self):\n",
    "        self.a = 0.5*self.dt*((self.sigma**2) *\n",
    "                              (self.i_values**2) -\n",
    "                              self.r*self.i_values)\n",
    "        self.b = 1 - self.dt*((self.sigma**2) * \n",
    "                              (self.i_values**2) + \n",
    "                              self.r)\n",
    "        self.c = 0.5*self.dt*((self.sigma**2) * \n",
    "                              (self.i_values**2) + \n",
    "                              self.r*self.i_values)\n",
    "\n",
    "    def _traverse_grid_(self):\n",
    "        for j in reversed(self.j_values):\n",
    "            for i in range(self.M)[2:]:\n",
    "                self.grid[i,j] = self.a[i]*self.grid[i-1,j+1] +\\\n",
    "                                 self.b[i]*self.grid[i,j+1] + \\\n",
    "                                 self.c[i]*self.grid[i+1,j+1] \n"
   ]
  },
  {
   "cell_type": "code",
   "execution_count": 8,
   "metadata": {},
   "outputs": [
    {
     "name": "stdout",
     "output_type": "stream",
     "text": [
      "4.072882278148043\n"
     ]
    }
   ],
   "source": [
    "# from FDExplicitEu import FDExplicitEu\n",
    "option = FDExplicitEu(50, 50, 0.1, 5.0/12.0, 0.4, 100, 100, 1000, False)\n",
    "print(option.price())"
   ]
  },
  {
   "cell_type": "code",
   "execution_count": 9,
   "metadata": {},
   "outputs": [
    {
     "name": "stdout",
     "output_type": "stream",
     "text": [
      "-1.6291077072251005e+53\n"
     ]
    }
   ],
   "source": [
    "# instability problems when m and n are chosen improperly\n",
    "option = FDExplicitEu(50, 50, 0.1, 5.0/12.0, 0.4, 100, 100, 100, False)\n",
    "print(option.price())"
   ]
  },
  {
   "attachments": {},
   "cell_type": "markdown",
   "metadata": {},
   "source": [
    "# The implicit method"
   ]
  },
  {
   "cell_type": "code",
   "execution_count": 10,
   "metadata": {},
   "outputs": [],
   "source": [
    "\"\"\"\n",
    "Price a European option by the implicit method \n",
    "of finite differences. \n",
    "\"\"\"\n",
    "\n",
    "# from FDExplicitEu import FDExplicitEu\n",
    "\n",
    "\n",
    "class FDImplicitEu(FDExplicitEu):\n",
    "\n",
    "    def _setup_coefficients_(self):\n",
    "        self.a = 0.5*(self.r*self.dt*self.i_values -\n",
    "                      (self.sigma**2)*self.dt*(self.i_values**2))\n",
    "        self.b = 1 + \\\n",
    "                 (self.sigma**2)*self.dt*(self.i_values**2) + \\\n",
    "                 self.r*self.dt\n",
    "        self.c = -0.5*(self.r * self.dt*self.i_values +\n",
    "                       (self.sigma**2)*self.dt*(self.i_values**2))\n",
    "        self.coeffs = np.diag(self.a[2:self.M], -1) + \\\n",
    "                      np.diag(self.b[1:self.M]) + \\\n",
    "                      np.diag(self.c[1:self.M-1], 1)\n",
    "\n",
    "    def _traverse_grid_(self):\n",
    "        \"\"\" Solve using linear systems of equations \"\"\"\n",
    "        P, L, U = linalg.lu(self.coeffs)\n",
    "        aux = np.zeros(self.M-1)\n",
    "\n",
    "        for j in reversed(range(self.N)):\n",
    "            aux[0] = np.dot(-self.a[1], self.grid[0, j])\n",
    "            x1 = linalg.solve(L, self.grid[1:self.M, j+1]+aux)\n",
    "            x2 = linalg.solve(U, x1)\n",
    "            self.grid[1:self.M, j] = x2"
   ]
  },
  {
   "cell_type": "code",
   "execution_count": 11,
   "metadata": {},
   "outputs": [
    {
     "name": "stdout",
     "output_type": "stream",
     "text": [
      "4.065801939431454\n",
      "4.071594188049893\n"
     ]
    }
   ],
   "source": [
    "# from FDImplicitEu import FDImplicitEu\n",
    "option = FDImplicitEu(50, 50, 0.1, 5./12., 0.4, 100, 100, 100, False)\n",
    "print(option.price())\n",
    "\n",
    "\n",
    "option = FDImplicitEu(50, 50, 0.1, 5./12., 0.4, 100, 100, 1000, False)\n",
    "print(option.price())"
   ]
  },
  {
   "attachments": {},
   "cell_type": "markdown",
   "metadata": {},
   "source": [
    "# Crank-Nicolson method(semi-implicit)"
   ]
  },
  {
   "cell_type": "code",
   "execution_count": 12,
   "metadata": {},
   "outputs": [],
   "source": [
    "class FDCnEu(FDExplicitEu):\n",
    "\n",
    "    def _setup_coefficients_(self):\n",
    "        self.alpha = 0.25*self.dt*(\n",
    "            (self.sigma**2)*(self.i_values**2) -\n",
    "            self.r*self.i_values)\n",
    "        self.beta = -self.dt*0.5*(\n",
    "            (self.sigma**2)*(self.i_values**2) +\n",
    "            self.r)\n",
    "        self.gamma = 0.25*self.dt*(\n",
    "            (self.sigma**2)*(self.i_values**2) +\n",
    "            self.r*self.i_values)\n",
    "        self.M1 = -np.diag(self.alpha[2:self.M], -1) + \\\n",
    "                  np.diag(1-self.beta[1:self.M]) - \\\n",
    "                  np.diag(self.gamma[1:self.M-1], 1)\n",
    "        self.M2 = np.diag(self.alpha[2:self.M], -1) + \\\n",
    "                  np.diag(1+self.beta[1:self.M]) + \\\n",
    "                  np.diag(self.gamma[1:self.M-1], 1)\n",
    "\n",
    "    def _traverse_grid_(self):\n",
    "        \"\"\" Solve using linear systems of equations \"\"\"\n",
    "        P, L, U = linalg.lu(self.M1)\n",
    "\n",
    "        for j in reversed(range(self.N)):\n",
    "            x1 = linalg.solve(L,\n",
    "                              np.dot(self.M2,\n",
    "                                     self.grid[1:self.M, j+1]))\n",
    "            x2 = linalg.solve(U, x1)\n",
    "            self.grid[1:self.M, j] = x2"
   ]
  },
  {
   "cell_type": "code",
   "execution_count": 15,
   "metadata": {},
   "outputs": [
    {
     "name": "stdout",
     "output_type": "stream",
     "text": [
      "4.072254507998114\n",
      "4.072238354486828\n"
     ]
    }
   ],
   "source": [
    "# from FDImplicitEu import FDImplicitEu\n",
    "option = FDCnEu(50, 50, 0.1, 5./12., 0.4, 100, 100, 100, False)\n",
    "print(option.price())\n",
    "\n",
    "\n",
    "option = FDCnEu(50, 50, 0.1, 5./12., 0.4, 100, 100, 1000, False)\n",
    "print(option.price())"
   ]
  }
 ],
 "metadata": {
  "kernelspec": {
   "display_name": "tf",
   "language": "python",
   "name": "python3"
  },
  "language_info": {
   "codemirror_mode": {
    "name": "ipython",
    "version": 3
   },
   "file_extension": ".py",
   "mimetype": "text/x-python",
   "name": "python",
   "nbconvert_exporter": "python",
   "pygments_lexer": "ipython3",
   "version": "3.9.16"
  },
  "orig_nbformat": 4
 },
 "nbformat": 4,
 "nbformat_minor": 2
}
