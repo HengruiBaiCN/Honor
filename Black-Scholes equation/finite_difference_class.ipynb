{
 "cells": [
  {
   "cell_type": "code",
   "execution_count": 2,
   "metadata": {},
   "outputs": [],
   "source": [
    "'''https://subscription.packtpub.com/book/undefined/9781784394516/4/ch04lvl1sec37/finite-differences-in-options-pricing'''\n",
    "\n",
    "\"\"\" Shared attributes and functions of FD \"\"\"\n",
    "import numpy as np\n",
    "import scipy.linalg as linalg"
   ]
  },
  {
   "attachments": {},
   "cell_type": "markdown",
   "metadata": {},
   "source": [
    "# Discretization\n",
    "In the weekly report, S is discretized by n and t is discretized by m.\n",
    "\n",
    "The discretization below is different, where S is discretized by M and t is discretized by N. In addition, here price $i = 1, 2, 3, \\ldots, M-2, M-1$ and time $j = N-1, N-2, \\ldots, 2, 1, 0$. Consequently, we use backward difference for time t, which is the same as forward difference in the weekly report. \n",
    "\n",
    "In summary:\n",
    "- explicit method use the option price of the previous time step with difference asset price to predict the option price of the current time step.\n",
    "- implicit method use the option price of the next time step and with difference asset price to predict the option price of the current time step.\n",
    "- Crank-Nicolson method taking the average of both explict and implicit method.\n",
    "- semi-implicit uses a different difference method."
   ]
  },
  {
   "attachments": {},
   "cell_type": "markdown",
   "metadata": {},
   "source": [
    "# FiniteDifferences Class\n",
    "- The price method is the public method used for calling the specific finite difference scheme implementation.\n",
    "- assigns all the required parameters in the __init__ constructor method.\n",
    "- _setup_boundary_conditions_: This method sets up the boundary conditions of the grid structure as a NumPy two-dimensional array.\n",
    "- _setup_coefficients_: This method sets up the necessary coefficients used for traversing the grid structure.\n",
    "- _traverse_grid_: This method iterates the grid structure backward in time, storing the calculated values toward the first column of the grid.\n",
    "-  _interpolate_: Using the final calculated values on the first column of the grid, this method will interpolate these values to find the option price that closely infers the initial stock price, S0."
   ]
  },
  {
   "cell_type": "code",
   "execution_count": 8,
   "metadata": {},
   "outputs": [],
   "source": [
    "class FiniteDifferences(object):\n",
    "\n",
    "    def __init__(self, S0, K, r, T, sigma, Smax, M, N,\n",
    "                 is_call=True):\n",
    "        self.S0 = S0\n",
    "        self.K = K\n",
    "        self.r = r\n",
    "        self.T = T\n",
    "        self.sigma = sigma\n",
    "        self.Smax = Smax\n",
    "        self.M, self.N = int(M), int(N)  # Ensure M&N are integers\n",
    "        self.is_call = is_call\n",
    "\n",
    "        self.dS = Smax / float(self.M)\n",
    "        self.dt = T / float(self.N)\n",
    "        self.i_values = np.arange(self.M)\n",
    "        self.j_values = np.arange(self.N)\n",
    "        self.grid = np.zeros(shape=(self.M+1, self.N+1))\n",
    "        self.boundary_conds = np.linspace(0, Smax, self.M+1)\n",
    "\n",
    "    def _setup_boundary_conditions_(self):\n",
    "        pass\n",
    "\n",
    "    def _setup_coefficients_(self):\n",
    "        pass\n",
    "\n",
    "    def _traverse_grid_(self):\n",
    "        \"\"\"  Iterate the grid backwards in time \"\"\"\n",
    "        pass\n",
    "\n",
    "    def _interpolate_(self):\n",
    "        \"\"\"\n",
    "        Use piecewise linear interpolation on the initial\n",
    "        grid column to get the closest price at S0.\n",
    "        \"\"\"\n",
    "        return np.interp(self.S0, \n",
    "                         self.boundary_conds,\n",
    "                         self.grid[:, 0])\n",
    "        \n",
    "    def price(self):\n",
    "        self._setup_boundary_conditions_()\n",
    "        self._setup_coefficients_()\n",
    "        self._traverse_grid_()\n",
    "        return (self._interpolate_(), self.grid)"
   ]
  },
  {
   "attachments": {},
   "cell_type": "markdown",
   "metadata": {},
   "source": [
    "# The explicit method\n",
    "- the backward difference with respect to t\n",
    "- the central difference with respect to S\n",
    "- the second-order difference with respect to S\n",
    "\n",
    "To avoid instability issues, we need to set a reasonable intervals of time t, where $0 < \\Delta t < \\frac{1}{\\sigma^2(M-1) + \\frac{1}{2}r}$."
   ]
  },
  {
   "cell_type": "code",
   "execution_count": 9,
   "metadata": {},
   "outputs": [],
   "source": [
    "\"\"\" Explicit method of Finite Differences \"\"\"\n",
    "# import numpy as np\n",
    "\n",
    "# from FiniteDifferences import FiniteDifferences\n",
    "\n",
    "class FDExplicitEu(FiniteDifferences):\n",
    "\n",
    "    def _setup_boundary_conditions_(self):\n",
    "        if self.is_call:\n",
    "            self.grid[:, -1] = np.maximum(\n",
    "                self.boundary_conds - self.K, 0)\n",
    "            self.grid[-1, :-1] = (self.Smax - self.K) * \\\n",
    "                                 np.exp(-self.r *\n",
    "                                        self.dt *\n",
    "                                        (self.N-self.j_values))\n",
    "        else:\n",
    "            self.grid[:, -1] = \\\n",
    "                np.maximum(self.K-self.boundary_conds, 0)\n",
    "            self.grid[0, :-1] = (self.K - self.Smax) * \\\n",
    "                               np.exp(-self.r *\n",
    "                                      self.dt *\n",
    "                                      (self.N-self.j_values))\n",
    "\n",
    "    def _setup_coefficients_(self):\n",
    "        self.a = 0.5 * self.dt * ((self.sigma**2) *\n",
    "                              (self.i_values**2) -\n",
    "                              self.r*self.i_values)\n",
    "        self.b = 1 - self.dt * ((self.sigma**2) * \n",
    "                              (self.i_values**2) + \n",
    "                              self.r)\n",
    "        self.c = 0.5 * self.dt * ((self.sigma**2) * \n",
    "                              (self.i_values**2) + \n",
    "                              self.r*self.i_values)\n",
    "\n",
    "    def _traverse_grid_(self):\n",
    "        for j in reversed(self.j_values):\n",
    "            for i in range(self.M)[2:]:\n",
    "                self.grid[i,j] = self.a[i] * self.grid[i-1,j+1] +\\\n",
    "                                 self.b[i] * self.grid[i,j+1] + \\\n",
    "                                 self.c[i] * self.grid[i+1,j+1] \n"
   ]
  },
  {
   "cell_type": "code",
   "execution_count": 8,
   "metadata": {},
   "outputs": [
    {
     "name": "stdout",
     "output_type": "stream",
     "text": [
      "4.072882278148043\n"
     ]
    }
   ],
   "source": [
    "# from FDExplicitEu import FDExplicitEu\n",
    "option = FDExplicitEu(50, 50, 0.1, 5.0/12.0, 0.4, 100, 100, 1000, False)\n",
    "print(option.price())"
   ]
  },
  {
   "cell_type": "code",
   "execution_count": null,
   "metadata": {},
   "outputs": [],
   "source": [
    "# instability problems when m and n are chosen improperly\n",
    "option = FDExplicitEu(50, 50, 0.1, 5.0/12.0, 0.4, 100, 100, 100, False)\n",
    "print(option.price())"
   ]
  },
  {
   "cell_type": "code",
   "execution_count": 9,
   "metadata": {},
   "outputs": [
    {
     "name": "stdout",
     "output_type": "stream",
     "text": [
      "-1.6291077072251005e+53\n"
     ]
    }
   ],
   "source": [
    "# instability problems when m and n are chosen improperly\n",
    "option = FDExplicitEu(50, 50, 0.1, 5.0/12.0, 0.4, 100, 100, 100, False)\n",
    "print(option.price())"
   ]
  },
  {
   "cell_type": "code",
   "execution_count": 14,
   "metadata": {},
   "outputs": [
    {
     "name": "stdout",
     "output_type": "stream",
     "text": [
      "[24.88109417 24.88564968 24.89020621 ... 29.99216694 29.99791667\n",
      " 30.        ]\n"
     ]
    }
   ],
   "source": [
    "option = FDExplicitEu(50, 50, 0.1, 5.0/12.0, 0.4, 100, 10, 1000, False)\n",
    "print(option.price()[1][2])"
   ]
  },
  {
   "attachments": {},
   "cell_type": "markdown",
   "metadata": {},
   "source": [
    "# The implicit method\n",
    "The instability problem of the explicit method can be overcome using the forward difference with respect to time:\n",
    "- the forward difference with respect to t.\n",
    "- the central difference with respect to S.\n",
    "- the second-order difference with respect to S."
   ]
  },
  {
   "cell_type": "code",
   "execution_count": 10,
   "metadata": {},
   "outputs": [],
   "source": [
    "\"\"\"\n",
    "Price a European option by the implicit method \n",
    "of finite differences. \n",
    "\"\"\"\n",
    "\n",
    "# from FDExplicitEu import FDExplicitEu\n",
    "\n",
    "\n",
    "class FDImplicitEu(FDExplicitEu):\n",
    "\n",
    "    def _setup_coefficients_(self):\n",
    "        self.a = 0.5*(self.r*self.dt*self.i_values -\n",
    "                      (self.sigma**2)*self.dt*(self.i_values**2))\n",
    "        self.b = 1 + \\\n",
    "                 (self.sigma**2)*self.dt*(self.i_values**2) + \\\n",
    "                 self.r*self.dt\n",
    "        self.c = -0.5*(self.r * self.dt*self.i_values +\n",
    "                       (self.sigma**2)*self.dt*(self.i_values**2))\n",
    "        self.coeffs = np.diag(self.a[2:self.M], -1) + \\\n",
    "                      np.diag(self.b[1:self.M]) + \\\n",
    "                      np.diag(self.c[1:self.M-1], 1)\n",
    "\n",
    "    def _traverse_grid_(self):\n",
    "        \"\"\" Solve using linear systems of equations \"\"\"\n",
    "        P, L, U = linalg.lu(self.coeffs)\n",
    "        aux = np.zeros(self.M-1)\n",
    "\n",
    "        for j in reversed(range(self.N)):\n",
    "            aux[0] = np.dot(-self.a[1], self.grid[0, j])\n",
    "            x1 = linalg.solve(L, self.grid[1:self.M, j+1] + aux)\n",
    "            x2 = linalg.solve(U, x1)\n",
    "            self.grid[1 : self.M, j] = x2"
   ]
  },
  {
   "cell_type": "code",
   "execution_count": 11,
   "metadata": {},
   "outputs": [
    {
     "name": "stdout",
     "output_type": "stream",
     "text": [
      "4.065801939431454\n",
      "4.071594188049893\n"
     ]
    }
   ],
   "source": [
    "# from FDImplicitEu import FDImplicitEu\n",
    "option = FDImplicitEu(50, 50, 0.1, 5./12., 0.4, 100, 100, 100, False)\n",
    "# print(option.price())\n",
    "\n",
    "option = FDImplicitEu(50, 50, 0.1, 5./12., 0.4, 100, 100, 1000, False)\n",
    "# print(option.price())"
   ]
  },
  {
   "attachments": {},
   "cell_type": "markdown",
   "metadata": {},
   "source": [
    "# Crank-Nicolson method\n",
    "- The Crank-Nicolson method converges much more quickly using a combination of the explicit and implicit methods, taking the average of both. \n",
    "- The Python implementation of the Crank-Nicolson method is given in the following FDCnEu class, which inherits from the FDExplicitEu class and overrides only the _setup_coefficients_ and _traverse_grid_ methods. Save this file as FDCnEu.py:"
   ]
  },
  {
   "cell_type": "code",
   "execution_count": 12,
   "metadata": {},
   "outputs": [],
   "source": [
    "class FDCnEu(FDExplicitEu):\n",
    "\n",
    "    def _setup_coefficients_(self):\n",
    "        self.alpha = 0.25*self.dt*(\n",
    "            (self.sigma**2)*(self.i_values**2) -\n",
    "            self.r*self.i_values)\n",
    "        self.beta = -self.dt*0.5*(\n",
    "            (self.sigma**2)*(self.i_values**2) +\n",
    "            self.r)\n",
    "        self.gamma = 0.25*self.dt*(\n",
    "            (self.sigma**2)*(self.i_values**2) +\n",
    "            self.r*self.i_values)\n",
    "        self.M1 = -np.diag(self.alpha[2:self.M], -1) + \\\n",
    "                  np.diag(1-self.beta[1:self.M]) - \\\n",
    "                  np.diag(self.gamma[1:self.M-1], 1)\n",
    "        self.M2 = np.diag(self.alpha[2:self.M], -1) + \\\n",
    "                  np.diag(1+self.beta[1:self.M]) + \\\n",
    "                  np.diag(self.gamma[1:self.M-1], 1)\n",
    "\n",
    "    def _traverse_grid_(self):\n",
    "        \"\"\" Solve using linear systems of equations \"\"\"\n",
    "        P, L, U = linalg.lu(self.M1)\n",
    "\n",
    "        for j in reversed(range(self.N)):\n",
    "            x1 = linalg.solve(L,\n",
    "                              np.dot(self.M2,\n",
    "                                     self.grid[1:self.M, j+1]))\n",
    "            x2 = linalg.solve(U, x1)\n",
    "            self.grid[1:self.M, j] = x2"
   ]
  },
  {
   "cell_type": "code",
   "execution_count": 15,
   "metadata": {},
   "outputs": [
    {
     "name": "stdout",
     "output_type": "stream",
     "text": [
      "4.072254507998114\n",
      "4.072238354486828\n"
     ]
    }
   ],
   "source": [
    "# from FDImplicitEu import FDImplicitEu\n",
    "option = FDCnEu(50, 50, 0.1, 5./12., 0.4, 100, 100, 100, False)\n",
    "print(option.price())\n",
    "\n",
    "\n",
    "option = FDCnEu(50, 50, 0.1, 5./12., 0.4, 100, 100, 1000, False)\n",
    "print(option.price())"
   ]
  },
  {
   "attachments": {},
   "cell_type": "markdown",
   "metadata": {},
   "source": [
    "# Semi-implicit method\n",
    "- a backward difference approximation for the time derivative.\n",
    "- forward difference approximation for the first order S derivative\n",
    "- a symmetric central difference approximation for the second order S derivative"
   ]
  },
  {
   "cell_type": "code",
   "execution_count": null,
   "metadata": {},
   "outputs": [],
   "source": [
    "class FDImplicitEu(FDExplicitEu):\n",
    "\n",
    "    def _setup_coefficients_(self):\n",
    "        self.a = 0.5*(self.r*self.dt*self.i_values -\n",
    "                      (self.sigma**2)*self.dt*(self.i_values**2))\n",
    "        self.b = 1 + \\\n",
    "                 (self.sigma**2)*self.dt*(self.i_values**2) + \\\n",
    "                 self.r*self.dt\n",
    "        self.c = -0.5*(self.r * self.dt*self.i_values +\n",
    "                       (self.sigma**2)*self.dt*(self.i_values**2))\n",
    "        self.coeffs = np.diag(self.a[2:self.M], -1) + \\\n",
    "                      np.diag(self.b[1:self.M]) + \\\n",
    "                      np.diag(self.c[1:self.M-1], 1)\n",
    "\n",
    "    def _traverse_grid_(self):\n",
    "        \"\"\" Solve using linear systems of equations \"\"\"\n",
    "        P, L, U = linalg.lu(self.coeffs)\n",
    "        aux = np.zeros(self.M-1)\n",
    "\n",
    "        for j in reversed(range(self.N)):\n",
    "            aux[0] = np.dot(-self.a[1], self.grid[0, j])\n",
    "            x1 = linalg.solve(L, self.grid[1:self.M, j+1]+aux)\n",
    "            x2 = linalg.solve(U, x1)\n",
    "            self.grid[1:self.M, j] = x2"
   ]
  }
 ],
 "metadata": {
  "kernelspec": {
   "display_name": "tf",
   "language": "python",
   "name": "python3"
  },
  "language_info": {
   "codemirror_mode": {
    "name": "ipython",
    "version": 3
   },
   "file_extension": ".py",
   "mimetype": "text/x-python",
   "name": "python",
   "nbconvert_exporter": "python",
   "pygments_lexer": "ipython3",
   "version": "3.9.16"
  },
  "orig_nbformat": 4
 },
 "nbformat": 4,
 "nbformat_minor": 2
}
