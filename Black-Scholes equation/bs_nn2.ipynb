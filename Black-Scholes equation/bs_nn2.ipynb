{
 "cells": [
  {
   "cell_type": "code",
   "execution_count": 1,
   "metadata": {},
   "outputs": [
    {
     "name": "stdout",
     "output_type": "stream",
     "text": [
      "importing Jupyter notebook from finite_difference_class.ipynb\n",
      "4.072882278148043\n",
      "-1.6291077072251005e+53\n",
      "4.072254507998114\n",
      "4.072238354486828\n"
     ]
    }
   ],
   "source": [
    "# Commented out IPython magic to ensure Python compatibility.\n",
    "# %%capture\n",
    "# Copyright: Adams, G., 2020. Black-Scholes and Neural Networks.\n",
    "#\n",
    "import numpy as np\n",
    "import pandas as pd\n",
    "import matplotlib.pyplot as plt\n",
    "import scipy.io as sio\n",
    "import keras\n",
    "import keras.backend as K\n",
    "\n",
    "from sklearn.model_selection import ParameterGrid\n",
    "from py_vollib import black_scholes_merton as bsm\n",
    "from progressbar import ProgressBar\n",
    "from scipy.stats import gamma\n",
    "from scipy.stats import beta\n",
    "from scipy.stats import uniform\n",
    "from keras.models import Model\n",
    "from keras.layers import Input, Dense\n",
    "from sklearn.model_selection import train_test_split\n",
    "\n",
    "import scipy.sparse\n",
    "from mpl_toolkits.mplot3d import Axes3D\n",
    "\n",
    "import import_ipynb\n",
    "\n",
    "from finite_difference_class import FDExplicitEu, FDImplicitEu, FDCnEu"
   ]
  },
  {
   "attachments": {},
   "cell_type": "markdown",
   "metadata": {},
   "source": [
    "# Random data generation function\n",
    "- Spot prices were simulated using a gamma distribution roughly centered at 100. \n",
    "- Strike prices were distributed uniformly from 50 to 200. \n",
    "- Both the risk-free and dividend rates had the same uniform distribution form 0.01 to 0.18. \n",
    "- Time-to-maturity took only four values (each value expressed in years (0.25 = 3 months). \n",
    "- Volatility was simulated with a beta distribution with 0.001 added on. We added 0.001 to the simulated σ values in order to avoid having “zero” variance, an impossibility."
   ]
  },
  {
   "cell_type": "code",
   "execution_count": 3,
   "metadata": {},
   "outputs": [],
   "source": [
    "# S (spot price)\n",
    "# gamma\n",
    "def thisS(q):\n",
    "    return gamma.ppf(q, a = 100, scale = 1)\n",
    "\n",
    "# K (strike price)\n",
    "# uniform (lower = 50, upper = 200)\n",
    "def thisK(q):\n",
    "    return uniform.ppf(q, 50, 200)\n",
    "\n",
    "# (interest rate)\n",
    "# uniform (lower = 0.01, upper = 0.18)\n",
    "def thisR(q):\n",
    "    return uniform.ppf(q, 0.01, 0.18)\n",
    "\n",
    "\n",
    "# D (dividend)\n",
    "# uniform (lower = 0.01, upper = 0.18)\n",
    "def thisD(q):\n",
    "    return 0\n",
    "    # return uniform.ppf(q, 0.01, 0.18)\n",
    "\n",
    "# t (time-to-maturity)\n",
    "# t will be 3, 6, 9, 12 months for all examples (0.25, 0.5, 0.75, 1 year)\n",
    "\n",
    "# sigma (volatility)\n",
    "# beta (add small amount so volatility cannot be zero)\n",
    "def thisSigma(q):\n",
    "    return (beta.ppf(q, a = 2, b = 5) + 0.001)"
   ]
  },
  {
   "attachments": {},
   "cell_type": "markdown",
   "metadata": {},
   "source": [
    "# Full DataSet\n",
    "A “as complete as possible” simulated dataset with almost a million observations. Due to constraints on computational resources, this was as a big a dataset we could simulate under reasonable circumstances."
   ]
  },
  {
   "cell_type": "code",
   "execution_count": 10,
   "metadata": {},
   "outputs": [
    {
     "name": "stdout",
     "output_type": "stream",
     "text": [
      "0     0.010000\n",
      "1     0.099091\n",
      "2     0.188182\n",
      "3     0.277273\n",
      "4     0.366364\n",
      "5     0.455455\n",
      "6     0.544545\n",
      "7     0.633636\n",
      "8     0.722727\n",
      "9     0.811818\n",
      "10    0.900909\n",
      "11    0.990000\n",
      "dtype: float64\n"
     ]
    }
   ],
   "source": [
    "num_increment = 12\n",
    "percentiles = pd.Series(np.linspace(0.01, 0.99, num_increment))\n",
    "print(percentiles)"
   ]
  },
  {
   "cell_type": "code",
   "execution_count": 11,
   "metadata": {},
   "outputs": [],
   "source": [
    "S = percentiles.apply(thisS).to_numpy()\n",
    "# print(S)\n",
    "K = percentiles.apply(thisK).to_numpy()\n",
    "q = percentiles.apply(thisD).to_numpy()\n",
    "t = np.array([.25, .5, .75, 1])\n",
    "r = percentiles.apply(thisR).to_numpy()\n",
    "sigma = percentiles.apply(thisSigma).to_numpy()\n",
    "\n",
    "param_grid = {'S': S, 'K': K, 'q': q, 't': t, 'r': r, 'sigma': sigma}\n",
    "grid = ParameterGrid(param_grid)\n",
    "# print(grid)\n",
    "# print(param_grid)"
   ]
  },
  {
   "cell_type": "code",
   "execution_count": 12,
   "metadata": {},
   "outputs": [
    {
     "name": "stderr",
     "output_type": "stream",
     "text": [
      "100% |########################################################################|\n"
     ]
    }
   ],
   "source": [
    "pbar = ProgressBar()\n",
    "fullDF = pd.DataFrame()\n",
    "prices = []\n",
    "fdmprices= []\n",
    "tmp = []\n",
    "for params in pbar(grid):\n",
    "    prices.append(bsm.black_scholes_merton(flag = 'p', S = params['S'], K = params['K'], q = params['q'], t = params['t'], r = params['r'], sigma = params['sigma']))\n",
    "    \n",
    "    # option = FDImplicitEu(S0 = params['S'], K = params['K'], r = params['r'], T = params['t'], sigma = params['sigma'], Smax = int(5*params[\"K\"]), M = 100, N = 100, is_call=False)\n",
    "    # fdmprices.append(option.price())\n",
    "    tmp.append(pd.Series(params).to_frame().T)\n",
    "    # fullDF = fullDF.append(pd.Series(params), ignore_index = True)\n",
    "    pass\n",
    "fullDF = pd.concat(tmp, ignore_index=True) # type: ignore"
   ]
  },
  {
   "cell_type": "code",
   "execution_count": 13,
   "metadata": {},
   "outputs": [
    {
     "name": "stdout",
     "output_type": "stream",
     "text": [
      "      K          S    q       r     sigma     t          price\n",
      "0  52.0  78.215983  0.0  0.0118  0.027763  0.25  1.210258e-194\n",
      "1  52.0  78.215983  0.0  0.0118  0.027763  0.50  2.595718e-100\n",
      "2  52.0  78.215983  0.0  0.0118  0.027763  0.75   9.113920e-69\n",
      "3  52.0  78.215983  0.0  0.0118  0.027763  1.00   6.009819e-53\n",
      "4  52.0  78.215983  0.0  0.0118  0.093112  0.25   1.684090e-19\n",
      "            K           S    q       r     sigma     t       price\n",
      "995323  248.0  124.722561  0.0  0.1882  0.512352  1.00   87.761847\n",
      "995324  248.0  124.722561  0.0  0.1882  0.706686  0.25  112.709815\n",
      "995325  248.0  124.722561  0.0  0.1882  0.706686  0.50  105.733883\n",
      "995326  248.0  124.722561  0.0  0.1882  0.706686  0.75  100.556324\n",
      "995327  248.0  124.722561  0.0  0.1882  0.706686  1.00   96.170059\n"
     ]
    }
   ],
   "source": [
    "# swap price to first column\n",
    "fullDF['price'] = prices\n",
    "# fullDF['fdm-price'] = fdmprices\n",
    "\n",
    "# output to csv\n",
    "fullDF.to_csv('dataFull.csv', index = False)\n",
    "print(fullDF.head())\n",
    "print(fullDF.tail())"
   ]
  },
  {
   "attachments": {},
   "cell_type": "markdown",
   "metadata": {},
   "source": [
    "# Sparse DataSet\n",
    "A “sparse” version of the full dataset. This set covered the same ranges for each of the parameters, but simply had fewer observations for each. This dataset ended up having 12,500 observations."
   ]
  },
  {
   "cell_type": "code",
   "execution_count": 4,
   "metadata": {},
   "outputs": [],
   "source": [
    "num_increment = 5\n",
    "percentiles = pd.Series(np.linspace(0.01, 0.99, num_increment))"
   ]
  },
  {
   "cell_type": "code",
   "execution_count": 4,
   "metadata": {},
   "outputs": [],
   "source": [
    "S = percentiles.apply(thisS).to_numpy()\n",
    "K = percentiles.apply(thisK).to_numpy()\n",
    "q = percentiles.apply(thisD).to_numpy()\n",
    "t = np.array([0.25, 0.5, 0.75, 1])\n",
    "r = percentiles.apply(thisR).to_numpy()\n",
    "sigma = percentiles.apply(thisSigma).to_numpy()\n",
    "\n",
    "param_grid = {'S': S, 'K' : K, 'q' : q, 't' : t, 'r' : r, 'sigma' : sigma}\n",
    "grid = ParameterGrid(param_grid)"
   ]
  },
  {
   "cell_type": "code",
   "execution_count": 10,
   "metadata": {},
   "outputs": [
    {
     "name": "stderr",
     "output_type": "stream",
     "text": [
      "100% |########################################################################|\n"
     ]
    }
   ],
   "source": [
    "pbar = ProgressBar()\n",
    "sparseDF = pd.DataFrame()\n",
    "prices = []\n",
    "fdmprices= []\n",
    "tmp = []\n",
    "for params in pbar(grid):\n",
    "    prices.append(bsm.black_scholes_merton(flag = 'p', S = params['S'], K = params['K'], q = params['q'], t = params['t'],r = params['r'], sigma = params['sigma']))\n",
    "    \n",
    "    option = FDExplicitEu(S0 = params['S'], K = params['K'], r = params['r'], T = params['t'], sigma = params['sigma'], Smax = int(5*params[\"K\"]), M = 10, N = 1000, is_call=False)\n",
    "    fdmprices.append(option.price())\n",
    "    tmp.append(pd.Series(params).to_frame().T)\n",
    "    # sparseDF = sparseDF.append(pd.Series(params), ignore_index = True)\n",
    "    pass\n",
    "# print(len(prices))\n",
    "# print(len(tmp))\n",
    "# print(tmp)\n",
    "sparseDF = pd.concat(tmp, ignore_index=True) # type: ignore\n",
    "# print(len(sparseDF))"
   ]
  },
  {
   "cell_type": "code",
   "execution_count": 17,
   "metadata": {},
   "outputs": [
    {
     "name": "stdout",
     "output_type": "stream",
     "text": [
      "      K          S    q       r     sigma     t          price     fdm-price\n",
      "0  52.0  78.215983  0.0  0.0118  0.027763  0.25  1.210258e-194  4.762734e-26\n",
      "1  52.0  78.215983  0.0  0.0118  0.027763  0.50  2.595718e-100  8.553145e-23\n",
      "2  52.0  78.215983  0.0  0.0118  0.027763  0.75   9.113920e-69  6.492417e-21\n",
      "3  52.0  78.215983  0.0  0.0118  0.027763  1.00   6.009819e-53  1.350024e-19\n",
      "4  52.0  78.215983  0.0  0.0118  0.164249  0.25   2.693530e-07  5.890810e-06\n",
      "           K           S    q       r     sigma     t       price   fdm-price\n",
      "12495  248.0  124.722561  0.0  0.1882  0.387418  1.00   83.589686   83.704518\n",
      "12496  248.0  124.722561  0.0  0.1882  0.706686  0.25  112.709815  112.748824\n",
      "12497  248.0  124.722561  0.0  0.1882  0.706686  0.50  105.733883  105.766608\n",
      "12498  248.0  124.722561  0.0  0.1882  0.706686  0.75  100.556324  100.540536\n",
      "12499  248.0  124.722561  0.0  0.1882  0.706686  1.00   96.170059   96.014092\n"
     ]
    }
   ],
   "source": [
    "# swap price to first column\n",
    "sparseDF['price'] = prices\n",
    "sparseDF['fdm-price'] = fdmprices\n",
    "\n",
    "# output to csv\n",
    "sparseDF.to_csv('dataSparse.csv', index = False)\n",
    "print(sparseDF.head())\n",
    "print(sparseDF.tail())"
   ]
  },
  {
   "attachments": {},
   "cell_type": "markdown",
   "metadata": {},
   "source": [
    "# Extreme DataSet\n",
    "A “extremes” dataset was similar to the full dataset. The only difference was that the spot prices, instead of being generated from the gamma distribution mentioned above, were instead distributed uniformly from 90 to 110. The purpose of this dataset is to test whether the neural network can generalize from this set of limited data to more “extreme” situations. This set also had almost a million observations. "
   ]
  },
  {
   "cell_type": "code",
   "execution_count": 18,
   "metadata": {},
   "outputs": [
    {
     "name": "stdout",
     "output_type": "stream",
     "text": [
      "0     0.010000\n",
      "1     0.099091\n",
      "2     0.188182\n",
      "3     0.277273\n",
      "4     0.366364\n",
      "5     0.455455\n",
      "6     0.544545\n",
      "7     0.633636\n",
      "8     0.722727\n",
      "9     0.811818\n",
      "10    0.900909\n",
      "11    0.990000\n",
      "dtype: float64\n"
     ]
    }
   ],
   "source": [
    "num_increment = 12\n",
    "percentiles = pd.Series(np.linspace(0.01, 0.99, num_increment))\n",
    "print(percentiles)"
   ]
  },
  {
   "cell_type": "code",
   "execution_count": 19,
   "metadata": {},
   "outputs": [
    {
     "name": "stderr",
     "output_type": "stream",
     "text": [
      "100% |########################################################################|\n"
     ]
    }
   ],
   "source": [
    "def this_extremes_S (q):\n",
    "    return uniform.ppf(q, 90, 110)\n",
    "S = percentiles.apply(this_extremes_S).to_numpy()\n",
    "K = percentiles.apply(thisK).to_numpy()\n",
    "q = percentiles.apply(thisD).to_numpy()\n",
    "t = np.array([.25, .5, .75, 1])\n",
    "r = percentiles.apply(thisR).to_numpy()\n",
    "sigma = percentiles.apply(thisSigma).to_numpy()\n",
    "\n",
    "param_grid = {'S': S, 'K' : K, 'q' : q, 't' : t, 'r' : r, 'sigma' : sigma}\n",
    "grid = ParameterGrid(param_grid)\n",
    "\n",
    "pbar = ProgressBar()\n",
    "extremesDF = pd.DataFrame()\n",
    "prices = []\n",
    "fdmprices= []\n",
    "tmp = []\n",
    "for params in pbar(grid):\n",
    "    prices.append(bsm.black_scholes_merton(flag = 'p', S = params['S'], K = params['K'], q = params['q'], t = params['t'],r = params['r'], sigma = params['sigma']))\n",
    "    # option = FDImplicitEu(S0 = params['S'], K = params['K'], r = params['r'], T = params['t'], sigma = params['sigma'], Smax = int(5*params[\"K\"]), M = 100, N = 100, is_call=False)\n",
    "    # fdmprices.append(option.price())\n",
    "    tmp.append(pd.Series(params).to_frame().T)\n",
    "    pass\n",
    "extremesDF = pd.concat(tmp, ignore_index=True)"
   ]
  },
  {
   "cell_type": "code",
   "execution_count": 20,
   "metadata": {},
   "outputs": [
    {
     "name": "stdout",
     "output_type": "stream",
     "text": [
      "      K     S    q       r     sigma     t          price\n",
      "0  52.0  91.1  0.0  0.0118  0.027763  0.25   0.000000e+00\n",
      "1  52.0  91.1  0.0  0.0118  0.027763  0.50  8.236022e-185\n",
      "2  52.0  91.1  0.0  0.0118  0.027763  0.75  1.630844e-125\n",
      "3  52.0  91.1  0.0  0.0118  0.027763  1.00   8.096218e-96\n",
      "4  52.0  91.1  0.0  0.0118  0.093112  0.25   1.260235e-34\n",
      "            K      S    q       r     sigma     t      price\n",
      "995323  248.0  198.9  0.0  0.1882  0.512352  1.00  44.235068\n",
      "995324  248.0  198.9  0.0  0.1882  0.706686  0.25  52.950435\n",
      "995325  248.0  198.9  0.0  0.1882  0.706686  0.50  56.608722\n",
      "995326  248.0  198.9  0.0  0.1882  0.706686  0.75  58.425508\n",
      "995327  248.0  198.9  0.0  0.1882  0.706686  1.00  59.169202\n"
     ]
    }
   ],
   "source": [
    "# swap price to first column\n",
    "extremesDF['price'] = prices\n",
    "# extremesDF['fdm-price'] = fdmprices\n",
    "\n",
    "# output to csv\n",
    "extremesDF.to_csv('dataExtremes.csv', index = True)\n",
    "print(extremesDF.head())\n",
    "print(extremesDF.tail())\n"
   ]
  },
  {
   "attachments": {},
   "cell_type": "markdown",
   "metadata": {},
   "source": [
    "# Neural Network \n",
    "- Architecture:\n",
    "  - Each neural network consists of an input layer, two hidden layers, and an output layer.\n",
    "  - The input layer has six nodes (one for each input parameter). \n",
    "  - The hidden layers have ten nodes each. \n",
    "  - The output layer has one node (for the predicted price).\n",
    "  - The activation function used in throughout is the rectified linear unit.\n",
    "\n",
    "- Data split/preparation\n",
    "  - 10% of each dataset is randomly selected and set aside to test the neural networks after training. \n",
    "  - The remaining 90% goes on the the training process. \n",
    "  - Of the remaining 90%, 80% is actively used in the training process. The other 20% is used for validation.\n",
    "\n",
    "- Other parameters\n",
    "  - The batch size is set to 64. This means that the training will essentially averaged over groups of 64 observations\n",
    "  - The number of epochs is set to 20, which means training will go over the entire dataset 20 times before finishing."
   ]
  },
  {
   "cell_type": "code",
   "execution_count": 21,
   "metadata": {},
   "outputs": [
    {
     "name": "stdout",
     "output_type": "stream",
     "text": [
      "Epoch 1/20\n",
      "11198/11198 - 15s - loss: 41.8853 - val_loss: 21.2543 - 15s/epoch - 1ms/step\n",
      "Epoch 2/20\n",
      "11198/11198 - 13s - loss: 14.7392 - val_loss: 11.1079 - 13s/epoch - 1ms/step\n",
      "Epoch 3/20\n",
      "11198/11198 - 12s - loss: 9.6016 - val_loss: 8.1151 - 12s/epoch - 1ms/step\n",
      "Epoch 4/20\n",
      "11198/11198 - 12s - loss: 8.0502 - val_loss: 7.4132 - 12s/epoch - 1ms/step\n",
      "Epoch 5/20\n",
      "11198/11198 - 12s - loss: 7.8261 - val_loss: 8.2399 - 12s/epoch - 1ms/step\n",
      "Epoch 6/20\n",
      "11198/11198 - 12s - loss: 7.7017 - val_loss: 7.5624 - 12s/epoch - 1ms/step\n",
      "Epoch 7/20\n",
      "11198/11198 - 13s - loss: 7.6315 - val_loss: 7.9181 - 13s/epoch - 1ms/step\n",
      "Epoch 8/20\n",
      "11198/11198 - 12s - loss: 7.5482 - val_loss: 7.2836 - 12s/epoch - 1ms/step\n",
      "Epoch 9/20\n",
      "11198/11198 - 13s - loss: 7.4793 - val_loss: 7.0656 - 13s/epoch - 1ms/step\n",
      "Epoch 10/20\n",
      "11198/11198 - 13s - loss: 7.4809 - val_loss: 7.5354 - 13s/epoch - 1ms/step\n",
      "Epoch 11/20\n",
      "11198/11198 - 12s - loss: 7.4169 - val_loss: 7.2360 - 12s/epoch - 1ms/step\n",
      "Epoch 12/20\n",
      "11198/11198 - 12s - loss: 7.4205 - val_loss: 7.7966 - 12s/epoch - 1ms/step\n",
      "Epoch 13/20\n",
      "11198/11198 - 12s - loss: 7.3882 - val_loss: 6.9620 - 12s/epoch - 1ms/step\n",
      "Epoch 14/20\n",
      "11198/11198 - 13s - loss: 7.3611 - val_loss: 7.3272 - 13s/epoch - 1ms/step\n",
      "Epoch 15/20\n",
      "11198/11198 - 13s - loss: 7.3329 - val_loss: 7.0295 - 13s/epoch - 1ms/step\n",
      "Epoch 16/20\n",
      "11198/11198 - 12s - loss: 7.3189 - val_loss: 6.9332 - 12s/epoch - 1ms/step\n",
      "Epoch 17/20\n",
      "11198/11198 - 12s - loss: 7.2902 - val_loss: 11.0318 - 12s/epoch - 1ms/step\n",
      "Epoch 18/20\n",
      "11198/11198 - 13s - loss: 7.2704 - val_loss: 7.0204 - 13s/epoch - 1ms/step\n",
      "Epoch 19/20\n",
      "11198/11198 - 12s - loss: 7.2326 - val_loss: 6.9178 - 12s/epoch - 1ms/step\n",
      "Epoch 20/20\n",
      "11198/11198 - 12s - loss: 7.2019 - val_loss: 6.8071 - 12s/epoch - 1ms/step\n"
     ]
    },
    {
     "data": {
      "image/png": "[encoded data removed]",
      "text/plain": [
       "<Figure size 640x480 with 1 Axes>"
      ]
     },
     "metadata": {},
     "output_type": "display_data"
    },
    {
     "name": "stdout",
     "output_type": "stream",
     "text": [
      "3111/3111 [==============================] - 2s 755us/step - loss: 6.8332\n"
     ]
    },
    {
     "data": {
      "text/plain": [
       "6.83320426940918"
      ]
     },
     "execution_count": 21,
     "metadata": {},
     "output_type": "execute_result"
    }
   ],
   "source": [
    "# testing neural network (full data)\n",
    "fullDF = pd.read_csv(\"dataFull.csv\")\n",
    "\n",
    "# create model \n",
    "def baseline_model():\n",
    "    # layers\n",
    "    i = Input(shape=(6,))\n",
    "    x = Dense(10, activation='relu')(i)\n",
    "    y = Dense(10, activation='relu')(x)\n",
    "    o = Dense(1)(y)\n",
    "    model = Model(i, o)\n",
    "    model.compile(loss=\"mse\", optimizer= \"adam\")\n",
    "    return model\n",
    "\n",
    "model_full = baseline_model()\n",
    "X = fullDF[['S','K','q','r','sigma','t']]\n",
    "y = fullDF[['price']]\n",
    "# z = fullDF[['fdm-price']]\n",
    "\n",
    "X_train, X_test, y_train, y_test = train_test_split(X, y, test_size=0.1, random_state = 7)\n",
    "history_full = model_full.fit(X_train, y_train, batch_size = 64, epochs = 20, verbose = 2, validation_split=0.2) # set batch size to 1\n",
    "\n",
    "plt.plot(history_full.history['val_loss'])\n",
    "plt.title('Model validation loss')\n",
    "plt.ylabel('Validation Loss')\n",
    "plt.xlabel('Epoch')\n",
    "plt.legend(['Error', 'Test'], loc='upper left')\n",
    "plt.show()\n",
    "X_test_full = X_test\n",
    "y_test_full = y_test\n",
    "model_full.evaluate(x=X_test, y=y_test)"
   ]
  },
  {
   "cell_type": "code",
   "execution_count": 22,
   "metadata": {},
   "outputs": [
    {
     "name": "stdout",
     "output_type": "stream",
     "text": [
      "Epoch 1/20\n",
      "141/141 - 0s - loss: 3439.3884 - val_loss: 639.5121 - 359ms/epoch - 3ms/step\n",
      "Epoch 2/20\n",
      "141/141 - 0s - loss: 312.1799 - val_loss: 163.2287 - 177ms/epoch - 1ms/step\n",
      "Epoch 3/20\n",
      "141/141 - 0s - loss: 109.5705 - val_loss: 77.4657 - 182ms/epoch - 1ms/step\n",
      "Epoch 4/20\n",
      "141/141 - 0s - loss: 69.4068 - val_loss: 61.9019 - 173ms/epoch - 1ms/step\n",
      "Epoch 5/20\n",
      "141/141 - 0s - loss: 62.8289 - val_loss: 60.1387 - 176ms/epoch - 1ms/step\n",
      "Epoch 6/20\n",
      "141/141 - 0s - loss: 62.0624 - val_loss: 58.7483 - 204ms/epoch - 1ms/step\n",
      "Epoch 7/20\n",
      "141/141 - 0s - loss: 61.2610 - val_loss: 58.3517 - 198ms/epoch - 1ms/step\n",
      "Epoch 8/20\n",
      "141/141 - 0s - loss: 60.8065 - val_loss: 57.7477 - 187ms/epoch - 1ms/step\n",
      "Epoch 9/20\n",
      "141/141 - 0s - loss: 60.5368 - val_loss: 57.1686 - 185ms/epoch - 1ms/step\n",
      "Epoch 10/20\n",
      "141/141 - 0s - loss: 59.9356 - val_loss: 56.8883 - 194ms/epoch - 1ms/step\n",
      "Epoch 11/20\n",
      "141/141 - 0s - loss: 58.9907 - val_loss: 56.0795 - 193ms/epoch - 1ms/step\n",
      "Epoch 12/20\n",
      "141/141 - 0s - loss: 58.3462 - val_loss: 55.4895 - 223ms/epoch - 2ms/step\n",
      "Epoch 13/20\n",
      "141/141 - 0s - loss: 57.9538 - val_loss: 58.0712 - 213ms/epoch - 2ms/step\n",
      "Epoch 14/20\n",
      "141/141 - 0s - loss: 58.0284 - val_loss: 56.1180 - 167ms/epoch - 1ms/step\n",
      "Epoch 15/20\n",
      "141/141 - 0s - loss: 56.8660 - val_loss: 53.9302 - 161ms/epoch - 1ms/step\n",
      "Epoch 16/20\n",
      "141/141 - 0s - loss: 55.9530 - val_loss: 53.1570 - 170ms/epoch - 1ms/step\n",
      "Epoch 17/20\n",
      "141/141 - 0s - loss: 55.6014 - val_loss: 56.8058 - 188ms/epoch - 1ms/step\n",
      "Epoch 18/20\n",
      "141/141 - 0s - loss: 54.9715 - val_loss: 53.5479 - 162ms/epoch - 1ms/step\n",
      "Epoch 19/20\n",
      "141/141 - 0s - loss: 54.1897 - val_loss: 51.3457 - 192ms/epoch - 1ms/step\n",
      "Epoch 20/20\n",
      "141/141 - 0s - loss: 53.4460 - val_loss: 51.7129 - 200ms/epoch - 1ms/step\n"
     ]
    },
    {
     "data": {
      "image/png": "[encoded data removed]",
      "text/plain": [
       "<Figure size 640x480 with 1 Axes>"
      ]
     },
     "metadata": {},
     "output_type": "display_data"
    },
    {
     "name": "stdout",
     "output_type": "stream",
     "text": [
      "3111/3111 [==============================] - 3s 828us/step - loss: 42.7702\n"
     ]
    },
    {
     "data": {
      "text/plain": [
       "42.77017593383789"
      ]
     },
     "execution_count": 22,
     "metadata": {},
     "output_type": "execute_result"
    }
   ],
   "source": [
    "# testing neural network (sparse data)\n",
    "sparseDF = pd.read_csv(\"dataSparse.csv\")\n",
    "\n",
    "def baseline_model():\n",
    "    # create model\n",
    "    i = Input(shape=(6,))\n",
    "    x = Dense(10, activation='relu')(i)\n",
    "    y = Dense(10, activation='relu')(x)\n",
    "    o = Dense(1)(y)\n",
    "    model = Model(i, o)\n",
    "    model.compile(loss=\"mse\", optimizer= \"adam\")\n",
    "    return model\n",
    "\n",
    "model_sparse = baseline_model()\n",
    "X = sparseDF[['S','K','q','r','sigma','t']]\n",
    "\n",
    "y = sparseDF[['price']]\n",
    "\n",
    "X_train, X_test, y_train, y_test = train_test_split(X, y, test_size=0.1, random_state = 7)\n",
    "history_sparse = model_sparse.fit(X_train, y_train, batch_size = 64, epochs = 20, verbose = 2, validation_split=0.2) # set batch size to 1, otherwise there are errors when trying to\n",
    "\n",
    "plt.plot(history_sparse.history['val_loss'])\n",
    "plt.title('Model validation loss')\n",
    "plt.ylabel('Validation Loss')\n",
    "plt.xlabel('Epoch')\n",
    "plt.legend(['Error', 'Test'], loc='upper left')\n",
    "plt.show()\n",
    "\n",
    "model_sparse.evaluate(x=X_test_full, y=y_test_full)"
   ]
  },
  {
   "cell_type": "code",
   "execution_count": 23,
   "metadata": {},
   "outputs": [
    {
     "name": "stdout",
     "output_type": "stream",
     "text": [
      "Epoch 1/20\n",
      "11198/11198 - 13s - loss: 34.1901 - val_loss: 14.5898 - 13s/epoch - 1ms/step\n",
      "Epoch 2/20\n",
      "11198/11198 - 12s - loss: 11.9006 - val_loss: 10.7925 - 12s/epoch - 1ms/step\n",
      "Epoch 3/20\n",
      "11198/11198 - 12s - loss: 9.6947 - val_loss: 8.7321 - 12s/epoch - 1ms/step\n",
      "Epoch 4/20\n",
      "11198/11198 - 12s - loss: 8.9990 - val_loss: 9.6501 - 12s/epoch - 1ms/step\n",
      "Epoch 5/20\n",
      "11198/11198 - 12s - loss: 8.1933 - val_loss: 7.2502 - 12s/epoch - 1ms/step\n",
      "Epoch 6/20\n",
      "11198/11198 - 13s - loss: 5.5272 - val_loss: 3.6432 - 13s/epoch - 1ms/step\n",
      "Epoch 7/20\n",
      "11198/11198 - 13s - loss: 3.6077 - val_loss: 3.0306 - 13s/epoch - 1ms/step\n",
      "Epoch 8/20\n",
      "11198/11198 - 12s - loss: 3.2278 - val_loss: 2.7356 - 12s/epoch - 1ms/step\n",
      "Epoch 9/20\n",
      "11198/11198 - 13s - loss: 3.0099 - val_loss: 3.3211 - 13s/epoch - 1ms/step\n",
      "Epoch 10/20\n",
      "11198/11198 - 13s - loss: 2.8941 - val_loss: 2.5265 - 13s/epoch - 1ms/step\n",
      "Epoch 11/20\n",
      "11198/11198 - 13s - loss: 2.7522 - val_loss: 2.8451 - 13s/epoch - 1ms/step\n",
      "Epoch 12/20\n",
      "11198/11198 - 13s - loss: 2.5384 - val_loss: 2.2341 - 13s/epoch - 1ms/step\n",
      "Epoch 13/20\n",
      "11198/11198 - 13s - loss: 2.4181 - val_loss: 2.5070 - 13s/epoch - 1ms/step\n",
      "Epoch 14/20\n",
      "11198/11198 - 13s - loss: 2.3510 - val_loss: 2.2423 - 13s/epoch - 1ms/step\n",
      "Epoch 15/20\n",
      "11198/11198 - 13s - loss: 2.3237 - val_loss: 2.3085 - 13s/epoch - 1ms/step\n",
      "Epoch 16/20\n",
      "11198/11198 - 13s - loss: 2.3125 - val_loss: 2.2142 - 13s/epoch - 1ms/step\n",
      "Epoch 17/20\n",
      "11198/11198 - 12s - loss: 2.2803 - val_loss: 2.3105 - 12s/epoch - 1ms/step\n",
      "Epoch 18/20\n",
      "11198/11198 - 12s - loss: 2.2645 - val_loss: 2.4406 - 12s/epoch - 1ms/step\n",
      "Epoch 19/20\n",
      "11198/11198 - 12s - loss: 2.2361 - val_loss: 2.1789 - 12s/epoch - 1ms/step\n",
      "Epoch 20/20\n",
      "11198/11198 - 12s - loss: 2.2028 - val_loss: 2.0510 - 12s/epoch - 1ms/step\n"
     ]
    },
    {
     "data": {
      "image/png": "[encoded data removed]",
      "text/plain": [
       "<Figure size 640x480 with 1 Axes>"
      ]
     },
     "metadata": {},
     "output_type": "display_data"
    },
    {
     "name": "stdout",
     "output_type": "stream",
     "text": [
      "3111/3111 [==============================] - 3s 850us/step - loss: 2.5436\n",
      "995328\n",
      "12500\n",
      "995328\n"
     ]
    }
   ],
   "source": [
    "# testing neural network (extremes data)\n",
    "extremesDF = pd.read_csv(\"dataExtremes.csv\")\n",
    "\n",
    "def baseline_model():\n",
    "    # create model\n",
    "    i = Input(shape=(6,))\n",
    "    x = Dense(10, activation='relu')(i)\n",
    "    y = Dense(10, activation='relu')(x)\n",
    "    o = Dense(1)(y)\n",
    "    model = Model(i, o)\n",
    "    model.compile(loss=\"mse\", optimizer= \"adam\")\n",
    "    return model\n",
    "\n",
    "model_extremes = baseline_model()\n",
    "X = extremesDF[['S','K','q','r','sigma','t']]\n",
    "y = extremesDF[['price']]\n",
    "\n",
    "X_train, X_test, y_train, y_test = train_test_split(X, y, test_size=0.1, random_state = 7)\n",
    "history_extremes = model_extremes.fit(X_train, y_train, batch_size = 64, epochs = 20, verbose = 2, validation_split=0.2) # set batch size to 1, otherwise there are errors when trying to\n",
    "\n",
    "plt.plot(history_extremes.history['val_loss'])\n",
    "plt.title('Model validation loss')\n",
    "plt.ylabel('Validation Loss')\n",
    "plt.xlabel('Epoch')\n",
    "plt.legend(['Error', 'Test'], loc='upper left')\n",
    "plt.show()\n",
    "\n",
    "model_extremes.evaluate(x=X_test_full, y=y_test_full)\n",
    "\n",
    "tableOutput = pd.DataFrame({'Full':history_full.history['val_loss'], \\\n",
    "'Sparse':history_sparse.history['val_loss'], \\\n",
    "'Extremes':history_extremes.history['val_loss']}, columns=['Full', 'Sparse', 'Extremes'])\n",
    "tableOutput.to_csv(\"tableResultsValidaton.csv\")\n",
    "\n",
    "print(len(fullDF.index))\n",
    "print(len(sparseDF.index))\n",
    "print(len(extremesDF.index))"
   ]
  },
  {
   "attachments": {},
   "cell_type": "markdown",
   "metadata": {},
   "source": [
    "# Summary\n",
    "Data is very important for machine learning traning."
   ]
  }
 ],
 "metadata": {
  "kernelspec": {
   "display_name": "tf",
   "language": "python",
   "name": "python3"
  },
  "language_info": {
   "codemirror_mode": {
    "name": "ipython",
    "version": 3
   },
   "file_extension": ".py",
   "mimetype": "text/x-python",
   "name": "python",
   "nbconvert_exporter": "python",
   "pygments_lexer": "ipython3",
   "version": "3.8.10"
  },
  "orig_nbformat": 4,
  "vscode": {
   "interpreter": {
    "hash": "b299ead75a435dd81db5bc5fe55f9447bf2e38f1c54243924f444b1275a07c8a"
   }
  }
 },
 "nbformat": 4,
 "nbformat_minor": 2
}
