{
 "cells": [
  {
   "cell_type": "code",
   "execution_count": 1,
   "metadata": {},
   "outputs": [],
   "source": [
    "'''https://subscription.packtpub.com/book/undefined/9781784394516/4/ch04lvl1sec37/finite-differences-in-options-pricing'''\n",
    "\n",
    "\"\"\" Shared attributes and functions of FD \"\"\"\n",
    "import numpy as np\n",
    "import scipy.linalg as linalg"
   ]
  },
  {
   "attachments": {},
   "cell_type": "markdown",
   "metadata": {},
   "source": [
    "# Discretization\n",
    "In the weekly report, S is discretized by n and t is discretized by m.\n",
    "\n",
    "The discretization below is different, where S is discretized by M and t is discretized by N. In addition, here price $i = 1, 2, 3, \\ldots, M-2, M-1$ and time $j = N-1, N-2, \\ldots, 2, 1, 0$. Consequently, we use backward difference for time t, which is the same as forward difference in the weekly report. \n",
    "\n",
    "In summary:\n",
    "- explicit method use the option price of the previous time step with difference asset price to predict the option price of the current time step.\n",
    "- implicit method use the option price of the next time step and with difference asset price to predict the option price of the current time step.\n",
    "- Crank-Nicolson method taking the average of both explict and implicit method.\n",
    "- semi-implicit uses a different difference method."
   ]
  },
  {
   "attachments": {},
   "cell_type": "markdown",
   "metadata": {},
   "source": [
    "# FiniteDifferences Class\n",
    "- The price method is the public method used for calling the specific finite difference scheme implementation.\n",
    "- assigns all the required parameters in the __init__ constructor method.\n",
    "- _setup_boundary_conditions_: This method sets up the boundary conditions of the grid structure as a NumPy two-dimensional array.\n",
    "- _setup_coefficients_: This method sets up the necessary coefficients used for traversing the grid structure.\n",
    "- _traverse_grid_: This method iterates the grid structure backward in time, storing the calculated values toward the first column of the grid.\n",
    "-  _interpolate_: Using the final calculated values on the first column of the grid, this method will interpolate these values to find the option price that closely infers the initial stock price, S0."
   ]
  },
  {
   "cell_type": "code",
   "execution_count": 5,
   "metadata": {},
   "outputs": [],
   "source": [
    "class FiniteDifferences(object):\n",
    "\n",
    "    def __init__(self, S0, K, r, T, sigma, Smax, M, N,\n",
    "                 is_call=True):\n",
    "        self.S0 = S0\n",
    "        self.K = K\n",
    "        self.r = r\n",
    "        self.T = T\n",
    "        self.sigma = sigma\n",
    "        self.Smax = Smax\n",
    "        self.M, self.N = int(M), int(N)  # Ensure M&N are integers\n",
    "        self.is_call = is_call\n",
    "\n",
    "        self.dS = Smax / float(self.M)\n",
    "        self.dt = T / float(self.N)\n",
    "        self.i_values = np.arange(self.M)\n",
    "        self.j_values = np.arange(self.N)\n",
    "        self.grid = np.zeros(shape=(self.M+1, self.N+1))\n",
    "        self.boundary_conds = np.linspace(0, Smax, self.M+1)\n",
    "\n",
    "    def _setup_boundary_conditions_(self):\n",
    "        pass\n",
    "\n",
    "    def _setup_coefficients_(self):\n",
    "        pass\n",
    "\n",
    "    def _traverse_grid_(self):\n",
    "        \"\"\"  Iterate the grid backwards in time \"\"\"\n",
    "        pass\n",
    "\n",
    "    def _interpolate_(self):\n",
    "        \"\"\"\n",
    "        Use piecewise linear interpolation on the initial\n",
    "        grid column to get the closest price at S0.\n",
    "        \"\"\"\n",
    "        return np.interp(self.S0, \n",
    "                         self.boundary_conds,\n",
    "                         self.grid[:, 0])\n",
    "        \n",
    "    def price(self):\n",
    "        self._setup_boundary_conditions_()\n",
    "        self._setup_coefficients_()\n",
    "        self._traverse_grid_()\n",
    "        return self._interpolate_()"
   ]
  },
  {
   "attachments": {},
   "cell_type": "markdown",
   "metadata": {},
   "source": [
    "# The explicit method\n",
    "- the backward difference with respect to t\n",
    "- the central difference with respect to S\n",
    "- the second-order difference with respect to S\n",
    "\n",
    "To avoid instability issues, we need to set a reasonable intervals of time t, where $0 < \\Delta t < \\frac{1}{\\sigma^2(M-1) + \\frac{1}{2}r}$."
   ]
  },
  {
   "cell_type": "code",
   "execution_count": 6,
   "metadata": {},
   "outputs": [],
   "source": [
    "\"\"\" Explicit method of Finite Differences \"\"\"\n",
    "# import numpy as np\n",
    "\n",
    "# from FiniteDifferences import FiniteDifferences\n",
    "\n",
    "class FDExplicitEu(FiniteDifferences):\n",
    "\n",
    "    def _setup_boundary_conditions_(self):\n",
    "        if self.is_call:\n",
    "            self.grid[:, -1] = np.maximum(\n",
    "                self.boundary_conds - self.K, 0)\n",
    "            self.grid[-1, :-1] = (self.Smax - self.K) * \\\n",
    "                                 np.exp(-self.r *\n",
    "                                        self.dt *\n",
    "                                        (self.N-self.j_values))\n",
    "        else:\n",
    "            self.grid[:, -1] = \\\n",
    "                np.maximum(self.K-self.boundary_conds, 0)\n",
    "            self.grid[0, :-1] = (self.K - self.Smax) * \\\n",
    "                               np.exp(-self.r *\n",
    "                                      self.dt *\n",
    "                                      (self.N-self.j_values))\n",
    "\n",
    "    def _setup_coefficients_(self):\n",
    "        self.a = 0.5 * self.dt * ((self.sigma**2) *\n",
    "                              (self.i_values**2) -\n",
    "                              self.r*self.i_values)\n",
    "        self.b = 1 - self.dt * ((self.sigma**2) * \n",
    "                              (self.i_values**2) + \n",
    "                              self.r)\n",
    "        self.c = 0.5 * self.dt * ((self.sigma**2) * \n",
    "                              (self.i_values**2) + \n",
    "                              self.r*self.i_values)\n",
    "\n",
    "    def _traverse_grid_(self):\n",
    "        for j in reversed(self.j_values):\n",
    "            for i in range(self.M)[2:]:\n",
    "                self.grid[i,j] = self.a[i] * self.grid[i-1,j+1] +\\\n",
    "                                 self.b[i] * self.grid[i,j+1] + \\\n",
    "                                 self.c[i] * self.grid[i+1,j+1] \n"
   ]
  },
  {
   "cell_type": "code",
   "execution_count": 21,
   "metadata": {},
   "outputs": [
    {
     "name": "stdout",
     "output_type": "stream",
     "text": [
      "9.909575362261545\n",
      "[45.2418709  45.24232332 45.24277575 ... 49.99850002 49.99900001\n",
      " 49.9995    ]\n",
      "45.242323322769096\n",
      "44.942756339081186\n",
      "45.242323322769096\n",
      "45.241870901797974\n",
      "[ 0.   0.   0.   0.   0.   0.   0.   0.   0.   0.   0.   0.   0.   0.\n",
      "  0.   0.   0.   0.   0.   0.   0.   0.   0.   0.   0.   0.   0.   0.\n",
      "  0.   0.   0.   0.   0.   0.   0.   0.   0.   0.   0.   0.   0.   0.\n",
      "  0.   0.   0.   0.   0.   0.   0.   0.   0.   0.   0.   0.   0.   0.\n",
      "  0.   0.   0.   0.   0.   0.   0.   0.   0.   0.   0.   0.   0.   0.\n",
      "  0.   0.   0.   0.   0.   0.   0.   0.   0.   0.   0.   0.   0.   0.\n",
      "  0.   0.   0.   0.   0.   0.   0.   0.   0.   0.   0.   0.   0.   0.\n",
      "  0.   0.   0.   0.5  1.   1.5  2.   2.5  3.   3.5  4.   4.5  5.   5.5\n",
      "  6.   6.5  7.   7.5  8.   8.5  9.   9.5 10.  10.5 11.  11.5 12.  12.5\n",
      " 13.  13.5 14.  14.5 15.  15.5 16.  16.5 17.  17.5 18.  18.5 19.  19.5\n",
      " 20.  20.5 21.  21.5 22.  22.5 23.  23.5 24.  24.5 25.  25.5 26.  26.5\n",
      " 27.  27.5 28.  28.5 29.  29.5 30.  30.5 31.  31.5 32.  32.5 33.  33.5\n",
      " 34.  34.5 35.  35.5 36.  36.5 37.  37.5 38.  38.5 39.  39.5 40.  40.5\n",
      " 41.  41.5 42.  42.5 43.  43.5 44.  44.5 45.  45.5 46.  46.5 47.  47.5\n",
      " 48.  48.5 49.  49.5 50. ]\n",
      "[0.00000000e+00 0.00000000e+00 5.05931433e-17 3.40011553e-15\n",
      " 1.07497888e-13 1.96854472e-12 2.36360697e-11 2.02471371e-10\n",
      " 1.31666687e-09 6.81787254e-09 2.91910947e-08 1.06512311e-07\n",
      " 3.39403379e-07 9.63511426e-07 2.47699043e-06 5.84494322e-06\n",
      " 1.28024124e-05 2.62739054e-05 5.09208796e-05 9.38198976e-05\n",
      " 1.65264408e-04 2.79673456e-04 4.56582131e-04 7.21681925e-04\n",
      " 1.10787492e-03 1.65630389e-03 2.41732104e-03 3.45136061e-03\n",
      " 4.82968504e-03 6.63497957e-03 8.96177668e-03 1.19166979e-02\n",
      " 1.56185072e-02 2.01979754e-02 2.57975617e-02 3.25709221e-02\n",
      " 4.06822577e-02 5.03055209e-02 6.16234968e-02 7.48267818e-02\n",
      " 9.01126775e-02 1.07684023e-01 1.27747987e-01 1.50514829e-01\n",
      " 1.76196666e-01 2.05006245e-01 2.37155738e-01 2.72855581e-01\n",
      " 3.12313362e-01 3.55732769e-01 4.03312598e-01 4.55245843e-01\n",
      " 5.11718858e-01 5.72910597e-01 6.38991940e-01 7.10125097e-01\n",
      " 7.86463094e-01 8.68149340e-01 9.55317267e-01 1.04809005e+00\n",
      " 1.14658040e+00 1.25089041e+00 1.36111147e+00 1.47732428e+00\n",
      " 1.59959883e+00 1.72799451e+00 1.86256025e+00 2.00333468e+00\n",
      " 2.15034630e+00 2.30361378e+00 2.46314619e+00 2.62894330e+00\n",
      " 2.80099588e+00 2.97928604e+00 3.16378761e+00 3.35446643e+00\n",
      " 3.55128077e+00 3.75418165e+00 3.96311328e+00 4.17801337e+00\n",
      " 4.39881357e+00 4.62543977e+00 4.85781253e+00 5.09584742e+00\n",
      " 5.33945538e+00 5.58854307e+00 5.84301322e+00 6.10276496e+00\n",
      " 6.36769412e+00 6.63769358e+00 6.91265357e+00 7.19246192e+00\n",
      " 7.47700440e+00 7.76616493e+00 8.05982587e+00 8.35786829e+00\n",
      " 8.66017214e+00 8.96661652e+00 9.27707989e+00 9.59144026e+00\n",
      " 9.90957536e+00 1.02313629e+01 1.05566805e+01 1.08854064e+01\n",
      " 1.12174187e+01 1.15525966e+01 1.18908195e+01 1.22319680e+01\n",
      " 1.25759231e+01 1.29225673e+01 1.32717838e+01 1.36234573e+01\n",
      " 1.39774737e+01 1.43337199e+01 1.46920848e+01 1.50524582e+01\n",
      " 1.54147319e+01 1.57787988e+01 1.61445540e+01 1.65118936e+01\n",
      " 1.68807160e+01 1.72509210e+01 1.76224101e+01 1.79950868e+01\n",
      " 1.83688562e+01 1.87436254e+01 1.91193030e+01 1.94957998e+01\n",
      " 1.98730281e+01 2.02509022e+01 2.06293382e+01 2.10082541e+01\n",
      " 2.13875696e+01 2.17672062e+01 2.21470873e+01 2.25271380e+01\n",
      " 2.29072854e+01 2.32874580e+01 2.36675864e+01 2.40476026e+01\n",
      " 2.44274408e+01 2.48070363e+01 2.51863266e+01 2.55652505e+01\n",
      " 2.59437486e+01 2.63217631e+01 2.66992379e+01 2.70761182e+01\n",
      " 2.74523509e+01 2.78278845e+01 2.82026689e+01 2.85766555e+01\n",
      " 2.89497971e+01 2.93220480e+01 2.96933638e+01 3.00637017e+01\n",
      " 3.04330199e+01 3.08012783e+01 3.11684378e+01 3.15344607e+01\n",
      " 3.18993106e+01 3.22629522e+01 3.26253515e+01 3.29864756e+01\n",
      " 3.33462929e+01 3.37047727e+01 3.40618856e+01 3.44176033e+01\n",
      " 3.47718982e+01 3.51247443e+01 3.54761161e+01 3.58259893e+01\n",
      " 3.61743407e+01 3.65211479e+01 3.68663894e+01 3.72100445e+01\n",
      " 3.75520938e+01 3.78925182e+01 3.82312999e+01 3.85684217e+01\n",
      " 3.89038672e+01 3.92376208e+01 3.95696678e+01 3.98999940e+01\n",
      " 4.02285861e+01 4.05554315e+01 4.08805182e+01 4.12038349e+01\n",
      " 4.15253709e+01 4.18451164e+01 4.21630619e+01 4.24791987e+01\n",
      " 4.27935186e+01 4.31060140e+01 4.34166778e+01 4.37255036e+01\n",
      " 4.40324854e+01 4.43376177e+01 4.46408957e+01 4.49423147e+01\n",
      " 4.52418709e+01]\n",
      "hhhhhhhhhhhhhhhh\n",
      "0.0\n",
      "0.0\n"
     ]
    }
   ],
   "source": [
    "# from FDExplicitEu import FDExplicitEu\n",
    "option = FDExplicitEu(50, 50, 0.1, 1.0, 0.4, 100, 200, 10000, True)\n",
    "print(option.price())"
   ]
  },
  {
   "cell_type": "code",
   "execution_count": 12,
   "metadata": {},
   "outputs": [
    {
     "name": "stdout",
     "output_type": "stream",
     "text": [
      "5.39954594518403\n",
      "0.0\n",
      "0.01427012248106949\n",
      "0.0\n"
     ]
    }
   ],
   "source": [
    "# instability problems when m and n are chosen improperly\n",
    "option = FDExplicitEu(50, 50, 0.1, 1.0, 0.4, 100, 200, 10000, False)\n",
    "print(option.price())"
   ]
  },
  {
   "cell_type": "code",
   "execution_count": 9,
   "metadata": {},
   "outputs": [
    {
     "name": "stdout",
     "output_type": "stream",
     "text": [
      "-1.6291077072251005e+53\n"
     ]
    }
   ],
   "source": [
    "# instability problems when m and n are chosen improperly\n",
    "option = FDExplicitEu(50, 50, 0.1, 5.0/12.0, 0.4, 100, 100, 100, False)\n",
    "print(option.price())"
   ]
  },
  {
   "cell_type": "code",
   "execution_count": 14,
   "metadata": {},
   "outputs": [
    {
     "name": "stdout",
     "output_type": "stream",
     "text": [
      "[24.88109417 24.88564968 24.89020621 ... 29.99216694 29.99791667\n",
      " 30.        ]\n"
     ]
    }
   ],
   "source": [
    "option = FDExplicitEu(50, 50, 0.1, 5.0/12.0, 0.4, 100, 10, 1000, False)\n",
    "print(option.price()[1][2])"
   ]
  },
  {
   "attachments": {},
   "cell_type": "markdown",
   "metadata": {},
   "source": [
    "# The implicit method\n",
    "The instability problem of the explicit method can be overcome using the forward difference with respect to time:\n",
    "- the forward difference with respect to t.\n",
    "- the central difference with respect to S.\n",
    "- the second-order difference with respect to S."
   ]
  },
  {
   "cell_type": "code",
   "execution_count": 10,
   "metadata": {},
   "outputs": [],
   "source": [
    "\"\"\"\n",
    "Price a European option by the implicit method \n",
    "of finite differences. \n",
    "\"\"\"\n",
    "\n",
    "# from FDExplicitEu import FDExplicitEu\n",
    "\n",
    "\n",
    "class FDImplicitEu(FDExplicitEu):\n",
    "\n",
    "    def _setup_coefficients_(self):\n",
    "        self.a = 0.5*(self.r*self.dt*self.i_values -\n",
    "                      (self.sigma**2)*self.dt*(self.i_values**2))\n",
    "        self.b = 1 + \\\n",
    "                 (self.sigma**2)*self.dt*(self.i_values**2) + \\\n",
    "                 self.r*self.dt\n",
    "        self.c = -0.5*(self.r * self.dt*self.i_values +\n",
    "                       (self.sigma**2)*self.dt*(self.i_values**2))\n",
    "        self.coeffs = np.diag(self.a[2:self.M], -1) + \\\n",
    "                      np.diag(self.b[1:self.M]) + \\\n",
    "                      np.diag(self.c[1:self.M-1], 1)\n",
    "\n",
    "    def _traverse_grid_(self):\n",
    "        \"\"\" Solve using linear systems of equations \"\"\"\n",
    "        P, L, U = linalg.lu(self.coeffs)\n",
    "        aux = np.zeros(self.M-1)\n",
    "\n",
    "        for j in reversed(range(self.N)):\n",
    "            aux[0] = np.dot(-self.a[1], self.grid[0, j])\n",
    "            x1 = linalg.solve(L, self.grid[1:self.M, j+1] + aux)\n",
    "            x2 = linalg.solve(U, x1)\n",
    "            self.grid[1 : self.M, j] = x2"
   ]
  },
  {
   "cell_type": "code",
   "execution_count": 11,
   "metadata": {},
   "outputs": [
    {
     "name": "stdout",
     "output_type": "stream",
     "text": [
      "4.065801939431454\n",
      "4.071594188049893\n"
     ]
    }
   ],
   "source": [
    "# from FDImplicitEu import FDImplicitEu\n",
    "option = FDImplicitEu(50, 50, 0.1, 5./12., 0.4, 100, 100, 100, False)\n",
    "# print(option.price())\n",
    "\n",
    "option = FDImplicitEu(50, 50, 0.1, 5./12., 0.4, 100, 100, 1000, False)\n",
    "# print(option.price())"
   ]
  },
  {
   "attachments": {},
   "cell_type": "markdown",
   "metadata": {},
   "source": [
    "# Crank-Nicolson method\n",
    "- The Crank-Nicolson method converges much more quickly using a combination of the explicit and implicit methods, taking the average of both. \n",
    "- The Python implementation of the Crank-Nicolson method is given in the following FDCnEu class, which inherits from the FDExplicitEu class and overrides only the _setup_coefficients_ and _traverse_grid_ methods. Save this file as FDCnEu.py:"
   ]
  },
  {
   "cell_type": "code",
   "execution_count": 12,
   "metadata": {},
   "outputs": [],
   "source": [
    "class FDCnEu(FDExplicitEu):\n",
    "\n",
    "    def _setup_coefficients_(self):\n",
    "        self.alpha = 0.25*self.dt*(\n",
    "            (self.sigma**2)*(self.i_values**2) -\n",
    "            self.r*self.i_values)\n",
    "        self.beta = -self.dt*0.5*(\n",
    "            (self.sigma**2)*(self.i_values**2) +\n",
    "            self.r)\n",
    "        self.gamma = 0.25*self.dt*(\n",
    "            (self.sigma**2)*(self.i_values**2) +\n",
    "            self.r*self.i_values)\n",
    "        self.M1 = -np.diag(self.alpha[2:self.M], -1) + \\\n",
    "                  np.diag(1-self.beta[1:self.M]) - \\\n",
    "                  np.diag(self.gamma[1:self.M-1], 1)\n",
    "        self.M2 = np.diag(self.alpha[2:self.M], -1) + \\\n",
    "                  np.diag(1+self.beta[1:self.M]) + \\\n",
    "                  np.diag(self.gamma[1:self.M-1], 1)\n",
    "\n",
    "    def _traverse_grid_(self):\n",
    "        \"\"\" Solve using linear systems of equations \"\"\"\n",
    "        P, L, U = linalg.lu(self.M1)\n",
    "\n",
    "        for j in reversed(range(self.N)):\n",
    "            x1 = linalg.solve(L,\n",
    "                              np.dot(self.M2,\n",
    "                                     self.grid[1:self.M, j+1]))\n",
    "            x2 = linalg.solve(U, x1)\n",
    "            self.grid[1:self.M, j] = x2"
   ]
  },
  {
   "cell_type": "code",
   "execution_count": 15,
   "metadata": {},
   "outputs": [
    {
     "name": "stdout",
     "output_type": "stream",
     "text": [
      "4.072254507998114\n",
      "4.072238354486828\n"
     ]
    }
   ],
   "source": [
    "# from FDImplicitEu import FDImplicitEu\n",
    "option = FDCnEu(50, 50, 0.1, 5./12., 0.4, 100, 100, 100, False)\n",
    "print(option.price())\n",
    "\n",
    "\n",
    "option = FDCnEu(50, 50, 0.1, 5./12., 0.4, 100, 100, 1000, False)\n",
    "print(option.price())"
   ]
  },
  {
   "attachments": {},
   "cell_type": "markdown",
   "metadata": {},
   "source": [
    "# Semi-implicit method\n",
    "- a backward difference approximation for the time derivative.\n",
    "- forward difference approximation for the first order S derivative\n",
    "- a symmetric central difference approximation for the second order S derivative"
   ]
  },
  {
   "cell_type": "code",
   "execution_count": null,
   "metadata": {},
   "outputs": [],
   "source": [
    "class FDImplicitEu(FDExplicitEu):\n",
    "\n",
    "    def _setup_coefficients_(self):\n",
    "        self.a = 0.5*(self.r*self.dt*self.i_values -\n",
    "                      (self.sigma**2)*self.dt*(self.i_values**2))\n",
    "        self.b = 1 + \\\n",
    "                 (self.sigma**2)*self.dt*(self.i_values**2) + \\\n",
    "                 self.r*self.dt\n",
    "        self.c = -0.5*(self.r * self.dt*self.i_values +\n",
    "                       (self.sigma**2)*self.dt*(self.i_values**2))\n",
    "        self.coeffs = np.diag(self.a[2:self.M], -1) + \\\n",
    "                      np.diag(self.b[1:self.M]) + \\\n",
    "                      np.diag(self.c[1:self.M-1], 1)\n",
    "\n",
    "    def _traverse_grid_(self):\n",
    "        \"\"\" Solve using linear systems of equations \"\"\"\n",
    "        P, L, U = linalg.lu(self.coeffs)\n",
    "        aux = np.zeros(self.M-1)\n",
    "\n",
    "        for j in reversed(range(self.N)):\n",
    "            aux[0] = np.dot(-self.a[1], self.grid[0, j])\n",
    "            x1 = linalg.solve(L, self.grid[1:self.M, j+1]+aux)\n",
    "            x2 = linalg.solve(U, x1)\n",
    "            self.grid[1:self.M, j] = x2"
   ]
  }
 ],
 "metadata": {
  "kernelspec": {
   "display_name": "tf",
   "language": "python",
   "name": "python3"
  },
  "language_info": {
   "codemirror_mode": {
    "name": "ipython",
    "version": 3
   },
   "file_extension": ".py",
   "mimetype": "text/x-python",
   "name": "python",
   "nbconvert_exporter": "python",
   "pygments_lexer": "ipython3",
   "version": "3.9.16"
  },
  "orig_nbformat": 4
 },
 "nbformat": 4,
 "nbformat_minor": 2
}
