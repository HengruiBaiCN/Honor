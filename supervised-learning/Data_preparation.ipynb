{
 "cells": [
  {
   "cell_type": "code",
   "execution_count": 1,
   "metadata": {},
   "outputs": [
    {
     "name": "stdout",
     "output_type": "stream",
     "text": [
      "importing Jupyter notebook from FDM.ipynb\n"
     ]
    }
   ],
   "source": [
    "import numpy as np\n",
    "import pandas as pd\n",
    "import matplotlib.pyplot as plt\n",
    "\n",
    "\n",
    "from scipy.stats import gamma\n",
    "from scipy.stats import beta\n",
    "from scipy.stats import uniform\n",
    "\n",
    "from py_vollib import black_scholes_merton as bsm\n",
    "\n",
    "\n",
    "import import_ipynb\n",
    "from FDM import FDExplicitEu"
   ]
  },
  {
   "attachments": {},
   "cell_type": "markdown",
   "metadata": {},
   "source": [
    "# Build the neural network and test it"
   ]
  },
  {
   "cell_type": "code",
   "execution_count": 2,
   "metadata": {},
   "outputs": [],
   "source": [
    "def test_function(s, t):\n",
    "    res = np.exp(np.sin(np.pi*s + 100*np.pi*t))\n",
    "    return res "
   ]
  },
  {
   "cell_type": "code",
   "execution_count": 3,
   "metadata": {},
   "outputs": [],
   "source": [
    "Smax = 1\n",
    "T = 100\n",
    "\n",
    "M = 20\n",
    "N = 10**5\n",
    "ds = Smax / float(M)\n",
    "dt = T / float(N)\n",
    "i_values = np.arange(stop=Smax, step=ds) # type: ignore\n",
    "j_values= np.arange(stop=T, step=dt) # type: ignore\n",
    "\n",
    "# print(i_values)\n",
    "# print(j_values)\n",
    "# print(len(j_values))\n",
    "\n",
    "# grip = np.zeros(shape=(M+1, N+1))\n",
    "\n",
    "test_data = {}\n",
    "for i in i_values:\n",
    "    tmp = []\n",
    "    for j in j_values:\n",
    "        tmp.append(test_function(i, j))\n",
    "        pass\n",
    "    test_data[i] = tmp\n",
    "    pass\n",
    "# print(test_data)\n"
   ]
  },
  {
   "cell_type": "code",
   "execution_count": 4,
   "metadata": {},
   "outputs": [
    {
     "name": "stdout",
     "output_type": "stream",
     "text": [
      "Done\n"
     ]
    }
   ],
   "source": [
    "data = {}\n",
    "k=0\n",
    "for i in i_values[:]:\n",
    "    data[f'input{k}'] = test_data[i][:-1]\n",
    "    k+=1\n",
    "    pass\n",
    "\n",
    "k=0\n",
    "for i in i_values[:]:\n",
    "    data[f'output{k}'] = test_data[i][1:]\n",
    "    k+=1\n",
    "    pass\n",
    "\n",
    "df = pd.DataFrame.from_dict(data)\n",
    "df.to_csv('test_sample.csv', index = False)\n",
    "print('Done')\n"
   ]
  },
  {
   "attachments": {},
   "cell_type": "markdown",
   "metadata": {},
   "source": [
    "# Initial data assigns\n",
    "\n",
    "Given fixed \n",
    "- volatility $\\sigma$,\n",
    "- spot price S0, \n",
    "- strike price K, \n",
    "- terminal time T, \n",
    "- risk-free rate r, \n",
    "- Max asset price Smax, \n",
    "- space discretization size M \n",
    "- time discretization size N\n",
    "\n",
    "The finite difference method can generate the option price range at each time step with respect to the asset price range. And the data is stored in a dictionary. \n"
   ]
  },
  {
   "cell_type": "code",
   "execution_count": 5,
   "metadata": {},
   "outputs": [],
   "source": [
    "sigma = 0.2     # asset price volatility \n",
    "S0 = 50         # spot price / asset price at time 0\n",
    "K = 50          # strike price\n",
    "q = 0           # dividend rate\n",
    "T = 1           # 1 year\n",
    "r = 0.035       # australia 10Y government bond\n",
    "Smax = int(5*K) # boundary asset price\n",
    "M = 100        # asset discretize size\n",
    "N = 100000        # time discretize size\n",
    "is_call = True  # option type"
   ]
  },
  {
   "cell_type": "code",
   "execution_count": 6,
   "metadata": {},
   "outputs": [
    {
     "name": "stdout",
     "output_type": "stream",
     "text": [
      "The black scholes formual result is: 4.833733685693845\n"
     ]
    }
   ],
   "source": [
    "print(\"The black scholes formual result is:\", bsm.black_scholes_merton(flag = 'c', S = S0, K = K, q = q, t = T,r = r, sigma = sigma))"
   ]
  },
  {
   "cell_type": "code",
   "execution_count": 7,
   "metadata": {},
   "outputs": [
    {
     "name": "stdout",
     "output_type": "stream",
     "text": [
      "4.802737294385121\n"
     ]
    }
   ],
   "source": [
    "# initialise the option price to do calculation and generate data\n",
    "option = FDExplicitEu(S0, K, r, T, sigma, Smax, M, N, is_call)\n",
    "print(option.price())\n",
    "# 4.803264055067497: 100, 1000\n",
    "# 4.22223222214615: 25, 100000\n",
    "# 4.833432465965342: 1000, 100000\n",
    "# 4.802737294385121: 100, 100000"
   ]
  },
  {
   "cell_type": "code",
   "execution_count": 8,
   "metadata": {},
   "outputs": [
    {
     "name": "stdout",
     "output_type": "stream",
     "text": [
      "[{'asset': 0.0, 'time': 0.001, 'option': 0.0}, {'asset': 2.5, 'time': 0.001, 'option': 1.2432633242479446e-75}, {'asset': 5.0, 'time': 0.001, 'option': 8.183861760399861e-70}, {'asset': 7.5, 'time': 0.001, 'option': 1.6484335754991196e-64}, {'asset': 10.0, 'time': 0.001, 'option': 1.5371065082725898e-59}, {'asset': 12.5, 'time': 0.001, 'option': 7.973700317340302e-55}, {'asset': 15.0, 'time': 0.001, 'option': 2.55384217058933e-50}, {'asset': 17.5, 'time': 0.001, 'option': 5.3971467276178424e-46}, {'asset': 20.0, 'time': 0.001, 'option': 7.874383770796976e-42}, {'asset': 22.5, 'time': 0.001, 'option': 8.188468815675904e-38}, {'asset': 25.0, 'time': 0.001, 'option': 6.2085598312918025e-34}, {'asset': 27.5, 'time': 0.001, 'option': 3.487247371823677e-30}, {'asset': 30.0, 'time': 0.001, 'option': 1.4661653365431144e-26}, {'asset': 32.5, 'time': 0.001, 'option': 4.6395695461513435e-23}, {'asset': 35.0, 'time': 0.001, 'option': 1.105817274726199e-19}, {'asset': 37.5, 'time': 0.001, 'option': 1.9763291255783902e-16}, {'asset': 40.0, 'time': 0.001, 'option': 2.620016990883347e-13}, {'asset': 42.5, 'time': 0.001, 'option': 2.5265118197943476e-10}, {'asset': 45.0, 'time': 0.001, 'option': 1.7144086687430513e-07}, {'asset': 47.5, 'time': 0.001, 'option': 7.728617460120556e-05}, {'asset': 50.0, 'time': 0.001, 'option': 0.020717776733600302}, {'asset': 52.5, 'time': 0.001, 'option': 2.5018290958864764}, {'asset': 55.0, 'time': 0.001, 'option': 5.0017502095029425}, {'asset': 57.5, 'time': 0.001, 'option': 7.501749970272721}, {'asset': 60.0, 'time': 0.001, 'option': 10.001749969682903}, {'asset': 62.5, 'time': 0.001, 'option': 12.501749969681653}, {'asset': 65.0, 'time': 0.001, 'option': 15.001749969681622}, {'asset': 67.5, 'time': 0.001, 'option': 17.501749969681516}, {'asset': 70.0, 'time': 0.001, 'option': 20.00174996968157}, {'asset': 72.5, 'time': 0.001, 'option': 22.501749969681597}, {'asset': 75.0, 'time': 0.001, 'option': 25.00174996968157}, {'asset': 77.5, 'time': 0.001, 'option': 27.501749969681484}, {'asset': 80.0, 'time': 0.001, 'option': 30.001749969681622}, {'asset': 82.5, 'time': 0.001, 'option': 32.50174996968173}, {'asset': 85.0, 'time': 0.001, 'option': 35.00174996968171}, {'asset': 87.5, 'time': 0.001, 'option': 37.5017499696817}, {'asset': 90.0, 'time': 0.001, 'option': 40.00174996968153}, {'asset': 92.5, 'time': 0.001, 'option': 42.50174996968172}, {'asset': 95.0, 'time': 0.001, 'option': 45.001749969681356}, {'asset': 97.5, 'time': 0.001, 'option': 47.5017499696814}, {'asset': 100.0, 'time': 0.001, 'option': 50.00174996968183}, {'asset': 102.5, 'time': 0.001, 'option': 52.50174996968159}, {'asset': 105.0, 'time': 0.001, 'option': 55.00174996968185}, {'asset': 107.5, 'time': 0.001, 'option': 57.50174996968134}, {'asset': 110.0, 'time': 0.001, 'option': 60.00174996968134}, {'asset': 112.5, 'time': 0.001, 'option': 62.50174996968187}, {'asset': 115.0, 'time': 0.001, 'option': 65.0017499696815}, {'asset': 117.5, 'time': 0.001, 'option': 67.50174996968175}, {'asset': 120.0, 'time': 0.001, 'option': 70.00174996968192}, {'asset': 122.5, 'time': 0.001, 'option': 72.50174996968184}, {'asset': 125.0, 'time': 0.001, 'option': 75.00174996968177}, {'asset': 127.5, 'time': 0.001, 'option': 77.5017499696814}, {'asset': 130.0, 'time': 0.001, 'option': 80.0017499696816}, {'asset': 132.5, 'time': 0.001, 'option': 82.50174996968171}, {'asset': 135.0, 'time': 0.001, 'option': 85.00174996968161}, {'asset': 137.5, 'time': 0.001, 'option': 87.50174996968138}, {'asset': 140.0, 'time': 0.001, 'option': 90.00174996968182}, {'asset': 142.5, 'time': 0.001, 'option': 92.50174996968106}, {'asset': 145.0, 'time': 0.001, 'option': 95.00174996968116}, {'asset': 147.5, 'time': 0.001, 'option': 97.50174996968101}, {'asset': 150.0, 'time': 0.001, 'option': 100.00174996968177}, {'asset': 152.5, 'time': 0.001, 'option': 102.5017499696813}, {'asset': 155.0, 'time': 0.001, 'option': 105.00174996968154}, {'asset': 157.5, 'time': 0.001, 'option': 107.50174996968153}, {'asset': 160.0, 'time': 0.001, 'option': 110.00174996968138}, {'asset': 162.5, 'time': 0.001, 'option': 112.5017499696821}, {'asset': 165.0, 'time': 0.001, 'option': 115.00174996968148}, {'asset': 167.5, 'time': 0.001, 'option': 117.50174996968175}, {'asset': 170.0, 'time': 0.001, 'option': 120.00174996968171}, {'asset': 172.5, 'time': 0.001, 'option': 122.50174996968153}, {'asset': 175.0, 'time': 0.001, 'option': 125.00174996968101}, {'asset': 177.5, 'time': 0.001, 'option': 127.50174996968141}, {'asset': 180.0, 'time': 0.001, 'option': 130.00174996968178}, {'asset': 182.5, 'time': 0.001, 'option': 132.50174996968175}, {'asset': 185.0, 'time': 0.001, 'option': 135.0017499696814}, {'asset': 187.5, 'time': 0.001, 'option': 137.50174996968195}, {'asset': 190.0, 'time': 0.001, 'option': 140.00174996968133}, {'asset': 192.5, 'time': 0.001, 'option': 142.50174996968147}, {'asset': 195.0, 'time': 0.001, 'option': 145.0017499696812}, {'asset': 197.5, 'time': 0.001, 'option': 147.501749969681}, {'asset': 200.0, 'time': 0.001, 'option': 150.0017499696819}, {'asset': 202.5, 'time': 0.001, 'option': 152.50174996968218}, {'asset': 205.0, 'time': 0.001, 'option': 155.00174996968093}, {'asset': 207.5, 'time': 0.001, 'option': 157.50174996968224}, {'asset': 210.0, 'time': 0.001, 'option': 160.0017499696818}, {'asset': 212.5, 'time': 0.001, 'option': 162.50174996968101}, {'asset': 215.0, 'time': 0.001, 'option': 165.00174996968127}, {'asset': 217.5, 'time': 0.001, 'option': 167.5017499696815}, {'asset': 220.0, 'time': 0.001, 'option': 170.0017499696813}, {'asset': 222.5, 'time': 0.001, 'option': 172.50174996968065}, {'asset': 225.0, 'time': 0.001, 'option': 175.00174996968144}, {'asset': 227.5, 'time': 0.001, 'option': 177.50174996968005}, {'asset': 230.0, 'time': 0.001, 'option': 180.00174996956676}, {'asset': 232.5, 'time': 0.001, 'option': 182.50174996382157}, {'asset': 235.0, 'time': 0.001, 'option': 185.0017497169465}, {'asset': 237.5, 'time': 0.001, 'option': 187.501740898661}, {'asset': 240.0, 'time': 0.001, 'option': 190.00148606186536}, {'asset': 242.5, 'time': 0.001, 'option': 192.49575528848771}, {'asset': 245.0, 'time': 0.001, 'option': 194.90136509328266}, {'asset': 247.5, 'time': 0.001, 'option': 196.37814865394446}]\n"
     ]
    }
   ],
   "source": [
    "info = option.get_info()\n",
    "print(info[100])\n",
    "print(len(info(100)))"
   ]
  },
  {
   "cell_type": "code",
   "execution_count": 9,
   "metadata": {},
   "outputs": [
    {
     "name": "stdout",
     "output_type": "stream",
     "text": [
      "hello\n",
      "dict_keys([0, 1, 2, 3, 4, 5, 6, 7, 8, 9, 10, 11, 12, 13, 14, 15, 16, 17, 18, 19, 20, 21, 22, 23, 24, 25, 26, 27, 28, 29, 30, 31, 32, 33, 34, 35, 36, 37, 38, 39, 40, 41, 42, 43, 44, 45, 46, 47, 48, 49, 50, 51, 52, 53, 54, 55, 56, 57, 58, 59, 60, 61, 62, 63, 64, 65, 66, 67, 68, 69, 70, 71, 72, 73, 74, 75, 76, 77, 78, 79, 80, 81, 82, 83, 84, 85, 86, 87, 88, 89, 90, 91, 92, 93, 94, 95, 96, 97, 98, 99])\n",
      "100\n",
      "100000\n",
      "99999\n"
     ]
    }
   ],
   "source": [
    "# using t to predict t+1, \n",
    "data = {}\n",
    "\n",
    "price_key = option.print_grid()\n",
    "\n",
    "\n",
    "print(price_key.keys())\n",
    "print(len(price_key))\n",
    "print(len(price_key[0]))\n",
    "\n",
    "\n",
    "# data['t'] = list(price_key.keys())[:-1]\n",
    "k=0\n",
    "for i in option.i_values:\n",
    "    data[f'input{k}'] = price_key[i][:-1]\n",
    "    k+=1\n",
    "    pass\n",
    "\n",
    "k=0\n",
    "for i in option.i_values:\n",
    "    data[f'output{k}'] = price_key[i][1:]\n",
    "    k+=1\n",
    "    pass\n",
    "\n",
    "print(len(data['output1']))\n",
    "\n",
    "df = pd.DataFrame.from_dict(data)\n",
    "df.to_csv('100000sample.csv', index = False)\n"
   ]
  },
  {
   "cell_type": "code",
   "execution_count": null,
   "metadata": {},
   "outputs": [],
   "source": [
    "x = [0,1,1,1,1,1,2,3,4,5,45,8]\n",
    "print(x[:-1])"
   ]
  },
  {
   "cell_type": "code",
   "execution_count": null,
   "metadata": {},
   "outputs": [],
   "source": [
    "print(np.arange(100))\n",
    "print(list(range(100)))"
   ]
  },
  {
   "attachments": {},
   "cell_type": "markdown",
   "metadata": {},
   "source": [
    "# Data Random Generation"
   ]
  },
  {
   "cell_type": "code",
   "execution_count": null,
   "metadata": {},
   "outputs": [],
   "source": [
    "# S (spot price)\n",
    "# gamma\n",
    "def thisS(q):\n",
    "    return gamma.ppf(q, a = 100, scale = 1)\n",
    "\n",
    "# K (strike price)\n",
    "# uniform (lower = 50, upper = 200)\n",
    "def thisK(q):\n",
    "    return uniform.ppf(q, 50, 200)\n",
    "\n",
    "# (interest rate)\n",
    "# uniform (lower = 0.01, upper = 0.18)\n",
    "def thisR(q):\n",
    "    return uniform.ppf(q, 0.01, 0.18)\n",
    "\n",
    "\n",
    "# D (dividend)\n",
    "# uniform (lower = 0.01, upper = 0.18)\n",
    "def thisD(q):\n",
    "    return 0\n",
    "    # return uniform.ppf(q, 0.01, 0.18)\n",
    "\n",
    "# t (time-to-maturity)\n",
    "# t will be 3, 6, 9, 12 months for all examples (0.25, 0.5, 0.75, 1 year)\n",
    "\n",
    "# sigma (volatility)\n",
    "# beta (add small amount so volatility cannot be zero)\n",
    "def thisSigma(q):\n",
    "    return (beta.ppf(q, a = 2, b = 5) + 0.001)\n",
    "\n",
    "\n",
    "\n",
    "# Control the total number of data\n",
    "num_increment = 12\n",
    "percentiles = pd.Series(np.linspace(0.01, 0.99, num_increment))\n",
    "print(percentiles)\n",
    "\n",
    "\n",
    "\n",
    "# Generation\n",
    "# S = percentiles.apply(thisS).to_numpy()\n",
    "# # print(S)\n",
    "# K = percentiles.apply(thisK).to_numpy()\n",
    "# q = percentiles.apply(thisD).to_numpy()\n",
    "# t = np.array([.25, .5, .75, 1])\n",
    "# r = percentiles.apply(thisR).to_numpy()\n",
    "# sigma = percentiles.apply(thisSigma).to_numpy()"
   ]
  }
 ],
 "metadata": {
  "kernelspec": {
   "display_name": "tf",
   "language": "python",
   "name": "python3"
  },
  "language_info": {
   "codemirror_mode": {
    "name": "ipython",
    "version": 3
   },
   "file_extension": ".py",
   "mimetype": "text/x-python",
   "name": "python",
   "nbconvert_exporter": "python",
   "pygments_lexer": "ipython3",
   "version": "3.8.10"
  },
  "orig_nbformat": 4
 },
 "nbformat": 4,
 "nbformat_minor": 2
}
