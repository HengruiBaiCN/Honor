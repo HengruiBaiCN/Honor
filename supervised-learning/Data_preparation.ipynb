{
 "cells": [
  {
   "cell_type": "code",
   "execution_count": 19,
   "metadata": {},
   "outputs": [],
   "source": [
    "import numpy as np\n",
    "import pandas as pd\n",
    "import matplotlib.pyplot as plt\n",
    "\n",
    "\n",
    "from scipy.stats import gamma\n",
    "from scipy.stats import beta\n",
    "from scipy.stats import uniform\n",
    "\n",
    "from FDM import FDExplicitEu"
   ]
  },
  {
   "attachments": {},
   "cell_type": "markdown",
   "metadata": {},
   "source": [
    "# Initial data assigns\n",
    "\n",
    "Given fixed \n",
    "- volatility $\\sigma$,\n",
    "- spot price S0, \n",
    "- strike price K, \n",
    "- terminal time T, \n",
    "- risk-free rate r, \n",
    "- Max asset price Smax, \n",
    "- space discretization size M \n",
    "- time discretization size N\n",
    "\n",
    "The finite difference method can generate the option price range at each time step with respect to the asset price range. And the data is stored in a dictionary. \n"
   ]
  },
  {
   "cell_type": "code",
   "execution_count": 20,
   "metadata": {},
   "outputs": [],
   "source": [
    "sigma = 0.2     # asset price volatility \n",
    "S0 = 50         # spot price / asset price at time 0\n",
    "K = 50          # strike price\n",
    "q = 0           # dividend rate\n",
    "T = 1           # 1 year\n",
    "r = 0.035       # australia 10Y government bond\n",
    "Smax = int(5*K) # boundary asset price\n",
    "M = 100         # asset discretize size\n",
    "N = 1000        # time discretize size\n",
    "is_call = True  # option type"
   ]
  },
  {
   "cell_type": "code",
   "execution_count": 21,
   "metadata": {},
   "outputs": [
    {
     "name": "stdout",
     "output_type": "stream",
     "text": [
      "4.803264055067497\n"
     ]
    }
   ],
   "source": [
    "# initialise the option price to do calculation and generate data\n",
    "option = FDExplicitEu(S0, K, r, T, sigma, Smax, M, N, is_call)\n",
    "print(option.price())"
   ]
  },
  {
   "cell_type": "code",
   "execution_count": 22,
   "metadata": {},
   "outputs": [
    {
     "name": "stdout",
     "output_type": "stream",
     "text": [
      "1000\n"
     ]
    }
   ],
   "source": [
    "# using t to predict t+1, \n",
    "data = {}\n",
    "prices_range = option.print_grid()\n",
    "print(len(option.print_grid()))\n",
    "\n",
    "data['S0'] = [S0] * (N-1)\n",
    "data['K'] = [K] * (N-1)\n",
    "data['q'] = [q] * (N-1)\n",
    "data['T'] = [T] * (N-1)\n",
    "data['sigma'] = [sigma] * (N-1)\n",
    "data['r'] = [r] * (N-1)\n",
    "data['Smax'] = [Smax] * (N-1)\n",
    "data['M'] = [M] * (N-1)\n",
    "data['N'] = [N] * (N-1)\n",
    "# print(data)\n",
    "data['t'] = list(prices_range.keys())[:-1]\n",
    "data['input'] = list(prices_range.values())[:-1]\n",
    "data['output'] = list(prices_range.values())[1:]\n",
    "\n",
    "df = pd.DataFrame.from_dict(data)\n",
    "df.to_csv('1000sample.csv', index = False)\n"
   ]
  },
  {
   "cell_type": "code",
   "execution_count": 23,
   "metadata": {},
   "outputs": [
    {
     "name": "stdout",
     "output_type": "stream",
     "text": [
      "[0, 1, 1, 1, 1, 1, 2, 3, 4, 5, 45]\n"
     ]
    }
   ],
   "source": [
    "x = [0,1,1,1,1,1,2,3,4,5,45,8]\n",
    "print(x[:-1])"
   ]
  },
  {
   "attachments": {},
   "cell_type": "markdown",
   "metadata": {},
   "source": [
    "# Data Random Generation"
   ]
  },
  {
   "cell_type": "code",
   "execution_count": null,
   "metadata": {},
   "outputs": [],
   "source": [
    "# S (spot price)\n",
    "# gamma\n",
    "def thisS(q):\n",
    "    return gamma.ppf(q, a = 100, scale = 1)\n",
    "\n",
    "# K (strike price)\n",
    "# uniform (lower = 50, upper = 200)\n",
    "def thisK(q):\n",
    "    return uniform.ppf(q, 50, 200)\n",
    "\n",
    "# (interest rate)\n",
    "# uniform (lower = 0.01, upper = 0.18)\n",
    "def thisR(q):\n",
    "    return uniform.ppf(q, 0.01, 0.18)\n",
    "\n",
    "\n",
    "# D (dividend)\n",
    "# uniform (lower = 0.01, upper = 0.18)\n",
    "def thisD(q):\n",
    "    return 0\n",
    "    # return uniform.ppf(q, 0.01, 0.18)\n",
    "\n",
    "# t (time-to-maturity)\n",
    "# t will be 3, 6, 9, 12 months for all examples (0.25, 0.5, 0.75, 1 year)\n",
    "\n",
    "# sigma (volatility)\n",
    "# beta (add small amount so volatility cannot be zero)\n",
    "def thisSigma(q):\n",
    "    return (beta.ppf(q, a = 2, b = 5) + 0.001)\n",
    "\n",
    "\n",
    "\n",
    "# Control the total number of data\n",
    "num_increment = 12\n",
    "percentiles = pd.Series(np.linspace(0.01, 0.99, num_increment))\n",
    "print(percentiles)\n",
    "\n",
    "\n",
    "\n",
    "# Generation\n",
    "# S = percentiles.apply(thisS).to_numpy()\n",
    "# # print(S)\n",
    "# K = percentiles.apply(thisK).to_numpy()\n",
    "# q = percentiles.apply(thisD).to_numpy()\n",
    "# t = np.array([.25, .5, .75, 1])\n",
    "# r = percentiles.apply(thisR).to_numpy()\n",
    "# sigma = percentiles.apply(thisSigma).to_numpy()"
   ]
  }
 ],
 "metadata": {
  "kernelspec": {
   "display_name": "tf",
   "language": "python",
   "name": "python3"
  },
  "language_info": {
   "codemirror_mode": {
    "name": "ipython",
    "version": 3
   },
   "file_extension": ".py",
   "mimetype": "text/x-python",
   "name": "python",
   "nbconvert_exporter": "python",
   "pygments_lexer": "ipython3",
   "version": "3.9.16"
  },
  "orig_nbformat": 4
 },
 "nbformat": 4,
 "nbformat_minor": 2
}
