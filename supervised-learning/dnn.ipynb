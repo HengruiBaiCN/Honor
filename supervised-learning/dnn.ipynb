{
 "cells": [
  {
   "cell_type": "code",
   "execution_count": 1,
   "metadata": {},
   "outputs": [],
   "source": [
    "import numpy as np\n",
    "import pandas as pd\n",
    "import tensorflow as tf\n",
    "import matplotlib.pyplot as plt\n",
    "import scipy.io as sio\n",
    "import keras\n",
    "import keras.backend as K\n",
    "\n",
    "from sklearn.model_selection import ParameterGrid\n",
    "from py_vollib import black_scholes_merton as bsm\n",
    "from progressbar import ProgressBar\n",
    "\n",
    "from keras.models import Model\n",
    "from keras.layers import Input, Dense\n",
    "from sklearn.model_selection import train_test_split\n",
    "\n",
    "import scipy.sparse\n",
    "from mpl_toolkits.mplot3d import Axes3D"
   ]
  },
  {
   "cell_type": "code",
   "execution_count": 3,
   "metadata": {},
   "outputs": [
    {
     "ename": "ValueError",
     "evalue": "Failed to convert a NumPy array to a Tensor (Unsupported object type int).",
     "output_type": "error",
     "traceback": [
      "\u001b[1;31m---------------------------------------------------------------------------\u001b[0m",
      "\u001b[1;31mValueError\u001b[0m                                Traceback (most recent call last)",
      "Cell \u001b[1;32mIn[3], line 21\u001b[0m\n\u001b[0;32m     18\u001b[0m \u001b[39m# z = fullDF[['fdm-price']]\u001b[39;00m\n\u001b[0;32m     20\u001b[0m X_train, X_test, y_train, y_test \u001b[39m=\u001b[39m train_test_split(X, y, test_size\u001b[39m=\u001b[39m\u001b[39m0.1\u001b[39m, random_state \u001b[39m=\u001b[39m \u001b[39m7\u001b[39m)\n\u001b[1;32m---> 21\u001b[0m history_full \u001b[39m=\u001b[39m model_full\u001b[39m.\u001b[39;49mfit(X_train, y_train, batch_size \u001b[39m=\u001b[39;49m \u001b[39m64\u001b[39;49m, epochs \u001b[39m=\u001b[39;49m \u001b[39m20\u001b[39;49m, verbose \u001b[39m=\u001b[39;49m \u001b[39m2\u001b[39;49m, validation_split\u001b[39m=\u001b[39;49m\u001b[39m0.2\u001b[39;49m) \u001b[39m# set batch size to 1\u001b[39;00m\n\u001b[0;32m     23\u001b[0m plt\u001b[39m.\u001b[39mplot(history_full\u001b[39m.\u001b[39mhistory[\u001b[39m'\u001b[39m\u001b[39mval_loss\u001b[39m\u001b[39m'\u001b[39m])\n\u001b[0;32m     24\u001b[0m plt\u001b[39m.\u001b[39mtitle(\u001b[39m'\u001b[39m\u001b[39mModel validation loss\u001b[39m\u001b[39m'\u001b[39m)\n",
      "File \u001b[1;32mc:\\Users\\hengr\\miniconda3\\envs\\tf\\lib\\site-packages\\keras\\utils\\traceback_utils.py:70\u001b[0m, in \u001b[0;36mfilter_traceback.<locals>.error_handler\u001b[1;34m(*args, **kwargs)\u001b[0m\n\u001b[0;32m     67\u001b[0m     filtered_tb \u001b[39m=\u001b[39m _process_traceback_frames(e\u001b[39m.\u001b[39m__traceback__)\n\u001b[0;32m     68\u001b[0m     \u001b[39m# To get the full stack trace, call:\u001b[39;00m\n\u001b[0;32m     69\u001b[0m     \u001b[39m# `tf.debugging.disable_traceback_filtering()`\u001b[39;00m\n\u001b[1;32m---> 70\u001b[0m     \u001b[39mraise\u001b[39;00m e\u001b[39m.\u001b[39mwith_traceback(filtered_tb) \u001b[39mfrom\u001b[39;00m \u001b[39mNone\u001b[39m\n\u001b[0;32m     71\u001b[0m \u001b[39mfinally\u001b[39;00m:\n\u001b[0;32m     72\u001b[0m     \u001b[39mdel\u001b[39;00m filtered_tb\n",
      "File \u001b[1;32mc:\\Users\\hengr\\miniconda3\\envs\\tf\\lib\\site-packages\\tensorflow\\python\\framework\\constant_op.py:102\u001b[0m, in \u001b[0;36mconvert_to_eager_tensor\u001b[1;34m(value, ctx, dtype)\u001b[0m\n\u001b[0;32m    100\u001b[0m     dtype \u001b[39m=\u001b[39m dtypes\u001b[39m.\u001b[39mas_dtype(dtype)\u001b[39m.\u001b[39mas_datatype_enum\n\u001b[0;32m    101\u001b[0m ctx\u001b[39m.\u001b[39mensure_initialized()\n\u001b[1;32m--> 102\u001b[0m \u001b[39mreturn\u001b[39;00m ops\u001b[39m.\u001b[39;49mEagerTensor(value, ctx\u001b[39m.\u001b[39;49mdevice_name, dtype)\n",
      "\u001b[1;31mValueError\u001b[0m: Failed to convert a NumPy array to a Tensor (Unsupported object type int)."
     ]
    }
   ],
   "source": [
    "# testing neural network (full data)\n",
    "df = pd.read_csv(\"1000sample.csv\")\n",
    "\n",
    "with tf.device(device_name='/GPU:0'):\n",
    "    network = models.Sequential()\n",
    "    \n",
    "    pass\n",
    "\n",
    "# create model \n",
    "def baseline_model():\n",
    "    # layers\n",
    "    i = Input(shape=(11,))\n",
    "    x = Dense(10, activation='relu')(i)\n",
    "    y = Dense(10, activation='relu')(x)\n",
    "    o = Dense(1)(y)\n",
    "    model = Model(i, o)\n",
    "    model.compile(loss=\"mse\", optimizer= \"adam\")\n",
    "    return model\n",
    "\n",
    "model_full = baseline_model()\n",
    "X = df[['S0', 'K', 'q', 'T', 'sigma', 'r', 'Smax', 'M', 'N', 'T', 'input']]\n",
    "y = df[['output']]\n",
    "# z = fullDF[['fdm-price']]\n",
    "\n",
    "X_train, X_test, y_train, y_test = train_test_split(X, y, test_size=0.1, random_state = 7)\n",
    "history_full = model_full.fit(X_train, y_train, batch_size = 64, epochs = 20, verbose = 2, validation_split=0.2) # set batch size to 1\n",
    "\n",
    "plt.plot(history_full.history['val_loss'])\n",
    "plt.title('Model validation loss')\n",
    "plt.ylabel('Validation Loss')\n",
    "plt.xlabel('Epoch')\n",
    "plt.legend(['Error', 'Test'], loc='upper left')\n",
    "plt.show()\n",
    "X_test_full = X_test\n",
    "y_test_full = y_test\n",
    "model_full.evaluate(x = X_test, y = y_test)"
   ]
  }
 ],
 "metadata": {
  "kernelspec": {
   "display_name": "tf",
   "language": "python",
   "name": "python3"
  },
  "language_info": {
   "codemirror_mode": {
    "name": "ipython",
    "version": 3
   },
   "file_extension": ".py",
   "mimetype": "text/x-python",
   "name": "python",
   "nbconvert_exporter": "python",
   "pygments_lexer": "ipython3",
   "version": "3.9.16"
  },
  "orig_nbformat": 4
 },
 "nbformat": 4,
 "nbformat_minor": 2
}
