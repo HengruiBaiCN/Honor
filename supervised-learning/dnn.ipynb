{
 "cells": [
  {
   "cell_type": "code",
   "execution_count": 1,
   "metadata": {},
   "outputs": [
    {
     "name": "stdout",
     "output_type": "stream",
     "text": [
      "TensorFlow version: 2.10.1\n"
     ]
    }
   ],
   "source": [
    "import numpy as np\n",
    "import pandas as pd\n",
    "import tensorflow as tf\n",
    "import matplotlib.pyplot as plt\n",
    "import time\n",
    "\n",
    "from sklearn.model_selection import ParameterGrid\n",
    "from sklearn.model_selection import train_test_split\n",
    "\n",
    "\n",
    "import keras\n",
    "import keras.backend as K\n",
    "from keras import models\n",
    "from keras import layers\n",
    "from keras.optimizers import RMSprop\n",
    "from keras.optimizers import Adam\n",
    "from keras.models import Model\n",
    "from keras.layers import Input, Dense\n",
    "\n",
    "\n",
    "import scipy.io as sio\n",
    "\n",
    "import scipy.sparse\n",
    "from mpl_toolkits.mplot3d import Axes3D\n",
    "\n",
    "print(\"TensorFlow version:\", tf.__version__)"
   ]
  },
  {
   "attachments": {},
   "cell_type": "markdown",
   "metadata": {},
   "source": [
    "# Build Neural Network Model"
   ]
  },
  {
   "cell_type": "code",
   "execution_count": 2,
   "metadata": {},
   "outputs": [],
   "source": [
    "def model_1():\n",
    "        network = models.Sequential()\n",
    "        \n",
    "        # define layers of the neural network\n",
    "        network.add(layers.Dense(25, activation='tanh', kernel_initializer='random_normal', use_bias=False, input_dim = 20))\n",
    "        network.add(layers.Dense(25, activation='tanh', kernel_initializer='random_normal',  use_bias=False))\n",
    "        network.add(layers.Dense(25, activation='tanh', kernel_initializer='random_normal',  use_bias=False))\n",
    "        network.add(layers.Dense(20, activation='relu', kernel_initwializer='random_uniform', use_bias=False))\n",
    "        # network.add(layers.Dense(4, activation = 'linear',kernel_initializer='random_normal',use_bias=False))\n",
    "        # number of training neurons = 20*25+25*25+25*25+25*20\n",
    "        \n",
    "        # define the optimizer, with different loss function\n",
    "        # network.compile(optimizer = RMSprop(), loss='mean_squared_error', metrics=['mse'])\n",
    "        #network.compile(optimizer=RMSprop(), loss='mean_absolute_percentage_error', metrics=['mse'])  # 'mean_absolute_percentage_error' is another option\n",
    "        network.compile(optimizer=Adam(), loss='mean_squared_error')\n",
    "        return network"
   ]
  },
  {
   "cell_type": "code",
   "execution_count": 3,
   "metadata": {},
   "outputs": [],
   "source": [
    "def model_2():\n",
    "        network = models.Sequential()\n",
    "        \n",
    "        # define layers of the neural network\n",
    "        network.add(layers.Dense(100, activation='tanh', kernel_initializer='random_normal', use_bias=False, input_dim = 100))\n",
    "        network.add(layers.Dense(100, activation='tanh', kernel_initializer='random_normal',  use_bias=False))\n",
    "        network.add(layers.Dense(100, activation='tanh', kernel_initializer='random_normal',  use_bias=False))\n",
    "        network.add(layers.Dense(100, activation='relu', kernel_initializer='random_uniform', use_bias=False))\n",
    "        # network.add(layers.Dense(4, activation = 'linear',kernel_initializer='random_normal',use_bias=False))\n",
    "        # number of training neurons = \n",
    "        \n",
    "        # define the optimizer, with different loss function\n",
    "        # network.compile(optimizer = RMSprop(), loss='mean_squared_error', metrics=['mse'])\n",
    "        #network.compile(optimizer=RMSprop(), loss='mean_absolute_percentage_error', metrics=['mse'])  # 'mean_absolute_percentage_error' is another option\n",
    "        network.compile(optimizer=Adam(), loss='mean_squared_error')\n",
    "        return network"
   ]
  },
  {
   "cell_type": "code",
   "execution_count": 30,
   "metadata": {},
   "outputs": [],
   "source": [
    "def model_3():\n",
    "        network = models.Sequential()\n",
    "        \n",
    "        # define layers of the neural network\n",
    "        network.add(layers.Dense(25, activation='tanh', kernel_initializer='random_normal', use_bias=False, input_dim = 25))\n",
    "        # network.add(layers.Dense(25, activation='tanh', kernel_initializer='random_normal',  use_bias=False))\n",
    "        network.add(layers.Dense(25, activation='tanh', kernel_initializer='random_normal',  use_bias=False))\n",
    "        # network.add(layers.Dense(25, activation='tanh', kernel_initializer='random_normal',  use_bias=False))\n",
    "        # network.add(layers.Dense(25, activation='tanh', kernel_initializer='random_normal',  use_bias=False))\n",
    "        # network.add(layers.Dense(25, activation='tanh', kernel_initializer='random_normal',  use_bias=False))\n",
    "        network.add(layers.Dense(25, activation='relu', kernel_initializer='random_uniform', use_bias=False))\n",
    "        # network.add(layers.Dense(4, activation = 'linear',kernel_initializer='random_normal',use_bias=False))\n",
    "        # number of training neurons = 20*25+25*25+25*25+25*20\n",
    "        \n",
    "        # define the optimizer, with different loss function\n",
    "        # network.compile(optimizer = RMSprop(), loss='mean_squared_error', metrics=['mse'])\n",
    "        #network.compile(optimizer=RMSprop(), loss='mean_absolute_percentage_error', metrics=['mse'])  # 'mean_absolute_percentage_error' is another option\n",
    "        network.compile(optimizer=Adam(), loss='mean_squared_error')\n",
    "        return network"
   ]
  },
  {
   "attachments": {},
   "cell_type": "markdown",
   "metadata": {},
   "source": [
    "# Neural Network of Non-linear equation"
   ]
  },
  {
   "cell_type": "code",
   "execution_count": 3,
   "metadata": {},
   "outputs": [
    {
     "name": "stdout",
     "output_type": "stream",
     "text": [
      "Epoch 1/50\n",
      "1125/1125 - 3s - loss: 0.3161 - val_loss: 0.0034 - 3s/epoch - 2ms/step\n",
      "Epoch 2/50\n",
      "1125/1125 - 1s - loss: 9.3750e-04 - val_loss: 1.8648e-04 - 1s/epoch - 1ms/step\n",
      "Epoch 3/50\n",
      "1125/1125 - 1s - loss: 1.3729e-04 - val_loss: 7.9906e-05 - 1s/epoch - 1ms/step\n",
      "Epoch 4/50\n",
      "1125/1125 - 1s - loss: 7.4924e-05 - val_loss: 7.4230e-05 - 1s/epoch - 1ms/step\n",
      "Epoch 5/50\n",
      "1125/1125 - 1s - loss: 4.4260e-05 - val_loss: 2.1192e-05 - 1s/epoch - 1ms/step\n",
      "Epoch 6/50\n",
      "1125/1125 - 1s - loss: 2.9173e-05 - val_loss: 3.8032e-05 - 1s/epoch - 1ms/step\n",
      "Epoch 7/50\n",
      "1125/1125 - 1s - loss: 2.7420e-05 - val_loss: 7.8150e-05 - 1s/epoch - 1ms/step\n",
      "Epoch 8/50\n",
      "1125/1125 - 1s - loss: 1.8268e-05 - val_loss: 2.7444e-05 - 1s/epoch - 1ms/step\n",
      "Epoch 9/50\n",
      "1125/1125 - 1s - loss: 1.9400e-05 - val_loss: 8.1637e-06 - 1s/epoch - 1ms/step\n",
      "Epoch 10/50\n",
      "1125/1125 - 1s - loss: 1.5751e-05 - val_loss: 4.7335e-06 - 1s/epoch - 1ms/step\n",
      "Epoch 11/50\n",
      "1125/1125 - 1s - loss: 1.9356e-05 - val_loss: 6.9696e-06 - 1s/epoch - 1ms/step\n",
      "Epoch 12/50\n",
      "1125/1125 - 1s - loss: 1.0781e-05 - val_loss: 1.4472e-05 - 1s/epoch - 1ms/step\n",
      "Epoch 13/50\n",
      "1125/1125 - 1s - loss: 1.4622e-05 - val_loss: 1.3451e-05 - 1s/epoch - 1ms/step\n",
      "Epoch 14/50\n",
      "1125/1125 - 1s - loss: 1.3961e-05 - val_loss: 4.4572e-06 - 1s/epoch - 1ms/step\n",
      "Epoch 15/50\n",
      "1125/1125 - 1s - loss: 1.0669e-05 - val_loss: 7.2217e-06 - 1s/epoch - 1ms/step\n",
      "Epoch 16/50\n",
      "1125/1125 - 1s - loss: 1.0671e-05 - val_loss: 2.0914e-05 - 1s/epoch - 1ms/step\n",
      "Epoch 17/50\n",
      "1125/1125 - 1s - loss: 1.2158e-05 - val_loss: 2.3830e-06 - 1s/epoch - 1ms/step\n",
      "Epoch 18/50\n",
      "1125/1125 - 1s - loss: 1.1023e-05 - val_loss: 1.7303e-06 - 1s/epoch - 1ms/step\n",
      "Epoch 19/50\n",
      "1125/1125 - 1s - loss: 1.1652e-05 - val_loss: 2.3455e-06 - 1s/epoch - 1ms/step\n",
      "Epoch 20/50\n",
      "1125/1125 - 1s - loss: 9.5899e-06 - val_loss: 5.1919e-05 - 1s/epoch - 1ms/step\n",
      "Epoch 21/50\n",
      "1125/1125 - 1s - loss: 1.0077e-05 - val_loss: 1.7531e-06 - 1s/epoch - 1ms/step\n",
      "Epoch 22/50\n",
      "1125/1125 - 1s - loss: 1.9052e-05 - val_loss: 9.7705e-07 - 1s/epoch - 1ms/step\n",
      "Epoch 23/50\n",
      "1125/1125 - 1s - loss: 4.4221e-06 - val_loss: 7.5193e-07 - 1s/epoch - 1ms/step\n",
      "Epoch 24/50\n",
      "1125/1125 - 1s - loss: 1.3281e-05 - val_loss: 9.4656e-07 - 1s/epoch - 1ms/step\n",
      "Epoch 25/50\n",
      "1125/1125 - 1s - loss: 7.6785e-06 - val_loss: 1.4396e-06 - 1s/epoch - 1ms/step\n",
      "Epoch 26/50\n",
      "1125/1125 - 1s - loss: 7.0985e-06 - val_loss: 1.3509e-05 - 1s/epoch - 1ms/step\n",
      "Epoch 27/50\n",
      "1125/1125 - 1s - loss: 9.4325e-06 - val_loss: 1.8846e-06 - 1s/epoch - 1ms/step\n",
      "Epoch 28/50\n",
      "1125/1125 - 1s - loss: 8.0806e-06 - val_loss: 2.7747e-06 - 1s/epoch - 1ms/step\n",
      "Epoch 29/50\n",
      "1125/1125 - 1s - loss: 8.1466e-06 - val_loss: 9.9586e-07 - 1s/epoch - 1ms/step\n",
      "Epoch 30/50\n",
      "1125/1125 - 1s - loss: 9.3707e-06 - val_loss: 3.5728e-05 - 1s/epoch - 1ms/step\n",
      "Epoch 31/50\n",
      "1125/1125 - 1s - loss: 8.7298e-06 - val_loss: 3.8505e-07 - 1s/epoch - 1ms/step\n",
      "Epoch 32/50\n",
      "1125/1125 - 1s - loss: 6.9724e-06 - val_loss: 1.6239e-06 - 1s/epoch - 1ms/step\n",
      "Epoch 33/50\n",
      "1125/1125 - 1s - loss: 9.3704e-06 - val_loss: 8.1902e-06 - 1s/epoch - 1ms/step\n",
      "Epoch 34/50\n",
      "1125/1125 - 1s - loss: 8.3188e-06 - val_loss: 1.3873e-05 - 1s/epoch - 1ms/step\n",
      "Epoch 35/50\n",
      "1125/1125 - 1s - loss: 8.1677e-06 - val_loss: 5.6939e-07 - 1s/epoch - 1ms/step\n",
      "Epoch 36/50\n",
      "1125/1125 - 1s - loss: 8.3870e-06 - val_loss: 2.8327e-06 - 1s/epoch - 1ms/step\n",
      "Epoch 37/50\n",
      "1125/1125 - 1s - loss: 7.8050e-06 - val_loss: 6.1125e-07 - 1s/epoch - 1ms/step\n",
      "Epoch 38/50\n",
      "1125/1125 - 1s - loss: 7.5614e-06 - val_loss: 5.6430e-07 - 1s/epoch - 1ms/step\n",
      "Epoch 39/50\n",
      "1125/1125 - 1s - loss: 6.4781e-06 - val_loss: 3.4333e-06 - 1s/epoch - 1ms/step\n",
      "Epoch 40/50\n",
      "1125/1125 - 1s - loss: 8.2856e-06 - val_loss: 1.2257e-05 - 1s/epoch - 1ms/step\n",
      "Epoch 41/50\n",
      "1125/1125 - 1s - loss: 8.0303e-06 - val_loss: 1.8322e-05 - 1s/epoch - 1ms/step\n",
      "Epoch 42/50\n",
      "1125/1125 - 1s - loss: 9.0810e-06 - val_loss: 7.3563e-07 - 1s/epoch - 1ms/step\n",
      "Epoch 43/50\n",
      "1125/1125 - 1s - loss: 5.4787e-06 - val_loss: 1.0727e-06 - 1s/epoch - 1ms/step\n",
      "Epoch 44/50\n",
      "1125/1125 - 1s - loss: 8.5090e-06 - val_loss: 7.6028e-05 - 1s/epoch - 1ms/step\n",
      "Epoch 45/50\n",
      "1125/1125 - 1s - loss: 7.7165e-06 - val_loss: 5.9139e-07 - 1s/epoch - 1ms/step\n",
      "Epoch 46/50\n",
      "1125/1125 - 1s - loss: 7.8667e-06 - val_loss: 4.6278e-05 - 1s/epoch - 1ms/step\n",
      "Epoch 47/50\n",
      "1125/1125 - 1s - loss: 9.0034e-06 - val_loss: 3.3362e-06 - 1s/epoch - 1ms/step\n",
      "Epoch 48/50\n",
      "1125/1125 - 1s - loss: 8.3487e-06 - val_loss: 2.0916e-05 - 1s/epoch - 1ms/step\n",
      "Epoch 49/50\n",
      "1125/1125 - 1s - loss: 6.1136e-06 - val_loss: 2.4134e-06 - 1s/epoch - 1ms/step\n",
      "Epoch 50/50\n",
      "1125/1125 - 1s - loss: 1.2031e-05 - val_loss: 1.4558e-05 - 1s/epoch - 1ms/step\n"
     ]
    }
   ],
   "source": [
    "# testing neural network\n",
    "# df = pd.read_csv(\"1000sample.csv\")\n",
    "df = pd.read_csv(\"test_sample.csv\")\n",
    "\n",
    "with tf.device(device_name='/GPU:0'):\n",
    "    \n",
    "    model = model_1()\n",
    "    input_data = []\n",
    "    output_data = []\n",
    "    for k in range(20):\n",
    "        input_data.append(f'input{k}')\n",
    "        output_data.append(f'output{k}')\n",
    "        pass\n",
    "    X = df[input_data]\n",
    "    y = df[output_data]\n",
    "    \n",
    "    start_time = time.time()\n",
    "    X_train, X_test, y_train, y_test = train_test_split(X, y, test_size=0.1, random_state = 7)\n",
    "    history_full = model.fit(X_train, y_train, batch_size = 64, epochs = 50, verbose = 2, validation_split=0.2) # set batch size to 1\n",
    "    end_time = time.time()\n",
    "    pass"
   ]
  },
  {
   "cell_type": "code",
   "execution_count": 4,
   "metadata": {},
   "outputs": [
    {
     "data": {
      "image/png": "[encoded data removed]",
      "text/plain": [
       "<Figure size 640x480 with 1 Axes>"
      ]
     },
     "metadata": {},
     "output_type": "display_data"
    },
    {
     "name": "stdout",
     "output_type": "stream",
     "text": [
      "313/313 [==============================] - 0s 835us/step - loss: 1.4565e-05\n",
      "the testing error is:  1.4565217497874983e-05\n"
     ]
    }
   ],
   "source": [
    "plt.plot(history_full.history['val_loss'])\n",
    "plt.title('Model validation loss')\n",
    "plt.ylabel('Validation Loss')\n",
    "plt.xlabel('Epoch')\n",
    "plt.legend(['Error', 'Test'], loc='upper left')\n",
    "plt.show()\n",
    "X_test_full = X_test\n",
    "y_test_full = y_test\n",
    "print(\"the testing error is: \", model.evaluate(x = X_test, y = y_test))"
   ]
  },
  {
   "attachments": {},
   "cell_type": "markdown",
   "metadata": {},
   "source": [
    "# Neural Network of BS equation"
   ]
  },
  {
   "cell_type": "code",
   "execution_count": 33,
   "metadata": {},
   "outputs": [
    {
     "name": "stdout",
     "output_type": "stream",
     "text": [
      "Epoch 1/20\n",
      "1125/1125 - 1s - loss: 8298.4707 - val_loss: 6955.0762 - 1s/epoch - 1ms/step\n",
      "Epoch 2/20\n",
      "1125/1125 - 1s - loss: 5933.0962 - val_loss: 5028.6577 - 1s/epoch - 1ms/step\n",
      "Epoch 3/20\n",
      "1125/1125 - 1s - loss: 4326.2261 - val_loss: 3708.1938 - 1s/epoch - 1ms/step\n",
      "Epoch 4/20\n",
      "1125/1125 - 1s - loss: 3240.8044 - val_loss: 2837.6904 - 1s/epoch - 1ms/step\n",
      "Epoch 5/20\n",
      "1125/1125 - 1s - loss: 2548.9238 - val_loss: 2308.5417 - 1s/epoch - 1ms/step\n",
      "Epoch 6/20\n",
      "1125/1125 - 1s - loss: 2150.7827 - val_loss: 2026.0591 - 1s/epoch - 1ms/step\n",
      "Epoch 7/20\n",
      "1125/1125 - 1s - loss: 1953.6587 - val_loss: 1900.5167 - 1s/epoch - 1ms/step\n",
      "Epoch 8/20\n",
      "1125/1125 - 1s - loss: 1875.0198 - val_loss: 1858.4398 - 1s/epoch - 1ms/step\n",
      "Epoch 9/20\n",
      "1125/1125 - 1s - loss: 1852.7837 - val_loss: 1849.8525 - 1s/epoch - 1ms/step\n",
      "Epoch 10/20\n",
      "1125/1125 - 1s - loss: 1849.3647 - val_loss: 1849.1846 - 1s/epoch - 1ms/step\n",
      "Epoch 11/20\n",
      "1125/1125 - 1s - loss: 1849.1893 - val_loss: 1849.1760 - 1s/epoch - 1ms/step\n",
      "Epoch 12/20\n",
      "1125/1125 - 1s - loss: 1849.1871 - val_loss: 1849.1768 - 1s/epoch - 1ms/step\n",
      "Epoch 13/20\n",
      "1125/1125 - 1s - loss: 1849.1865 - val_loss: 1849.1758 - 1s/epoch - 1ms/step\n",
      "Epoch 14/20\n",
      "1125/1125 - 1s - loss: 1849.1874 - val_loss: 1849.1763 - 1s/epoch - 1ms/step\n",
      "Epoch 15/20\n",
      "1125/1125 - 1s - loss: 1849.1871 - val_loss: 1849.1764 - 1s/epoch - 1ms/step\n",
      "Epoch 16/20\n",
      "1125/1125 - 1s - loss: 1849.1863 - val_loss: 1849.1763 - 1s/epoch - 1ms/step\n",
      "Epoch 17/20\n",
      "1125/1125 - 1s - loss: 1849.1866 - val_loss: 1849.1764 - 1s/epoch - 1ms/step\n",
      "Epoch 18/20\n",
      "1125/1125 - 1s - loss: 1849.1865 - val_loss: 1849.1757 - 1s/epoch - 1ms/step\n",
      "Epoch 19/20\n",
      "1125/1125 - 1s - loss: 1849.1863 - val_loss: 1849.1766 - 1s/epoch - 1ms/step\n",
      "Epoch 20/20\n",
      "1125/1125 - 1s - loss: 1849.1863 - val_loss: 1849.1776 - 1s/epoch - 1ms/step\n"
     ]
    }
   ],
   "source": [
    "df = pd.read_csv(\"25sample.csv\")\n",
    "# df = pd.read_csv(\"test_sample.csv\")\n",
    "\n",
    "with tf.device(device_name='/GPU:0'):\n",
    "    \n",
    "    model = model_3()\n",
    "    input_data = []\n",
    "    output_data = []\n",
    "    for k in range(25):\n",
    "        input_data.append(f'input{k}')\n",
    "        output_data.append(f'output{k}')\n",
    "        pass\n",
    "    X = df[input_data]\n",
    "    y = df[output_data]\n",
    "    \n",
    "    start_time = time.time()\n",
    "    X_train, X_test, y_train, y_test = train_test_split(X, y, test_size=0.1, random_state = 7)\n",
    "    history_full = model.fit(X_train, y_train, batch_size = 64, epochs = 20, verbose = 2, validation_split=0.2) # set batch size to 1\n",
    "    end_time = time.time()\n",
    "    pass"
   ]
  },
  {
   "cell_type": "code",
   "execution_count": 35,
   "metadata": {},
   "outputs": [
    {
     "data": {
      "image/png": "[encoded data removed]",
      "text/plain": [
       "<Figure size 640x480 with 1 Axes>"
      ]
     },
     "metadata": {},
     "output_type": "display_data"
    },
    {
     "name": "stdout",
     "output_type": "stream",
     "text": [
      "313/313 [==============================] - 0s 759us/step - loss: 1849.1974\n",
      "the testing error is:  1849.1973876953125\n"
     ]
    }
   ],
   "source": [
    "plt.plot(history_full.history['val_loss'])\n",
    "plt.title('Model validation loss')\n",
    "plt.ylabel('Validation Loss')\n",
    "plt.xlabel('Epoch')\n",
    "plt.legend(['Error', 'Test'], loc='upper left')\n",
    "plt.show()\n",
    "X_test_full = X_test\n",
    "y_test_full = y_test\n",
    "print(\"the testing error is: \", model.evaluate(x = X_test, y = y_test))"
   ]
  },
  {
   "cell_type": "code",
   "execution_count": 36,
   "metadata": {},
   "outputs": [
    {
     "name": "stdout",
     "output_type": "stream",
     "text": [
      "[[0.00000000e+00 0.00000000e+00 6.12622969e-22 2.13085222e-15\n",
      "  1.37473593e-09 2.34996969e-04 1.00000700e+01 2.00000700e+01\n",
      "  3.00000700e+01 4.00000700e+01 5.00000700e+01 6.00000700e+01\n",
      "  7.00000700e+01 8.00000700e+01 9.00000700e+01 1.00000070e+02\n",
      "  1.10000070e+02 1.20000070e+02 1.30000070e+02 1.40000070e+02\n",
      "  1.50000070e+02 1.60000070e+02 1.70000070e+02 1.80000070e+02\n",
      "  1.90000070e+02]]\n",
      "1/1 [==============================] - 0s 10ms/step\n",
      "[[0.0000000e+00 0.0000000e+00 0.0000000e+00 2.3845673e-02 0.0000000e+00\n",
      "  2.3447876e+00 1.1059082e+01 2.0848633e+01 3.0816406e+01 4.0809570e+01\n",
      "  0.0000000e+00 6.0804688e+01 7.0806641e+01 0.0000000e+00 0.0000000e+00\n",
      "  1.0081055e+02 1.1079297e+02 1.2077734e+02 1.3073047e+02 1.4066016e+02\n",
      "  1.5053516e+02 1.6028906e+02 0.0000000e+00 1.7913672e+02 1.8803125e+02]]\n"
     ]
    }
   ],
   "source": [
    "test_input = np.array(df.iloc[4, 0:25].tolist()).reshape(1,25)\n",
    "print(test_input)\n",
    "predictions = model.predict(test_input)\n",
    "print(predictions)"
   ]
  },
  {
   "cell_type": "code",
   "execution_count": 37,
   "metadata": {},
   "outputs": [
    {
     "name": "stdout",
     "output_type": "stream",
     "text": [
      "[[0.00000000e+00 8.26134448e-06 1.16735040e-03 4.32419413e-02\n",
      "  6.15213597e-01 3.89928410e+00 1.20584680e+01 2.16545579e+01\n",
      "  3.15716887e+01 4.15548743e+01 5.15514116e+01 6.15506430e+01\n",
      "  7.15502734e+01 8.15493317e+01 9.15460809e+01 1.01536207e+02\n",
      "  1.11510200e+02 1.21449955e+02 1.31325424e+02 1.41092562e+02\n",
      "  1.50693714e+02 1.60060874e+02 1.69121249e+02 1.77803916e+02\n",
      "  1.86046131e+02]]\n",
      "1/1 [==============================] - 0s 10ms/step\n",
      "[[0.0000000e+00 0.0000000e+00 0.0000000e+00 2.3845673e-02 0.0000000e+00\n",
      "  2.3447876e+00 1.1059082e+01 2.0848633e+01 3.0816406e+01 4.0809570e+01\n",
      "  0.0000000e+00 6.0804688e+01 7.0806641e+01 0.0000000e+00 0.0000000e+00\n",
      "  1.0081055e+02 1.1079297e+02 1.2077734e+02 1.3073047e+02 1.4066016e+02\n",
      "  1.5053516e+02 1.6028906e+02 0.0000000e+00 1.7913672e+02 1.8803125e+02]]\n"
     ]
    }
   ],
   "source": [
    "test_input = np.array(df.iloc[90002, 0:25].tolist()).reshape(1,25)\n",
    "print(test_input)\n",
    "predictions = model.predict(test_input)\n",
    "print(predictions)"
   ]
  }
 ],
 "metadata": {
  "kernelspec": {
   "display_name": "tf",
   "language": "python",
   "name": "python3"
  },
  "language_info": {
   "codemirror_mode": {
    "name": "ipython",
    "version": 3
   },
   "file_extension": ".py",
   "mimetype": "text/x-python",
   "name": "python",
   "nbconvert_exporter": "python",
   "pygments_lexer": "ipython3",
   "version": "3.9.16"
  },
  "orig_nbformat": 4
 },
 "nbformat": 4,
 "nbformat_minor": 2
}
