{
 "cells": [
  {
   "cell_type": "code",
   "execution_count": 1,
   "metadata": {},
   "outputs": [
    {
     "name": "stdout",
     "output_type": "stream",
     "text": [
      "TensorFlow version: 2.10.1\n"
     ]
    }
   ],
   "source": [
    "import numpy as np\n",
    "import pandas as pd\n",
    "import tensorflow as tf\n",
    "import matplotlib.pyplot as plt\n",
    "import time\n",
    "\n",
    "from sklearn.model_selection import ParameterGrid\n",
    "from sklearn.model_selection import train_test_split\n",
    "\n",
    "\n",
    "import keras\n",
    "import keras.backend as K\n",
    "from keras import models\n",
    "from keras import layers\n",
    "from keras.optimizers import RMSprop\n",
    "from keras.optimizers import Adam\n",
    "from keras.models import Model\n",
    "from keras.layers import Input, Dense\n",
    "\n",
    "\n",
    "import scipy.io as sio\n",
    "\n",
    "import scipy.sparse\n",
    "from mpl_toolkits.mplot3d import Axes3D\n",
    "\n",
    "print(\"TensorFlow version:\", tf.__version__)"
   ]
  },
  {
   "attachments": {},
   "cell_type": "markdown",
   "metadata": {},
   "source": [
    "# Build Neural Network Model"
   ]
  },
  {
   "cell_type": "code",
   "execution_count": 2,
   "metadata": {},
   "outputs": [],
   "source": [
    "def model_1():\n",
    "        network = models.Sequential()\n",
    "        \n",
    "        # define layers of the neural network\n",
    "        network.add(layers.Dense(25, activation='tanh', kernel_initializer='random_normal', use_bias=False, input_dim = 20))\n",
    "        network.add(layers.Dense(25, activation='tanh', kernel_initializer='random_normal',  use_bias=False))\n",
    "        network.add(layers.Dense(25, activation='tanh', kernel_initializer='random_normal',  use_bias=False))\n",
    "        network.add(layers.Dense(20, activation='relu', kernel_initializer='random_uniform', use_bias=False))\n",
    "        # network.add(layers.Dense(4, activation = 'linear',kernel_initializer='random_normal',use_bias=False))\n",
    "        # number of training neurons = 20*25+25*25+25*25+25*20\n",
    "        \n",
    "        # define the optimizer, with different loss function\n",
    "        # network.compile(optimizer = RMSprop(), loss='mean_squared_error', metrics=['mse'])\n",
    "        #network.compile(optimizer=RMSprop(), loss='mean_absolute_percentage_error', metrics=['mse'])  # 'mean_absolute_percentage_error' is another option\n",
    "        network.compile(optimizer=Adam(), loss='mean_squared_error')\n",
    "        return network"
   ]
  },
  {
   "cell_type": "code",
   "execution_count": 6,
   "metadata": {},
   "outputs": [],
   "source": [
    "def model_2():\n",
    "        network = models.Sequential()\n",
    "        \n",
    "        # define layers of the neural network\n",
    "        network.add(layers.Dense(25, activation='tanh', kernel_initializer='random_normal', use_bias=False, input_dim = 100))\n",
    "        network.add(layers.Dense(25, activation='tanh', kernel_initializer='random_normal',  use_bias=False))\n",
    "        network.add(layers.Dense(25, activation='tanh', kernel_initializer='random_normal',  use_bias=False))\n",
    "        network.add(layers.Dense(100, activation='relu', kernel_initializer='random_uniform', use_bias=False))\n",
    "        # network.add(layers.Dense(4, activation = 'linear',kernel_initializer='random_normal',use_bias=False))\n",
    "        # number of training neurons = 20*25+25*25+25*25+25*20\n",
    "        \n",
    "        # define the optimizer, with different loss function\n",
    "        # network.compile(optimizer = RMSprop(), loss='mean_squared_error', metrics=['mse'])\n",
    "        #network.compile(optimizer=RMSprop(), loss='mean_absolute_percentage_error', metrics=['mse'])  # 'mean_absolute_percentage_error' is another option\n",
    "        network.compile(optimizer=Adam(), loss='mean_squared_error')\n",
    "        return network"
   ]
  },
  {
   "cell_type": "code",
   "execution_count": 4,
   "metadata": {},
   "outputs": [],
   "source": [
    "def model_3():\n",
    "        network = models.Sequential()\n",
    "        \n",
    "        # define layers of the neural network\n",
    "        network.add(layers.Dense(25, activation='tanh', kernel_initializer='random_normal', use_bias=False, input_dim = 20))\n",
    "        network.add(layers.Dense(25, activation='tanh', kernel_initializer='random_normal',  use_bias=False))\n",
    "        network.add(layers.Dense(25, activation='tanh', kernel_initializer='random_normal',  use_bias=False))\n",
    "        # network.add(layers.Dense(20, activation='relu', kernel_initializer='random_uniform', use_bias=False))\n",
    "        # network.add(layers.Dense(4, activation = 'linear',kernel_initializer='random_normal',use_bias=False))\n",
    "        # number of training neurons = 20*25+25*25+25*25+25*20\n",
    "        \n",
    "        # define the optimizer, with different loss function\n",
    "        # network.compile(optimizer = RMSprop(), loss='mean_squared_error', metrics=['mse'])\n",
    "        #network.compile(optimizer=RMSprop(), loss='mean_absolute_percentage_error', metrics=['mse'])  # 'mean_absolute_percentage_error' is another option\n",
    "        network.compile(optimizer=Adam(), loss='mean_squared_error')\n",
    "        return network"
   ]
  },
  {
   "attachments": {},
   "cell_type": "markdown",
   "metadata": {},
   "source": [
    "# Neural Network of Non-linear equation"
   ]
  },
  {
   "cell_type": "code",
   "execution_count": 4,
   "metadata": {},
   "outputs": [
    {
     "name": "stdout",
     "output_type": "stream",
     "text": [
      "Epoch 1/20\n",
      "1125/1125 - 4s - loss: 0.4895 - val_loss: 0.0033 - 4s/epoch - 4ms/step\n",
      "Epoch 2/20\n",
      "1125/1125 - 2s - loss: 8.7836e-04 - val_loss: 2.9462e-04 - 2s/epoch - 1ms/step\n",
      "Epoch 3/20\n",
      "1125/1125 - 2s - loss: 1.7252e-04 - val_loss: 1.1765e-04 - 2s/epoch - 1ms/step\n",
      "Epoch 4/20\n",
      "1125/1125 - 2s - loss: 8.4459e-05 - val_loss: 4.9622e-05 - 2s/epoch - 1ms/step\n",
      "Epoch 5/20\n",
      "1125/1125 - 1s - loss: 4.4065e-05 - val_loss: 2.3679e-05 - 1s/epoch - 1ms/step\n",
      "Epoch 6/20\n",
      "1125/1125 - 1s - loss: 3.0463e-05 - val_loss: 1.3055e-05 - 1s/epoch - 1ms/step\n",
      "Epoch 7/20\n",
      "1125/1125 - 1s - loss: 2.6277e-05 - val_loss: 1.7590e-05 - 1s/epoch - 1ms/step\n",
      "Epoch 8/20\n",
      "1125/1125 - 1s - loss: 1.7005e-05 - val_loss: 2.2949e-05 - 1s/epoch - 1ms/step\n",
      "Epoch 9/20\n",
      "1125/1125 - 2s - loss: 1.7479e-05 - val_loss: 9.5637e-06 - 2s/epoch - 1ms/step\n",
      "Epoch 10/20\n",
      "1125/1125 - 1s - loss: 2.3223e-05 - val_loss: 3.9544e-06 - 1s/epoch - 1ms/step\n",
      "Epoch 11/20\n",
      "1125/1125 - 1s - loss: 1.0491e-05 - val_loss: 9.3407e-06 - 1s/epoch - 1ms/step\n",
      "Epoch 12/20\n",
      "1125/1125 - 2s - loss: 1.4496e-05 - val_loss: 9.2433e-06 - 2s/epoch - 1ms/step\n",
      "Epoch 13/20\n",
      "1125/1125 - 1s - loss: 1.3952e-05 - val_loss: 5.8275e-06 - 1s/epoch - 1ms/step\n",
      "Epoch 14/20\n",
      "1125/1125 - 1s - loss: 1.2412e-05 - val_loss: 4.7365e-06 - 1s/epoch - 1ms/step\n",
      "Epoch 15/20\n",
      "1125/1125 - 2s - loss: 1.0628e-05 - val_loss: 1.0978e-05 - 2s/epoch - 1ms/step\n",
      "Epoch 16/20\n",
      "1125/1125 - 1s - loss: 1.0520e-05 - val_loss: 4.3572e-06 - 1s/epoch - 1ms/step\n",
      "Epoch 17/20\n",
      "1125/1125 - 1s - loss: 1.2514e-05 - val_loss: 1.0042e-05 - 1s/epoch - 1ms/step\n",
      "Epoch 18/20\n",
      "1125/1125 - 1s - loss: 1.0038e-05 - val_loss: 2.7839e-06 - 1s/epoch - 1ms/step\n",
      "Epoch 19/20\n",
      "1125/1125 - 1s - loss: 1.1295e-05 - val_loss: 2.3070e-06 - 1s/epoch - 1ms/step\n",
      "Epoch 20/20\n",
      "1125/1125 - 1s - loss: 7.8710e-06 - val_loss: 1.3956e-05 - 1s/epoch - 1ms/step\n"
     ]
    }
   ],
   "source": [
    "# testing neural network\n",
    "# df = pd.read_csv(\"1000sample.csv\")\n",
    "df = pd.read_csv(\"test_sample.csv\")\n",
    "\n",
    "with tf.device(device_name='/GPU:0'):\n",
    "    \n",
    "    model = model_1()\n",
    "    input_data = []\n",
    "    output_data = []\n",
    "    for k in range(20):\n",
    "        input_data.append(f'input{k}')\n",
    "        output_data.append(f'output{k}')\n",
    "        pass\n",
    "    X = df[input_data]\n",
    "    y = df[output_data]\n",
    "    \n",
    "    start_time = time.time()\n",
    "    X_train, X_test, y_train, y_test = train_test_split(X, y, test_size=0.1, random_state = 7)\n",
    "    history_full = model.fit(X_train, y_train, batch_size = 64, epochs = 20, verbose = 2, validation_split=0.2) # set batch size to 1\n",
    "    end_time = time.time()\n",
    "    pass"
   ]
  },
  {
   "cell_type": "code",
   "execution_count": 5,
   "metadata": {},
   "outputs": [
    {
     "data": {
      "image/png": "[encoded data removed]",
      "text/plain": [
       "<Figure size 640x480 with 1 Axes>"
      ]
     },
     "metadata": {},
     "output_type": "display_data"
    },
    {
     "name": "stdout",
     "output_type": "stream",
     "text": [
      "313/313 [==============================] - 0s 956us/step - loss: 1.3830e-05\n"
     ]
    },
    {
     "data": {
      "text/plain": [
       "1.3830192074237857e-05"
      ]
     },
     "execution_count": 5,
     "metadata": {},
     "output_type": "execute_result"
    }
   ],
   "source": [
    "plt.plot(history_full.history['val_loss'])\n",
    "plt.title('Model validation loss')\n",
    "plt.ylabel('Validation Loss')\n",
    "plt.xlabel('Epoch')\n",
    "plt.legend(['Error', 'Test'], loc='upper left')\n",
    "plt.show()\n",
    "X_test_full = X_test\n",
    "y_test_full = y_test\n",
    "print(\"the testing error is: \", model.evaluate(x = X_test, y = y_test))"
   ]
  },
  {
   "attachments": {},
   "cell_type": "markdown",
   "metadata": {},
   "source": [
    "# Neural Network of BS equation"
   ]
  },
  {
   "cell_type": "code",
   "execution_count": 7,
   "metadata": {},
   "outputs": [
    {
     "name": "stdout",
     "output_type": "stream",
     "text": [
      "Epoch 1/20\n",
      "1125/1125 - 5s - loss: 8977.8984 - val_loss: 7787.2852 - 5s/epoch - 4ms/step\n",
      "Epoch 2/20\n",
      "1125/1125 - 3s - loss: 6895.9253 - val_loss: 6111.4482 - 3s/epoch - 3ms/step\n",
      "Epoch 3/20\n",
      "1125/1125 - 3s - loss: 5507.6255 - val_loss: 4978.0874 - 3s/epoch - 3ms/step\n",
      "Epoch 4/20\n",
      "1125/1125 - 3s - loss: 4577.8467 - val_loss: 4231.7876 - 3s/epoch - 3ms/step\n",
      "Epoch 5/20\n",
      "1125/1125 - 3s - loss: 3979.9927 - val_loss: 3767.4111 - 3s/epoch - 2ms/step\n",
      "Epoch 6/20\n",
      "1125/1125 - 3s - loss: 3621.8601 - val_loss: 3503.6023 - 3s/epoch - 2ms/step\n",
      "Epoch 7/20\n",
      "1125/1125 - 3s - loss: 3430.3909 - val_loss: 3374.8123 - 3s/epoch - 2ms/step\n",
      "Epoch 8/20\n",
      "1125/1125 - 3s - loss: 3346.2961 - val_loss: 3327.2305 - 3s/epoch - 2ms/step\n",
      "Epoch 9/20\n",
      "1125/1125 - 3s - loss: 3320.3721 - val_loss: 3316.7178 - 3s/epoch - 2ms/step\n",
      "Epoch 10/20\n",
      "1125/1125 - 3s - loss: 3316.0339 - val_loss: 3315.7732 - 3s/epoch - 2ms/step\n",
      "Epoch 11/20\n",
      "1125/1125 - 3s - loss: 3315.7664 - val_loss: 3315.7568 - 3s/epoch - 2ms/step\n",
      "Epoch 12/20\n",
      "1125/1125 - 3s - loss: 3315.7651 - val_loss: 3315.7568 - 3s/epoch - 2ms/step\n",
      "Epoch 13/20\n",
      "1125/1125 - 3s - loss: 3315.7664 - val_loss: 3315.7568 - 3s/epoch - 2ms/step\n",
      "Epoch 14/20\n",
      "1125/1125 - 3s - loss: 3315.7620 - val_loss: 3315.7568 - 3s/epoch - 3ms/step\n",
      "Epoch 15/20\n",
      "1125/1125 - 3s - loss: 3315.7668 - val_loss: 3315.7563 - 3s/epoch - 3ms/step\n",
      "Epoch 16/20\n",
      "1125/1125 - 3s - loss: 3315.7666 - val_loss: 3315.7573 - 3s/epoch - 3ms/step\n",
      "Epoch 17/20\n",
      "1125/1125 - 3s - loss: 3315.7649 - val_loss: 3315.7576 - 3s/epoch - 3ms/step\n",
      "Epoch 18/20\n",
      "1125/1125 - 3s - loss: 3315.7622 - val_loss: 3315.7568 - 3s/epoch - 3ms/step\n",
      "Epoch 19/20\n",
      "1125/1125 - 3s - loss: 3315.7673 - val_loss: 3315.7573 - 3s/epoch - 3ms/step\n",
      "Epoch 20/20\n",
      "1125/1125 - 3s - loss: 3315.7651 - val_loss: 3315.7578 - 3s/epoch - 3ms/step\n"
     ]
    }
   ],
   "source": [
    "df = pd.read_csv(\"100000sample.csv\")\n",
    "# df = pd.read_csv(\"test_sample.csv\")\n",
    "\n",
    "with tf.device(device_name='/GPU:0'):\n",
    "    \n",
    "    model = model_2()\n",
    "    input_data = []\n",
    "    output_data = []\n",
    "    for k in range(100):\n",
    "        input_data.append(f'input{k}')\n",
    "        output_data.append(f'output{k}')\n",
    "        pass\n",
    "    X = df[input_data]\n",
    "    y = df[output_data]\n",
    "    \n",
    "    start_time = time.time()\n",
    "    X_train, X_test, y_train, y_test = train_test_split(X, y, test_size=0.1, random_state = 7)\n",
    "    history_full = model.fit(X_train, y_train, batch_size = 64, epochs = 20, verbose = 2, validation_split=0.2) # set batch size to 1\n",
    "    end_time = time.time()\n",
    "    pass"
   ]
  },
  {
   "cell_type": "code",
   "execution_count": 8,
   "metadata": {},
   "outputs": [
    {
     "data": {
      "image/png": "[encoded data removed]",
      "text/plain": [
       "<Figure size 640x480 with 1 Axes>"
      ]
     },
     "metadata": {},
     "output_type": "display_data"
    },
    {
     "name": "stdout",
     "output_type": "stream",
     "text": [
      "313/313 [==============================] - 1s 2ms/step - loss: 3315.6172\n",
      "the testing error is:  3315.6171875\n"
     ]
    }
   ],
   "source": [
    "plt.plot(history_full.history['val_loss'])\n",
    "plt.title('Model validation loss')\n",
    "plt.ylabel('Validation Loss')\n",
    "plt.xlabel('Epoch')\n",
    "plt.legend(['Error', 'Test'], loc='upper left')\n",
    "plt.show()\n",
    "X_test_full = X_test\n",
    "y_test_full = y_test\n",
    "print(\"the testing error is: \", model.evaluate(x = X_test, y = y_test))"
   ]
  }
 ],
 "metadata": {
  "kernelspec": {
   "display_name": "tf",
   "language": "python",
   "name": "python3"
  },
  "language_info": {
   "codemirror_mode": {
    "name": "ipython",
    "version": 3
   },
   "file_extension": ".py",
   "mimetype": "text/x-python",
   "name": "python",
   "nbconvert_exporter": "python",
   "pygments_lexer": "ipython3",
   "version": "3.9.16"
  },
  "orig_nbformat": 4
 },
 "nbformat": 4,
 "nbformat_minor": 2
}
